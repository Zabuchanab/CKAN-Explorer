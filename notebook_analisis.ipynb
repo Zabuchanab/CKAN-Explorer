{
 "cells": [
  {
   "cell_type": "code",
   "execution_count": 4,
   "metadata": {},
   "outputs": [],
   "source": [
    "import pandas as pd \n",
    "import numpy as np\n",
    "import plotly_express as px\n",
    "import requests\n",
    "import json\n",
    "import nltk\n",
    "from wordcloud import WordCloud\n",
    "import matplotlib.pyplot as plt\n",
    "import seaborn as sns \n",
    "from wordcloud import WordCloud, STOPWORDS\n",
    "import matplotlib.pyplot as plt\n",
    "import seaborn as sns\n",
    "from nltk.corpus import stopwords\n",
    "\n",
    "import spacy\n",
    "nlp = spacy.load(\"es_core_news_sm\")"
   ]
  },
  {
   "attachments": {},
   "cell_type": "markdown",
   "metadata": {},
   "source": [
    "## **EXTRACCIÓN.**"
   ]
  },
  {
   "cell_type": "code",
   "execution_count": 5,
   "metadata": {},
   "outputs": [],
   "source": [
    "#Lectura de los portales de datos de provincias de Argentina\n",
    "df_portales_provincias = pd.read_csv('https://docs.google.com/spreadsheets/d/e/2PACX-1vQa-vbZBCbYKkvhfxIkz2YqBm4jSG-zEuxRJbRHqw79r2NvYPINfpPvfMQGe6KBGvK7lR3XGjwjEVE6/pub?gid=0&single=true&output=csv')\n",
    "\n",
    "#Filtro por las provincias que funcionan\n",
    "df_portales_provincias = df_portales_provincias[df_portales_provincias['CONECTA']=='SI']\n",
    "\n",
    "#Lectura de datos de ciudades\n",
    "df_portales_ciudades = pd.read_csv('https://docs.google.com/spreadsheets/d/e/2PACX-1vQa-vbZBCbYKkvhfxIkz2YqBm4jSG-zEuxRJbRHqw79r2NvYPINfpPvfMQGe6KBGvK7lR3XGjwjEVE6/pub?gid=1408539218&single=true&output=csv')\n",
    "\n",
    "#Filtro por las ciudades que funcionan\n",
    "df_portales_ciudades = df_portales_ciudades[df_portales_ciudades['COMENTARIO']=='FUNCIONA']"
   ]
  },
  {
   "attachments": {},
   "cell_type": "markdown",
   "metadata": {},
   "source": [
    "#### *Funciones de mútliples consultas para extracción - DATASETS, TAGS, GRUPOS, ORGANIZACIONES*"
   ]
  },
  {
   "cell_type": "code",
   "execution_count": 4,
   "metadata": {},
   "outputs": [],
   "source": [
    "def funcion_consulta(lugar:str,url:str,endpoint:str) -> pd.DataFrame:\n",
    "    try: \n",
    "        url = f'{url}/api/action/{endpoint}'\n",
    "        response = requests.request(method='GET',url=url).json()['result']\n",
    "        print(f'Se generó la extracción para {lugar}: {len(response)} {endpoint} totales')\n",
    "        return [lugar,response,len(response)]\n",
    "    except:\n",
    "        print(f'No se pudo para {lugar}')\n",
    "        return [lugar,response,0]\n",
    "    \n",
    "def multiples_consultas(df:pd.DataFrame,endpoint:str) -> pd.DataFrame:\n",
    "\n",
    "    print(F'\\nEXTRACCIÓN DE {endpoint.upper()}\\n')\n",
    "\n",
    "    resultado = []\n",
    "\n",
    "    for lugar in df.itertuples():\n",
    "        try:\n",
    "            registro = funcion_consulta(lugar=lugar[2],url=lugar[3],endpoint=endpoint)\n",
    "            resultado.append(registro)\n",
    "        except:\n",
    "            print(f'No se pudo para {lugar}')\n",
    "\n",
    "    return pd.DataFrame(resultado,columns=['LUGAR',f'RESPUESTA_{endpoint}','CANTIDAD'])"
   ]
  },
  {
   "attachments": {},
   "cell_type": "markdown",
   "metadata": {},
   "source": [
    "#### *Extracción - provincias.*"
   ]
  },
  {
   "cell_type": "code",
   "execution_count": 4,
   "metadata": {},
   "outputs": [
    {
     "name": "stdout",
     "output_type": "stream",
     "text": [
      "\n",
      "EXTRACCIÓN DE TAG_LIST\n",
      "\n",
      "Se generó la extracción para CABA: 371 tag_list totales\n",
      "Se generó la extracción para BUENOS AIRES: 116 tag_list totales\n",
      "Se generó la extracción para CORDOBA: 41 tag_list totales\n",
      "Se generó la extracción para CHACO: 24 tag_list totales\n",
      "Se generó la extracción para MENDOZA: 470 tag_list totales\n",
      "Se generó la extracción para NEUQUEN: 98 tag_list totales\n",
      "Se generó la extracción para SANTA FE: 138 tag_list totales\n",
      "Se generó la extracción para TUCUMAN: 484 tag_list totales\n",
      "\n",
      "EXTRACCIÓN DE PACKAGE_LIST\n",
      "\n",
      "Se generó la extracción para CABA: 430 package_list totales\n",
      "Se generó la extracción para BUENOS AIRES: 69 package_list totales\n",
      "Se generó la extracción para CORDOBA: 630 package_list totales\n",
      "Se generó la extracción para CHACO: 9 package_list totales\n",
      "Se generó la extracción para MENDOZA: 195 package_list totales\n",
      "Se generó la extracción para NEUQUEN: 19 package_list totales\n",
      "Se generó la extracción para SANTA FE: 142 package_list totales\n",
      "Se generó la extracción para TUCUMAN: 188 package_list totales\n",
      "\n",
      "EXTRACCIÓN DE GROUP_LIST\n",
      "\n",
      "Se generó la extracción para CABA: 12 group_list totales\n",
      "Se generó la extracción para BUENOS AIRES: 12 group_list totales\n",
      "Se generó la extracción para CORDOBA: 11 group_list totales\n",
      "Se generó la extracción para CHACO: 20 group_list totales\n",
      "Se generó la extracción para MENDOZA: 14 group_list totales\n",
      "Se generó la extracción para NEUQUEN: 10 group_list totales\n",
      "Se generó la extracción para SANTA FE: 10 group_list totales\n",
      "Se generó la extracción para TUCUMAN: 31 group_list totales\n",
      "\n",
      "EXTRACCIÓN DE ORGANIZATION_LIST\n",
      "\n",
      "Se generó la extracción para CABA: 37 organization_list totales\n",
      "Se generó la extracción para BUENOS AIRES: 22 organization_list totales\n",
      "Se generó la extracción para CORDOBA: 6 organization_list totales\n",
      "Se generó la extracción para CHACO: 36 organization_list totales\n",
      "Se generó la extracción para MENDOZA: 32 organization_list totales\n",
      "Se generó la extracción para NEUQUEN: 13 organization_list totales\n",
      "Se generó la extracción para SANTA FE: 19 organization_list totales\n",
      "Se generó la extracción para TUCUMAN: 93 organization_list totales\n"
     ]
    }
   ],
   "source": [
    "df_tags_provincias = multiples_consultas(df_portales_provincias,endpoint='tag_list')\n",
    "df_datasets_provincias = multiples_consultas(df_portales_provincias,endpoint='package_list')\n",
    "df_grupos_provincias = multiples_consultas(df_portales_provincias,endpoint='group_list')\n",
    "df_organizaciones_provincias = multiples_consultas(df_portales_provincias,endpoint='organization_list')"
   ]
  },
  {
   "attachments": {},
   "cell_type": "markdown",
   "metadata": {},
   "source": [
    "#### *Extracción - ciudades.*"
   ]
  },
  {
   "cell_type": "code",
   "execution_count": 5,
   "metadata": {},
   "outputs": [
    {
     "name": "stdout",
     "output_type": "stream",
     "text": [
      "\n",
      "EXTRACCIÓN DE PACKAGE_LIST\n",
      "\n",
      "Se generó la extracción para CABA: 430 package_list totales\n",
      "Se generó la extracción para CORDOBA: 69 package_list totales\n",
      "Se generó la extracción para BAHIA BLANCA: 240 package_list totales\n",
      "Se generó la extracción para MERCEDES: 306 package_list totales\n",
      "Se generó la extracción para NEUQUEN: 19 package_list totales\n",
      "Se generó la extracción para RAFAELA: 15 package_list totales\n",
      "Se generó la extracción para RIVADAVIA: 0 package_list totales\n",
      "Se generó la extracción para MENDOZA: 179 package_list totales\n",
      "Se generó la extracción para TIGRE: 141 package_list totales\n",
      "Se generó la extracción para CORRIENTES: 55 package_list totales\n",
      "Se generó la extracción para LINCOLN: 142 package_list totales\n",
      "Se generó la extracción para SAN LUIS: 9 package_list totales\n",
      "Se generó la extracción para SANTA ROSA: 0 package_list totales\n",
      "Se generó la extracción para GENERAL ALVARADO: 0 package_list totales\n",
      "Se generó la extracción para PERGAMINO: 112 package_list totales\n",
      "Se generó la extracción para EZEIZA: 0 package_list totales\n",
      "\n",
      "EXTRACCIÓN DE TAG_LIST\n",
      "\n",
      "Se generó la extracción para CABA: 371 tag_list totales\n",
      "Se generó la extracción para CORDOBA: 116 tag_list totales\n",
      "Se generó la extracción para BAHIA BLANCA: 232 tag_list totales\n",
      "Se generó la extracción para MERCEDES: 111 tag_list totales\n",
      "Se generó la extracción para NEUQUEN: 98 tag_list totales\n",
      "Se generó la extracción para RAFAELA: 11 tag_list totales\n",
      "Se generó la extracción para RIVADAVIA: 0 tag_list totales\n",
      "Se generó la extracción para MENDOZA: 199 tag_list totales\n",
      "Se generó la extracción para TIGRE: 75 tag_list totales\n",
      "Se generó la extracción para CORRIENTES: 185 tag_list totales\n",
      "Se generó la extracción para LINCOLN: 191 tag_list totales\n",
      "Se generó la extracción para SAN LUIS: 4 tag_list totales\n",
      "Se generó la extracción para SANTA ROSA: 0 tag_list totales\n",
      "Se generó la extracción para GENERAL ALVARADO: 0 tag_list totales\n",
      "Se generó la extracción para PERGAMINO: 275 tag_list totales\n",
      "Se generó la extracción para EZEIZA: 0 tag_list totales\n",
      "\n",
      "EXTRACCIÓN DE GROUP_LIST\n",
      "\n",
      "Se generó la extracción para CABA: 12 group_list totales\n",
      "Se generó la extracción para CORDOBA: 12 group_list totales\n",
      "Se generó la extracción para BAHIA BLANCA: 18 group_list totales\n",
      "Se generó la extracción para MERCEDES: 19 group_list totales\n",
      "Se generó la extracción para NEUQUEN: 10 group_list totales\n",
      "Se generó la extracción para RAFAELA: 0 group_list totales\n",
      "Se generó la extracción para RIVADAVIA: 0 group_list totales\n",
      "Se generó la extracción para MENDOZA: 14 group_list totales\n",
      "Se generó la extracción para TIGRE: 16 group_list totales\n",
      "Se generó la extracción para CORRIENTES: 7 group_list totales\n",
      "Se generó la extracción para LINCOLN: 11 group_list totales\n",
      "Se generó la extracción para SAN LUIS: 4 group_list totales\n",
      "Se generó la extracción para SANTA ROSA: 0 group_list totales\n",
      "Se generó la extracción para GENERAL ALVARADO: 0 group_list totales\n",
      "Se generó la extracción para PERGAMINO: 16 group_list totales\n",
      "Se generó la extracción para EZEIZA: 2 group_list totales\n",
      "\n",
      "EXTRACCIÓN DE ORGANIZATION_LIST\n",
      "\n",
      "Se generó la extracción para CABA: 37 organization_list totales\n",
      "Se generó la extracción para CORDOBA: 22 organization_list totales\n",
      "Se generó la extracción para BAHIA BLANCA: 14 organization_list totales\n",
      "Se generó la extracción para MERCEDES: 15 organization_list totales\n",
      "Se generó la extracción para NEUQUEN: 13 organization_list totales\n",
      "Se generó la extracción para RAFAELA: 1 organization_list totales\n",
      "Se generó la extracción para RIVADAVIA: 0 organization_list totales\n",
      "Se generó la extracción para MENDOZA: 33 organization_list totales\n",
      "Se generó la extracción para TIGRE: 2 organization_list totales\n",
      "Se generó la extracción para CORRIENTES: 19 organization_list totales\n",
      "Se generó la extracción para LINCOLN: 12 organization_list totales\n",
      "Se generó la extracción para SAN LUIS: 11 organization_list totales\n",
      "Se generó la extracción para SANTA ROSA: 0 organization_list totales\n",
      "Se generó la extracción para GENERAL ALVARADO: 6 organization_list totales\n",
      "Se generó la extracción para PERGAMINO: 44 organization_list totales\n",
      "Se generó la extracción para EZEIZA: 3 organization_list totales\n"
     ]
    }
   ],
   "source": [
    "df_datasets_ciudades = multiples_consultas(df_portales_ciudades,endpoint='package_list')\n",
    "df_tags_ciudades = multiples_consultas(df_portales_ciudades,endpoint='tag_list')\n",
    "df_grupos_ciudades = multiples_consultas(df_portales_ciudades,endpoint='group_list')\n",
    "df_organizaciones_ciudades = multiples_consultas(df_portales_ciudades,endpoint='organization_list')"
   ]
  },
  {
   "attachments": {},
   "cell_type": "markdown",
   "metadata": {},
   "source": [
    "## **ANÁLISIS EXPLORATORIO**"
   ]
  },
  {
   "attachments": {},
   "cell_type": "markdown",
   "metadata": {},
   "source": [
    "### Análisis de la frecuencia de portales y datasets por provincia."
   ]
  },
  {
   "cell_type": "code",
   "execution_count": 16,
   "metadata": {},
   "outputs": [
    {
     "data": {
      "application/vnd.plotly.v1+json": {
       "config": {
        "plotlyServerURL": "https://plot.ly"
       },
       "data": [
        {
         "marker": {
          "color": "darkred"
         },
         "name": "Datasets totales por provincia",
         "offset": -0.3,
         "text": [
          941,
          430,
          179,
          69,
          55,
          19,
          15,
          9
         ],
         "type": "bar",
         "width": 0.3,
         "x": [
          "BUENOS AIRES",
          "CABA",
          "MENDOZA",
          "CORDOBA",
          "CORRIENTES",
          "RIO NEGRO",
          "SANTA FE ",
          "SAN LUIS"
         ],
         "xaxis": "x",
         "y": [
          941,
          430,
          179,
          69,
          55,
          19,
          15,
          9
         ],
         "yaxis": "y2"
        },
        {
         "marker": {
          "color": "darkblue"
         },
         "name": "Portales de datos por provincia",
         "offset": 0,
         "text": [
          8,
          2,
          1,
          1,
          1,
          1,
          1,
          1
         ],
         "type": "bar",
         "width": 0.3,
         "x": [
          "BUENOS AIRES",
          "CORRIENTES",
          "CABA",
          "CORDOBA",
          "MENDOZA",
          "RIO NEGRO",
          "SAN LUIS",
          "SANTA FE "
         ],
         "xaxis": "x",
         "y": [
          8,
          2,
          1,
          1,
          1,
          1,
          1,
          1
         ],
         "yaxis": "y"
        }
       ],
       "layout": {
        "legend": {
         "orientation": "h",
         "x": 0.5,
         "xanchor": "center",
         "y": 1.02,
         "yanchor": "bottom"
        },
        "template": {
         "data": {
          "bar": [
           {
            "error_x": {
             "color": "rgb(36,36,36)"
            },
            "error_y": {
             "color": "rgb(36,36,36)"
            },
            "marker": {
             "line": {
              "color": "rgb(234,234,242)",
              "width": 0.5
             },
             "pattern": {
              "fillmode": "overlay",
              "size": 10,
              "solidity": 0.2
             }
            },
            "type": "bar"
           }
          ],
          "barpolar": [
           {
            "marker": {
             "line": {
              "color": "rgb(234,234,242)",
              "width": 0.5
             },
             "pattern": {
              "fillmode": "overlay",
              "size": 10,
              "solidity": 0.2
             }
            },
            "type": "barpolar"
           }
          ],
          "carpet": [
           {
            "aaxis": {
             "endlinecolor": "rgb(36,36,36)",
             "gridcolor": "white",
             "linecolor": "white",
             "minorgridcolor": "white",
             "startlinecolor": "rgb(36,36,36)"
            },
            "baxis": {
             "endlinecolor": "rgb(36,36,36)",
             "gridcolor": "white",
             "linecolor": "white",
             "minorgridcolor": "white",
             "startlinecolor": "rgb(36,36,36)"
            },
            "type": "carpet"
           }
          ],
          "choropleth": [
           {
            "colorbar": {
             "outlinewidth": 0,
             "tickcolor": "rgb(36,36,36)",
             "ticklen": 8,
             "ticks": "outside",
             "tickwidth": 2
            },
            "type": "choropleth"
           }
          ],
          "contour": [
           {
            "colorbar": {
             "outlinewidth": 0,
             "tickcolor": "rgb(36,36,36)",
             "ticklen": 8,
             "ticks": "outside",
             "tickwidth": 2
            },
            "colorscale": [
             [
              0,
              "rgb(2,4,25)"
             ],
             [
              0.06274509803921569,
              "rgb(24,15,41)"
             ],
             [
              0.12549019607843137,
              "rgb(47,23,57)"
             ],
             [
              0.18823529411764706,
              "rgb(71,28,72)"
             ],
             [
              0.25098039215686274,
              "rgb(97,30,82)"
             ],
             [
              0.3137254901960784,
              "rgb(123,30,89)"
             ],
             [
              0.3764705882352941,
              "rgb(150,27,91)"
             ],
             [
              0.4392156862745098,
              "rgb(177,22,88)"
             ],
             [
              0.5019607843137255,
              "rgb(203,26,79)"
             ],
             [
              0.5647058823529412,
              "rgb(223,47,67)"
             ],
             [
              0.6274509803921569,
              "rgb(236,76,61)"
             ],
             [
              0.6901960784313725,
              "rgb(242,107,73)"
             ],
             [
              0.7529411764705882,
              "rgb(244,135,95)"
             ],
             [
              0.8156862745098039,
              "rgb(245,162,122)"
             ],
             [
              0.8784313725490196,
              "rgb(246,188,153)"
             ],
             [
              0.9411764705882353,
              "rgb(247,212,187)"
             ],
             [
              1,
              "rgb(250,234,220)"
             ]
            ],
            "type": "contour"
           }
          ],
          "contourcarpet": [
           {
            "colorbar": {
             "outlinewidth": 0,
             "tickcolor": "rgb(36,36,36)",
             "ticklen": 8,
             "ticks": "outside",
             "tickwidth": 2
            },
            "type": "contourcarpet"
           }
          ],
          "heatmap": [
           {
            "colorbar": {
             "outlinewidth": 0,
             "tickcolor": "rgb(36,36,36)",
             "ticklen": 8,
             "ticks": "outside",
             "tickwidth": 2
            },
            "colorscale": [
             [
              0,
              "rgb(2,4,25)"
             ],
             [
              0.06274509803921569,
              "rgb(24,15,41)"
             ],
             [
              0.12549019607843137,
              "rgb(47,23,57)"
             ],
             [
              0.18823529411764706,
              "rgb(71,28,72)"
             ],
             [
              0.25098039215686274,
              "rgb(97,30,82)"
             ],
             [
              0.3137254901960784,
              "rgb(123,30,89)"
             ],
             [
              0.3764705882352941,
              "rgb(150,27,91)"
             ],
             [
              0.4392156862745098,
              "rgb(177,22,88)"
             ],
             [
              0.5019607843137255,
              "rgb(203,26,79)"
             ],
             [
              0.5647058823529412,
              "rgb(223,47,67)"
             ],
             [
              0.6274509803921569,
              "rgb(236,76,61)"
             ],
             [
              0.6901960784313725,
              "rgb(242,107,73)"
             ],
             [
              0.7529411764705882,
              "rgb(244,135,95)"
             ],
             [
              0.8156862745098039,
              "rgb(245,162,122)"
             ],
             [
              0.8784313725490196,
              "rgb(246,188,153)"
             ],
             [
              0.9411764705882353,
              "rgb(247,212,187)"
             ],
             [
              1,
              "rgb(250,234,220)"
             ]
            ],
            "type": "heatmap"
           }
          ],
          "heatmapgl": [
           {
            "colorbar": {
             "outlinewidth": 0,
             "tickcolor": "rgb(36,36,36)",
             "ticklen": 8,
             "ticks": "outside",
             "tickwidth": 2
            },
            "colorscale": [
             [
              0,
              "rgb(2,4,25)"
             ],
             [
              0.06274509803921569,
              "rgb(24,15,41)"
             ],
             [
              0.12549019607843137,
              "rgb(47,23,57)"
             ],
             [
              0.18823529411764706,
              "rgb(71,28,72)"
             ],
             [
              0.25098039215686274,
              "rgb(97,30,82)"
             ],
             [
              0.3137254901960784,
              "rgb(123,30,89)"
             ],
             [
              0.3764705882352941,
              "rgb(150,27,91)"
             ],
             [
              0.4392156862745098,
              "rgb(177,22,88)"
             ],
             [
              0.5019607843137255,
              "rgb(203,26,79)"
             ],
             [
              0.5647058823529412,
              "rgb(223,47,67)"
             ],
             [
              0.6274509803921569,
              "rgb(236,76,61)"
             ],
             [
              0.6901960784313725,
              "rgb(242,107,73)"
             ],
             [
              0.7529411764705882,
              "rgb(244,135,95)"
             ],
             [
              0.8156862745098039,
              "rgb(245,162,122)"
             ],
             [
              0.8784313725490196,
              "rgb(246,188,153)"
             ],
             [
              0.9411764705882353,
              "rgb(247,212,187)"
             ],
             [
              1,
              "rgb(250,234,220)"
             ]
            ],
            "type": "heatmapgl"
           }
          ],
          "histogram": [
           {
            "marker": {
             "pattern": {
              "fillmode": "overlay",
              "size": 10,
              "solidity": 0.2
             }
            },
            "type": "histogram"
           }
          ],
          "histogram2d": [
           {
            "colorbar": {
             "outlinewidth": 0,
             "tickcolor": "rgb(36,36,36)",
             "ticklen": 8,
             "ticks": "outside",
             "tickwidth": 2
            },
            "colorscale": [
             [
              0,
              "rgb(2,4,25)"
             ],
             [
              0.06274509803921569,
              "rgb(24,15,41)"
             ],
             [
              0.12549019607843137,
              "rgb(47,23,57)"
             ],
             [
              0.18823529411764706,
              "rgb(71,28,72)"
             ],
             [
              0.25098039215686274,
              "rgb(97,30,82)"
             ],
             [
              0.3137254901960784,
              "rgb(123,30,89)"
             ],
             [
              0.3764705882352941,
              "rgb(150,27,91)"
             ],
             [
              0.4392156862745098,
              "rgb(177,22,88)"
             ],
             [
              0.5019607843137255,
              "rgb(203,26,79)"
             ],
             [
              0.5647058823529412,
              "rgb(223,47,67)"
             ],
             [
              0.6274509803921569,
              "rgb(236,76,61)"
             ],
             [
              0.6901960784313725,
              "rgb(242,107,73)"
             ],
             [
              0.7529411764705882,
              "rgb(244,135,95)"
             ],
             [
              0.8156862745098039,
              "rgb(245,162,122)"
             ],
             [
              0.8784313725490196,
              "rgb(246,188,153)"
             ],
             [
              0.9411764705882353,
              "rgb(247,212,187)"
             ],
             [
              1,
              "rgb(250,234,220)"
             ]
            ],
            "type": "histogram2d"
           }
          ],
          "histogram2dcontour": [
           {
            "colorbar": {
             "outlinewidth": 0,
             "tickcolor": "rgb(36,36,36)",
             "ticklen": 8,
             "ticks": "outside",
             "tickwidth": 2
            },
            "colorscale": [
             [
              0,
              "rgb(2,4,25)"
             ],
             [
              0.06274509803921569,
              "rgb(24,15,41)"
             ],
             [
              0.12549019607843137,
              "rgb(47,23,57)"
             ],
             [
              0.18823529411764706,
              "rgb(71,28,72)"
             ],
             [
              0.25098039215686274,
              "rgb(97,30,82)"
             ],
             [
              0.3137254901960784,
              "rgb(123,30,89)"
             ],
             [
              0.3764705882352941,
              "rgb(150,27,91)"
             ],
             [
              0.4392156862745098,
              "rgb(177,22,88)"
             ],
             [
              0.5019607843137255,
              "rgb(203,26,79)"
             ],
             [
              0.5647058823529412,
              "rgb(223,47,67)"
             ],
             [
              0.6274509803921569,
              "rgb(236,76,61)"
             ],
             [
              0.6901960784313725,
              "rgb(242,107,73)"
             ],
             [
              0.7529411764705882,
              "rgb(244,135,95)"
             ],
             [
              0.8156862745098039,
              "rgb(245,162,122)"
             ],
             [
              0.8784313725490196,
              "rgb(246,188,153)"
             ],
             [
              0.9411764705882353,
              "rgb(247,212,187)"
             ],
             [
              1,
              "rgb(250,234,220)"
             ]
            ],
            "type": "histogram2dcontour"
           }
          ],
          "mesh3d": [
           {
            "colorbar": {
             "outlinewidth": 0,
             "tickcolor": "rgb(36,36,36)",
             "ticklen": 8,
             "ticks": "outside",
             "tickwidth": 2
            },
            "type": "mesh3d"
           }
          ],
          "parcoords": [
           {
            "line": {
             "colorbar": {
              "outlinewidth": 0,
              "tickcolor": "rgb(36,36,36)",
              "ticklen": 8,
              "ticks": "outside",
              "tickwidth": 2
             }
            },
            "type": "parcoords"
           }
          ],
          "pie": [
           {
            "automargin": true,
            "type": "pie"
           }
          ],
          "scatter": [
           {
            "fillpattern": {
             "fillmode": "overlay",
             "size": 10,
             "solidity": 0.2
            },
            "type": "scatter"
           }
          ],
          "scatter3d": [
           {
            "line": {
             "colorbar": {
              "outlinewidth": 0,
              "tickcolor": "rgb(36,36,36)",
              "ticklen": 8,
              "ticks": "outside",
              "tickwidth": 2
             }
            },
            "marker": {
             "colorbar": {
              "outlinewidth": 0,
              "tickcolor": "rgb(36,36,36)",
              "ticklen": 8,
              "ticks": "outside",
              "tickwidth": 2
             }
            },
            "type": "scatter3d"
           }
          ],
          "scattercarpet": [
           {
            "marker": {
             "colorbar": {
              "outlinewidth": 0,
              "tickcolor": "rgb(36,36,36)",
              "ticklen": 8,
              "ticks": "outside",
              "tickwidth": 2
             }
            },
            "type": "scattercarpet"
           }
          ],
          "scattergeo": [
           {
            "marker": {
             "colorbar": {
              "outlinewidth": 0,
              "tickcolor": "rgb(36,36,36)",
              "ticklen": 8,
              "ticks": "outside",
              "tickwidth": 2
             }
            },
            "type": "scattergeo"
           }
          ],
          "scattergl": [
           {
            "marker": {
             "colorbar": {
              "outlinewidth": 0,
              "tickcolor": "rgb(36,36,36)",
              "ticklen": 8,
              "ticks": "outside",
              "tickwidth": 2
             }
            },
            "type": "scattergl"
           }
          ],
          "scattermapbox": [
           {
            "marker": {
             "colorbar": {
              "outlinewidth": 0,
              "tickcolor": "rgb(36,36,36)",
              "ticklen": 8,
              "ticks": "outside",
              "tickwidth": 2
             }
            },
            "type": "scattermapbox"
           }
          ],
          "scatterpolar": [
           {
            "marker": {
             "colorbar": {
              "outlinewidth": 0,
              "tickcolor": "rgb(36,36,36)",
              "ticklen": 8,
              "ticks": "outside",
              "tickwidth": 2
             }
            },
            "type": "scatterpolar"
           }
          ],
          "scatterpolargl": [
           {
            "marker": {
             "colorbar": {
              "outlinewidth": 0,
              "tickcolor": "rgb(36,36,36)",
              "ticklen": 8,
              "ticks": "outside",
              "tickwidth": 2
             }
            },
            "type": "scatterpolargl"
           }
          ],
          "scatterternary": [
           {
            "marker": {
             "colorbar": {
              "outlinewidth": 0,
              "tickcolor": "rgb(36,36,36)",
              "ticklen": 8,
              "ticks": "outside",
              "tickwidth": 2
             }
            },
            "type": "scatterternary"
           }
          ],
          "surface": [
           {
            "colorbar": {
             "outlinewidth": 0,
             "tickcolor": "rgb(36,36,36)",
             "ticklen": 8,
             "ticks": "outside",
             "tickwidth": 2
            },
            "colorscale": [
             [
              0,
              "rgb(2,4,25)"
             ],
             [
              0.06274509803921569,
              "rgb(24,15,41)"
             ],
             [
              0.12549019607843137,
              "rgb(47,23,57)"
             ],
             [
              0.18823529411764706,
              "rgb(71,28,72)"
             ],
             [
              0.25098039215686274,
              "rgb(97,30,82)"
             ],
             [
              0.3137254901960784,
              "rgb(123,30,89)"
             ],
             [
              0.3764705882352941,
              "rgb(150,27,91)"
             ],
             [
              0.4392156862745098,
              "rgb(177,22,88)"
             ],
             [
              0.5019607843137255,
              "rgb(203,26,79)"
             ],
             [
              0.5647058823529412,
              "rgb(223,47,67)"
             ],
             [
              0.6274509803921569,
              "rgb(236,76,61)"
             ],
             [
              0.6901960784313725,
              "rgb(242,107,73)"
             ],
             [
              0.7529411764705882,
              "rgb(244,135,95)"
             ],
             [
              0.8156862745098039,
              "rgb(245,162,122)"
             ],
             [
              0.8784313725490196,
              "rgb(246,188,153)"
             ],
             [
              0.9411764705882353,
              "rgb(247,212,187)"
             ],
             [
              1,
              "rgb(250,234,220)"
             ]
            ],
            "type": "surface"
           }
          ],
          "table": [
           {
            "cells": {
             "fill": {
              "color": "rgb(231,231,240)"
             },
             "line": {
              "color": "white"
             }
            },
            "header": {
             "fill": {
              "color": "rgb(183,183,191)"
             },
             "line": {
              "color": "white"
             }
            },
            "type": "table"
           }
          ]
         },
         "layout": {
          "annotationdefaults": {
           "arrowcolor": "rgb(67,103,167)"
          },
          "autotypenumbers": "strict",
          "coloraxis": {
           "colorbar": {
            "outlinewidth": 0,
            "tickcolor": "rgb(36,36,36)",
            "ticklen": 8,
            "ticks": "outside",
            "tickwidth": 2
           }
          },
          "colorscale": {
           "sequential": [
            [
             0,
             "rgb(2,4,25)"
            ],
            [
             0.06274509803921569,
             "rgb(24,15,41)"
            ],
            [
             0.12549019607843137,
             "rgb(47,23,57)"
            ],
            [
             0.18823529411764706,
             "rgb(71,28,72)"
            ],
            [
             0.25098039215686274,
             "rgb(97,30,82)"
            ],
            [
             0.3137254901960784,
             "rgb(123,30,89)"
            ],
            [
             0.3764705882352941,
             "rgb(150,27,91)"
            ],
            [
             0.4392156862745098,
             "rgb(177,22,88)"
            ],
            [
             0.5019607843137255,
             "rgb(203,26,79)"
            ],
            [
             0.5647058823529412,
             "rgb(223,47,67)"
            ],
            [
             0.6274509803921569,
             "rgb(236,76,61)"
            ],
            [
             0.6901960784313725,
             "rgb(242,107,73)"
            ],
            [
             0.7529411764705882,
             "rgb(244,135,95)"
            ],
            [
             0.8156862745098039,
             "rgb(245,162,122)"
            ],
            [
             0.8784313725490196,
             "rgb(246,188,153)"
            ],
            [
             0.9411764705882353,
             "rgb(247,212,187)"
            ],
            [
             1,
             "rgb(250,234,220)"
            ]
           ],
           "sequentialminus": [
            [
             0,
             "rgb(2,4,25)"
            ],
            [
             0.06274509803921569,
             "rgb(24,15,41)"
            ],
            [
             0.12549019607843137,
             "rgb(47,23,57)"
            ],
            [
             0.18823529411764706,
             "rgb(71,28,72)"
            ],
            [
             0.25098039215686274,
             "rgb(97,30,82)"
            ],
            [
             0.3137254901960784,
             "rgb(123,30,89)"
            ],
            [
             0.3764705882352941,
             "rgb(150,27,91)"
            ],
            [
             0.4392156862745098,
             "rgb(177,22,88)"
            ],
            [
             0.5019607843137255,
             "rgb(203,26,79)"
            ],
            [
             0.5647058823529412,
             "rgb(223,47,67)"
            ],
            [
             0.6274509803921569,
             "rgb(236,76,61)"
            ],
            [
             0.6901960784313725,
             "rgb(242,107,73)"
            ],
            [
             0.7529411764705882,
             "rgb(244,135,95)"
            ],
            [
             0.8156862745098039,
             "rgb(245,162,122)"
            ],
            [
             0.8784313725490196,
             "rgb(246,188,153)"
            ],
            [
             0.9411764705882353,
             "rgb(247,212,187)"
            ],
            [
             1,
             "rgb(250,234,220)"
            ]
           ]
          },
          "colorway": [
           "rgb(76,114,176)",
           "rgb(221,132,82)",
           "rgb(85,168,104)",
           "rgb(196,78,82)",
           "rgb(129,114,179)",
           "rgb(147,120,96)",
           "rgb(218,139,195)",
           "rgb(140,140,140)",
           "rgb(204,185,116)",
           "rgb(100,181,205)"
          ],
          "font": {
           "color": "rgb(36,36,36)"
          },
          "geo": {
           "bgcolor": "white",
           "lakecolor": "white",
           "landcolor": "rgb(234,234,242)",
           "showlakes": true,
           "showland": true,
           "subunitcolor": "white"
          },
          "hoverlabel": {
           "align": "left"
          },
          "hovermode": "closest",
          "paper_bgcolor": "white",
          "plot_bgcolor": "rgb(234,234,242)",
          "polar": {
           "angularaxis": {
            "gridcolor": "white",
            "linecolor": "white",
            "showgrid": true,
            "ticks": ""
           },
           "bgcolor": "rgb(234,234,242)",
           "radialaxis": {
            "gridcolor": "white",
            "linecolor": "white",
            "showgrid": true,
            "ticks": ""
           }
          },
          "scene": {
           "xaxis": {
            "backgroundcolor": "rgb(234,234,242)",
            "gridcolor": "white",
            "gridwidth": 2,
            "linecolor": "white",
            "showbackground": true,
            "showgrid": true,
            "ticks": "",
            "zerolinecolor": "white"
           },
           "yaxis": {
            "backgroundcolor": "rgb(234,234,242)",
            "gridcolor": "white",
            "gridwidth": 2,
            "linecolor": "white",
            "showbackground": true,
            "showgrid": true,
            "ticks": "",
            "zerolinecolor": "white"
           },
           "zaxis": {
            "backgroundcolor": "rgb(234,234,242)",
            "gridcolor": "white",
            "gridwidth": 2,
            "linecolor": "white",
            "showbackground": true,
            "showgrid": true,
            "ticks": "",
            "zerolinecolor": "white"
           }
          },
          "shapedefaults": {
           "fillcolor": "rgb(67,103,167)",
           "line": {
            "width": 0
           },
           "opacity": 0.5
          },
          "ternary": {
           "aaxis": {
            "gridcolor": "white",
            "linecolor": "white",
            "showgrid": true,
            "ticks": ""
           },
           "baxis": {
            "gridcolor": "white",
            "linecolor": "white",
            "showgrid": true,
            "ticks": ""
           },
           "bgcolor": "rgb(234,234,242)",
           "caxis": {
            "gridcolor": "white",
            "linecolor": "white",
            "showgrid": true,
            "ticks": ""
           }
          },
          "xaxis": {
           "automargin": true,
           "gridcolor": "white",
           "linecolor": "white",
           "showgrid": true,
           "ticks": "",
           "title": {
            "standoff": 15
           },
           "zerolinecolor": "white"
          },
          "yaxis": {
           "automargin": true,
           "gridcolor": "white",
           "linecolor": "white",
           "showgrid": true,
           "ticks": "",
           "title": {
            "standoff": 15
           },
           "zerolinecolor": "white"
          }
         }
        },
        "title": {
         "text": "Comparación de Portales de Datos y Datasets por Provincia"
        },
        "xaxis": {
         "anchor": "y",
         "domain": [
          0,
          0.94
         ]
        },
        "yaxis": {
         "anchor": "x",
         "color": "darkblue",
         "domain": [
          0,
          1
         ],
         "title": {
          "text": "Cantidad de portales de datos por provincia"
         }
        },
        "yaxis2": {
         "anchor": "x",
         "color": "darkred",
         "overlaying": "y",
         "side": "right",
         "title": {
          "text": "Cantidad acumulada de datasets por provincia"
         }
        }
       }
      }
     },
     "metadata": {},
     "output_type": "display_data"
    }
   ],
   "source": [
    "import plotly.subplots as sp\n",
    "import plotly.graph_objects as go\n",
    "import plotly.io as pio\n",
    "pio.templates.default = 'seaborn'\n",
    "\n",
    "#Frecuencia de los portales por provincia\n",
    "frecuencia_ciudades = df_portales_ciudades.groupby('PROVINCIA')\\\n",
    "    .size()\\\n",
    "        .reset_index(name='frecuencia_absoluta')\\\n",
    "            .sort_values('frecuencia_absoluta',ascending=False)\n",
    "\n",
    "#MERGEO DE TABLAS POR PROVINCIAS CON LA DE RECURSOS ABSOLUTOS.\n",
    "frecuencia_ciudades_mergeada = df_portales_ciudades.merge(right=df_datasets_ciudades,\n",
    "                                                          how='left',\n",
    "                                                          left_on='CIUDAD',\n",
    "                                                          right_on='LUGAR')\n",
    "\n",
    "#GENERO LA TRANSFORMACCIÓN PARA SÓLO QUEDARME CON EL DATO DE LA CANTIDAD TOTAL DE DATASETS POR PROVINCIA\n",
    "frecuencia_ciudades_mergeada = frecuencia_ciudades_mergeada.groupby(by='PROVINCIA').sum().reset_index().sort_values(by='CANTIDAD',ascending=False)[['PROVINCIA','CANTIDAD']]\n",
    "\n",
    "#GENERO LA VISUALIZACIÓN\n",
    "figura = sp.make_subplots(specs=[[{'secondary_y':True}]])\n",
    "\n",
    "figura.add_trace(go.Bar(x=frecuencia_ciudades_mergeada['PROVINCIA'],\n",
    "                        y=frecuencia_ciudades_mergeada['CANTIDAD'],\n",
    "                        name='Datasets totales por provincia',\n",
    "                        marker=dict({'color':'darkred'}),\n",
    "                        offset=-0.3,\n",
    "                        text=frecuencia_ciudades_mergeada['CANTIDAD']\n",
    "                        ),\n",
    "                        secondary_y=True)\n",
    "\n",
    "\n",
    "figura.add_trace(go.Bar(x=frecuencia_ciudades['PROVINCIA'],\n",
    "                        y=frecuencia_ciudades['frecuencia_absoluta'],\n",
    "                        name='Portales de datos por provincia',\n",
    "                        marker=dict({'color':'darkblue'}),\n",
    "                        offset=0,\n",
    "                        text=frecuencia_ciudades['frecuencia_absoluta']\n",
    "                        ),\n",
    "                        secondary_y=False)\n",
    "\n",
    "figura.update_traces(width=0.3) \n",
    "\n",
    "figura.update_yaxes(title_text= 'Cantidad de portales de datos por provincia',color='darkblue',secondary_y=False)\n",
    "figura.update_yaxes(title_text= 'Cantidad acumulada de datasets por provincia',color='darkred',secondary_y=True)\n",
    "figura.update_layout(legend=dict(orientation=\"h\", yanchor=\"bottom\", y=1.02, xanchor=\"center\", x=0.5))\n",
    "figura.update_layout(title='Comparación de Portales de Datos y Datasets por Provincia')\n",
    "\n",
    "figura"
   ]
  },
  {
   "attachments": {},
   "cell_type": "markdown",
   "metadata": {},
   "source": [
    "### Exploratorio de los grupos por ciudad."
   ]
  },
  {
   "attachments": {},
   "cell_type": "markdown",
   "metadata": {},
   "source": [
    "#### Exploración de los grupos por ciudad - Frecuencia absoluta."
   ]
  },
  {
   "cell_type": "code",
   "execution_count": 114,
   "metadata": {},
   "outputs": [
    {
     "data": {
      "application/vnd.plotly.v1+json": {
       "config": {
        "plotlyServerURL": "https://plot.ly"
       },
       "data": [
        {
         "alignmentgroup": "True",
         "hovertemplate": "LUGAR=%{x}<br>CANTIDAD=%{text}<extra></extra>",
         "legendgroup": "",
         "marker": {
          "color": "rgb(76,114,176)",
          "pattern": {
           "shape": ""
          }
         },
         "name": "",
         "offsetgroup": "",
         "orientation": "v",
         "showlegend": false,
         "text": [
          19,
          18,
          16,
          16,
          14,
          12,
          12,
          11,
          10,
          7,
          4,
          2,
          0,
          0,
          0,
          0
         ],
         "textposition": "auto",
         "type": "bar",
         "x": [
          "MERCEDES",
          "BAHIA BLANCA",
          "TIGRE",
          "PERGAMINO",
          "MENDOZA",
          "CABA",
          "CORDOBA",
          "LINCOLN",
          "NEUQUEN",
          "CORRIENTES",
          "SAN LUIS",
          "EZEIZA",
          "RAFAELA",
          "RIVADAVIA",
          "SANTA ROSA",
          "GENERAL ALVARADO"
         ],
         "xaxis": "x",
         "y": [
          19,
          18,
          16,
          16,
          14,
          12,
          12,
          11,
          10,
          7,
          4,
          2,
          0,
          0,
          0,
          0
         ],
         "yaxis": "y"
        }
       ],
       "layout": {
        "barmode": "relative",
        "legend": {
         "tracegroupgap": 0
        },
        "margin": {
         "t": 60
        },
        "template": {
         "data": {
          "bar": [
           {
            "error_x": {
             "color": "rgb(36,36,36)"
            },
            "error_y": {
             "color": "rgb(36,36,36)"
            },
            "marker": {
             "line": {
              "color": "rgb(234,234,242)",
              "width": 0.5
             },
             "pattern": {
              "fillmode": "overlay",
              "size": 10,
              "solidity": 0.2
             }
            },
            "type": "bar"
           }
          ],
          "barpolar": [
           {
            "marker": {
             "line": {
              "color": "rgb(234,234,242)",
              "width": 0.5
             },
             "pattern": {
              "fillmode": "overlay",
              "size": 10,
              "solidity": 0.2
             }
            },
            "type": "barpolar"
           }
          ],
          "carpet": [
           {
            "aaxis": {
             "endlinecolor": "rgb(36,36,36)",
             "gridcolor": "white",
             "linecolor": "white",
             "minorgridcolor": "white",
             "startlinecolor": "rgb(36,36,36)"
            },
            "baxis": {
             "endlinecolor": "rgb(36,36,36)",
             "gridcolor": "white",
             "linecolor": "white",
             "minorgridcolor": "white",
             "startlinecolor": "rgb(36,36,36)"
            },
            "type": "carpet"
           }
          ],
          "choropleth": [
           {
            "colorbar": {
             "outlinewidth": 0,
             "tickcolor": "rgb(36,36,36)",
             "ticklen": 8,
             "ticks": "outside",
             "tickwidth": 2
            },
            "type": "choropleth"
           }
          ],
          "contour": [
           {
            "colorbar": {
             "outlinewidth": 0,
             "tickcolor": "rgb(36,36,36)",
             "ticklen": 8,
             "ticks": "outside",
             "tickwidth": 2
            },
            "colorscale": [
             [
              0,
              "rgb(2,4,25)"
             ],
             [
              0.06274509803921569,
              "rgb(24,15,41)"
             ],
             [
              0.12549019607843137,
              "rgb(47,23,57)"
             ],
             [
              0.18823529411764706,
              "rgb(71,28,72)"
             ],
             [
              0.25098039215686274,
              "rgb(97,30,82)"
             ],
             [
              0.3137254901960784,
              "rgb(123,30,89)"
             ],
             [
              0.3764705882352941,
              "rgb(150,27,91)"
             ],
             [
              0.4392156862745098,
              "rgb(177,22,88)"
             ],
             [
              0.5019607843137255,
              "rgb(203,26,79)"
             ],
             [
              0.5647058823529412,
              "rgb(223,47,67)"
             ],
             [
              0.6274509803921569,
              "rgb(236,76,61)"
             ],
             [
              0.6901960784313725,
              "rgb(242,107,73)"
             ],
             [
              0.7529411764705882,
              "rgb(244,135,95)"
             ],
             [
              0.8156862745098039,
              "rgb(245,162,122)"
             ],
             [
              0.8784313725490196,
              "rgb(246,188,153)"
             ],
             [
              0.9411764705882353,
              "rgb(247,212,187)"
             ],
             [
              1,
              "rgb(250,234,220)"
             ]
            ],
            "type": "contour"
           }
          ],
          "contourcarpet": [
           {
            "colorbar": {
             "outlinewidth": 0,
             "tickcolor": "rgb(36,36,36)",
             "ticklen": 8,
             "ticks": "outside",
             "tickwidth": 2
            },
            "type": "contourcarpet"
           }
          ],
          "heatmap": [
           {
            "colorbar": {
             "outlinewidth": 0,
             "tickcolor": "rgb(36,36,36)",
             "ticklen": 8,
             "ticks": "outside",
             "tickwidth": 2
            },
            "colorscale": [
             [
              0,
              "rgb(2,4,25)"
             ],
             [
              0.06274509803921569,
              "rgb(24,15,41)"
             ],
             [
              0.12549019607843137,
              "rgb(47,23,57)"
             ],
             [
              0.18823529411764706,
              "rgb(71,28,72)"
             ],
             [
              0.25098039215686274,
              "rgb(97,30,82)"
             ],
             [
              0.3137254901960784,
              "rgb(123,30,89)"
             ],
             [
              0.3764705882352941,
              "rgb(150,27,91)"
             ],
             [
              0.4392156862745098,
              "rgb(177,22,88)"
             ],
             [
              0.5019607843137255,
              "rgb(203,26,79)"
             ],
             [
              0.5647058823529412,
              "rgb(223,47,67)"
             ],
             [
              0.6274509803921569,
              "rgb(236,76,61)"
             ],
             [
              0.6901960784313725,
              "rgb(242,107,73)"
             ],
             [
              0.7529411764705882,
              "rgb(244,135,95)"
             ],
             [
              0.8156862745098039,
              "rgb(245,162,122)"
             ],
             [
              0.8784313725490196,
              "rgb(246,188,153)"
             ],
             [
              0.9411764705882353,
              "rgb(247,212,187)"
             ],
             [
              1,
              "rgb(250,234,220)"
             ]
            ],
            "type": "heatmap"
           }
          ],
          "heatmapgl": [
           {
            "colorbar": {
             "outlinewidth": 0,
             "tickcolor": "rgb(36,36,36)",
             "ticklen": 8,
             "ticks": "outside",
             "tickwidth": 2
            },
            "colorscale": [
             [
              0,
              "rgb(2,4,25)"
             ],
             [
              0.06274509803921569,
              "rgb(24,15,41)"
             ],
             [
              0.12549019607843137,
              "rgb(47,23,57)"
             ],
             [
              0.18823529411764706,
              "rgb(71,28,72)"
             ],
             [
              0.25098039215686274,
              "rgb(97,30,82)"
             ],
             [
              0.3137254901960784,
              "rgb(123,30,89)"
             ],
             [
              0.3764705882352941,
              "rgb(150,27,91)"
             ],
             [
              0.4392156862745098,
              "rgb(177,22,88)"
             ],
             [
              0.5019607843137255,
              "rgb(203,26,79)"
             ],
             [
              0.5647058823529412,
              "rgb(223,47,67)"
             ],
             [
              0.6274509803921569,
              "rgb(236,76,61)"
             ],
             [
              0.6901960784313725,
              "rgb(242,107,73)"
             ],
             [
              0.7529411764705882,
              "rgb(244,135,95)"
             ],
             [
              0.8156862745098039,
              "rgb(245,162,122)"
             ],
             [
              0.8784313725490196,
              "rgb(246,188,153)"
             ],
             [
              0.9411764705882353,
              "rgb(247,212,187)"
             ],
             [
              1,
              "rgb(250,234,220)"
             ]
            ],
            "type": "heatmapgl"
           }
          ],
          "histogram": [
           {
            "marker": {
             "pattern": {
              "fillmode": "overlay",
              "size": 10,
              "solidity": 0.2
             }
            },
            "type": "histogram"
           }
          ],
          "histogram2d": [
           {
            "colorbar": {
             "outlinewidth": 0,
             "tickcolor": "rgb(36,36,36)",
             "ticklen": 8,
             "ticks": "outside",
             "tickwidth": 2
            },
            "colorscale": [
             [
              0,
              "rgb(2,4,25)"
             ],
             [
              0.06274509803921569,
              "rgb(24,15,41)"
             ],
             [
              0.12549019607843137,
              "rgb(47,23,57)"
             ],
             [
              0.18823529411764706,
              "rgb(71,28,72)"
             ],
             [
              0.25098039215686274,
              "rgb(97,30,82)"
             ],
             [
              0.3137254901960784,
              "rgb(123,30,89)"
             ],
             [
              0.3764705882352941,
              "rgb(150,27,91)"
             ],
             [
              0.4392156862745098,
              "rgb(177,22,88)"
             ],
             [
              0.5019607843137255,
              "rgb(203,26,79)"
             ],
             [
              0.5647058823529412,
              "rgb(223,47,67)"
             ],
             [
              0.6274509803921569,
              "rgb(236,76,61)"
             ],
             [
              0.6901960784313725,
              "rgb(242,107,73)"
             ],
             [
              0.7529411764705882,
              "rgb(244,135,95)"
             ],
             [
              0.8156862745098039,
              "rgb(245,162,122)"
             ],
             [
              0.8784313725490196,
              "rgb(246,188,153)"
             ],
             [
              0.9411764705882353,
              "rgb(247,212,187)"
             ],
             [
              1,
              "rgb(250,234,220)"
             ]
            ],
            "type": "histogram2d"
           }
          ],
          "histogram2dcontour": [
           {
            "colorbar": {
             "outlinewidth": 0,
             "tickcolor": "rgb(36,36,36)",
             "ticklen": 8,
             "ticks": "outside",
             "tickwidth": 2
            },
            "colorscale": [
             [
              0,
              "rgb(2,4,25)"
             ],
             [
              0.06274509803921569,
              "rgb(24,15,41)"
             ],
             [
              0.12549019607843137,
              "rgb(47,23,57)"
             ],
             [
              0.18823529411764706,
              "rgb(71,28,72)"
             ],
             [
              0.25098039215686274,
              "rgb(97,30,82)"
             ],
             [
              0.3137254901960784,
              "rgb(123,30,89)"
             ],
             [
              0.3764705882352941,
              "rgb(150,27,91)"
             ],
             [
              0.4392156862745098,
              "rgb(177,22,88)"
             ],
             [
              0.5019607843137255,
              "rgb(203,26,79)"
             ],
             [
              0.5647058823529412,
              "rgb(223,47,67)"
             ],
             [
              0.6274509803921569,
              "rgb(236,76,61)"
             ],
             [
              0.6901960784313725,
              "rgb(242,107,73)"
             ],
             [
              0.7529411764705882,
              "rgb(244,135,95)"
             ],
             [
              0.8156862745098039,
              "rgb(245,162,122)"
             ],
             [
              0.8784313725490196,
              "rgb(246,188,153)"
             ],
             [
              0.9411764705882353,
              "rgb(247,212,187)"
             ],
             [
              1,
              "rgb(250,234,220)"
             ]
            ],
            "type": "histogram2dcontour"
           }
          ],
          "mesh3d": [
           {
            "colorbar": {
             "outlinewidth": 0,
             "tickcolor": "rgb(36,36,36)",
             "ticklen": 8,
             "ticks": "outside",
             "tickwidth": 2
            },
            "type": "mesh3d"
           }
          ],
          "parcoords": [
           {
            "line": {
             "colorbar": {
              "outlinewidth": 0,
              "tickcolor": "rgb(36,36,36)",
              "ticklen": 8,
              "ticks": "outside",
              "tickwidth": 2
             }
            },
            "type": "parcoords"
           }
          ],
          "pie": [
           {
            "automargin": true,
            "type": "pie"
           }
          ],
          "scatter": [
           {
            "fillpattern": {
             "fillmode": "overlay",
             "size": 10,
             "solidity": 0.2
            },
            "type": "scatter"
           }
          ],
          "scatter3d": [
           {
            "line": {
             "colorbar": {
              "outlinewidth": 0,
              "tickcolor": "rgb(36,36,36)",
              "ticklen": 8,
              "ticks": "outside",
              "tickwidth": 2
             }
            },
            "marker": {
             "colorbar": {
              "outlinewidth": 0,
              "tickcolor": "rgb(36,36,36)",
              "ticklen": 8,
              "ticks": "outside",
              "tickwidth": 2
             }
            },
            "type": "scatter3d"
           }
          ],
          "scattercarpet": [
           {
            "marker": {
             "colorbar": {
              "outlinewidth": 0,
              "tickcolor": "rgb(36,36,36)",
              "ticklen": 8,
              "ticks": "outside",
              "tickwidth": 2
             }
            },
            "type": "scattercarpet"
           }
          ],
          "scattergeo": [
           {
            "marker": {
             "colorbar": {
              "outlinewidth": 0,
              "tickcolor": "rgb(36,36,36)",
              "ticklen": 8,
              "ticks": "outside",
              "tickwidth": 2
             }
            },
            "type": "scattergeo"
           }
          ],
          "scattergl": [
           {
            "marker": {
             "colorbar": {
              "outlinewidth": 0,
              "tickcolor": "rgb(36,36,36)",
              "ticklen": 8,
              "ticks": "outside",
              "tickwidth": 2
             }
            },
            "type": "scattergl"
           }
          ],
          "scattermapbox": [
           {
            "marker": {
             "colorbar": {
              "outlinewidth": 0,
              "tickcolor": "rgb(36,36,36)",
              "ticklen": 8,
              "ticks": "outside",
              "tickwidth": 2
             }
            },
            "type": "scattermapbox"
           }
          ],
          "scatterpolar": [
           {
            "marker": {
             "colorbar": {
              "outlinewidth": 0,
              "tickcolor": "rgb(36,36,36)",
              "ticklen": 8,
              "ticks": "outside",
              "tickwidth": 2
             }
            },
            "type": "scatterpolar"
           }
          ],
          "scatterpolargl": [
           {
            "marker": {
             "colorbar": {
              "outlinewidth": 0,
              "tickcolor": "rgb(36,36,36)",
              "ticklen": 8,
              "ticks": "outside",
              "tickwidth": 2
             }
            },
            "type": "scatterpolargl"
           }
          ],
          "scatterternary": [
           {
            "marker": {
             "colorbar": {
              "outlinewidth": 0,
              "tickcolor": "rgb(36,36,36)",
              "ticklen": 8,
              "ticks": "outside",
              "tickwidth": 2
             }
            },
            "type": "scatterternary"
           }
          ],
          "surface": [
           {
            "colorbar": {
             "outlinewidth": 0,
             "tickcolor": "rgb(36,36,36)",
             "ticklen": 8,
             "ticks": "outside",
             "tickwidth": 2
            },
            "colorscale": [
             [
              0,
              "rgb(2,4,25)"
             ],
             [
              0.06274509803921569,
              "rgb(24,15,41)"
             ],
             [
              0.12549019607843137,
              "rgb(47,23,57)"
             ],
             [
              0.18823529411764706,
              "rgb(71,28,72)"
             ],
             [
              0.25098039215686274,
              "rgb(97,30,82)"
             ],
             [
              0.3137254901960784,
              "rgb(123,30,89)"
             ],
             [
              0.3764705882352941,
              "rgb(150,27,91)"
             ],
             [
              0.4392156862745098,
              "rgb(177,22,88)"
             ],
             [
              0.5019607843137255,
              "rgb(203,26,79)"
             ],
             [
              0.5647058823529412,
              "rgb(223,47,67)"
             ],
             [
              0.6274509803921569,
              "rgb(236,76,61)"
             ],
             [
              0.6901960784313725,
              "rgb(242,107,73)"
             ],
             [
              0.7529411764705882,
              "rgb(244,135,95)"
             ],
             [
              0.8156862745098039,
              "rgb(245,162,122)"
             ],
             [
              0.8784313725490196,
              "rgb(246,188,153)"
             ],
             [
              0.9411764705882353,
              "rgb(247,212,187)"
             ],
             [
              1,
              "rgb(250,234,220)"
             ]
            ],
            "type": "surface"
           }
          ],
          "table": [
           {
            "cells": {
             "fill": {
              "color": "rgb(231,231,240)"
             },
             "line": {
              "color": "white"
             }
            },
            "header": {
             "fill": {
              "color": "rgb(183,183,191)"
             },
             "line": {
              "color": "white"
             }
            },
            "type": "table"
           }
          ]
         },
         "layout": {
          "annotationdefaults": {
           "arrowcolor": "rgb(67,103,167)"
          },
          "autotypenumbers": "strict",
          "coloraxis": {
           "colorbar": {
            "outlinewidth": 0,
            "tickcolor": "rgb(36,36,36)",
            "ticklen": 8,
            "ticks": "outside",
            "tickwidth": 2
           }
          },
          "colorscale": {
           "sequential": [
            [
             0,
             "rgb(2,4,25)"
            ],
            [
             0.06274509803921569,
             "rgb(24,15,41)"
            ],
            [
             0.12549019607843137,
             "rgb(47,23,57)"
            ],
            [
             0.18823529411764706,
             "rgb(71,28,72)"
            ],
            [
             0.25098039215686274,
             "rgb(97,30,82)"
            ],
            [
             0.3137254901960784,
             "rgb(123,30,89)"
            ],
            [
             0.3764705882352941,
             "rgb(150,27,91)"
            ],
            [
             0.4392156862745098,
             "rgb(177,22,88)"
            ],
            [
             0.5019607843137255,
             "rgb(203,26,79)"
            ],
            [
             0.5647058823529412,
             "rgb(223,47,67)"
            ],
            [
             0.6274509803921569,
             "rgb(236,76,61)"
            ],
            [
             0.6901960784313725,
             "rgb(242,107,73)"
            ],
            [
             0.7529411764705882,
             "rgb(244,135,95)"
            ],
            [
             0.8156862745098039,
             "rgb(245,162,122)"
            ],
            [
             0.8784313725490196,
             "rgb(246,188,153)"
            ],
            [
             0.9411764705882353,
             "rgb(247,212,187)"
            ],
            [
             1,
             "rgb(250,234,220)"
            ]
           ],
           "sequentialminus": [
            [
             0,
             "rgb(2,4,25)"
            ],
            [
             0.06274509803921569,
             "rgb(24,15,41)"
            ],
            [
             0.12549019607843137,
             "rgb(47,23,57)"
            ],
            [
             0.18823529411764706,
             "rgb(71,28,72)"
            ],
            [
             0.25098039215686274,
             "rgb(97,30,82)"
            ],
            [
             0.3137254901960784,
             "rgb(123,30,89)"
            ],
            [
             0.3764705882352941,
             "rgb(150,27,91)"
            ],
            [
             0.4392156862745098,
             "rgb(177,22,88)"
            ],
            [
             0.5019607843137255,
             "rgb(203,26,79)"
            ],
            [
             0.5647058823529412,
             "rgb(223,47,67)"
            ],
            [
             0.6274509803921569,
             "rgb(236,76,61)"
            ],
            [
             0.6901960784313725,
             "rgb(242,107,73)"
            ],
            [
             0.7529411764705882,
             "rgb(244,135,95)"
            ],
            [
             0.8156862745098039,
             "rgb(245,162,122)"
            ],
            [
             0.8784313725490196,
             "rgb(246,188,153)"
            ],
            [
             0.9411764705882353,
             "rgb(247,212,187)"
            ],
            [
             1,
             "rgb(250,234,220)"
            ]
           ]
          },
          "colorway": [
           "rgb(76,114,176)",
           "rgb(221,132,82)",
           "rgb(85,168,104)",
           "rgb(196,78,82)",
           "rgb(129,114,179)",
           "rgb(147,120,96)",
           "rgb(218,139,195)",
           "rgb(140,140,140)",
           "rgb(204,185,116)",
           "rgb(100,181,205)"
          ],
          "font": {
           "color": "rgb(36,36,36)"
          },
          "geo": {
           "bgcolor": "white",
           "lakecolor": "white",
           "landcolor": "rgb(234,234,242)",
           "showlakes": true,
           "showland": true,
           "subunitcolor": "white"
          },
          "hoverlabel": {
           "align": "left"
          },
          "hovermode": "closest",
          "paper_bgcolor": "white",
          "plot_bgcolor": "rgb(234,234,242)",
          "polar": {
           "angularaxis": {
            "gridcolor": "white",
            "linecolor": "white",
            "showgrid": true,
            "ticks": ""
           },
           "bgcolor": "rgb(234,234,242)",
           "radialaxis": {
            "gridcolor": "white",
            "linecolor": "white",
            "showgrid": true,
            "ticks": ""
           }
          },
          "scene": {
           "xaxis": {
            "backgroundcolor": "rgb(234,234,242)",
            "gridcolor": "white",
            "gridwidth": 2,
            "linecolor": "white",
            "showbackground": true,
            "showgrid": true,
            "ticks": "",
            "zerolinecolor": "white"
           },
           "yaxis": {
            "backgroundcolor": "rgb(234,234,242)",
            "gridcolor": "white",
            "gridwidth": 2,
            "linecolor": "white",
            "showbackground": true,
            "showgrid": true,
            "ticks": "",
            "zerolinecolor": "white"
           },
           "zaxis": {
            "backgroundcolor": "rgb(234,234,242)",
            "gridcolor": "white",
            "gridwidth": 2,
            "linecolor": "white",
            "showbackground": true,
            "showgrid": true,
            "ticks": "",
            "zerolinecolor": "white"
           }
          },
          "shapedefaults": {
           "fillcolor": "rgb(67,103,167)",
           "line": {
            "width": 0
           },
           "opacity": 0.5
          },
          "ternary": {
           "aaxis": {
            "gridcolor": "white",
            "linecolor": "white",
            "showgrid": true,
            "ticks": ""
           },
           "baxis": {
            "gridcolor": "white",
            "linecolor": "white",
            "showgrid": true,
            "ticks": ""
           },
           "bgcolor": "rgb(234,234,242)",
           "caxis": {
            "gridcolor": "white",
            "linecolor": "white",
            "showgrid": true,
            "ticks": ""
           }
          },
          "xaxis": {
           "automargin": true,
           "gridcolor": "white",
           "linecolor": "white",
           "showgrid": true,
           "ticks": "",
           "title": {
            "standoff": 15
           },
           "zerolinecolor": "white"
          },
          "yaxis": {
           "automargin": true,
           "gridcolor": "white",
           "linecolor": "white",
           "showgrid": true,
           "ticks": "",
           "title": {
            "standoff": 15
           },
           "zerolinecolor": "white"
          }
         }
        },
        "title": {
         "text": "Frecuencia de grupos por Ciudad"
        },
        "xaxis": {
         "anchor": "y",
         "domain": [
          0,
          1
         ],
         "title": {
          "text": "Ciudad"
         }
        },
        "yaxis": {
         "anchor": "x",
         "domain": [
          0,
          1
         ],
         "title": {
          "text": "Frecuencia absoluta"
         }
        }
       }
      }
     },
     "metadata": {},
     "output_type": "display_data"
    }
   ],
   "source": [
    "#Genero la visualización de los temas.\n",
    "fig = px.bar(df_grupos_ciudades.sort_values(by='CANTIDAD',ascending=False),\n",
    "             x='LUGAR',\n",
    "             y='CANTIDAD',\n",
    "             text='CANTIDAD')\n",
    "\n",
    "fig.update_yaxes(title_text='Frecuencia absoluta')\n",
    "fig.update_xaxes(title_text='Ciudad')\n",
    "fig.update_layout(title='Frecuencia de grupos por Ciudad')\n",
    "fig.show()"
   ]
  },
  {
   "attachments": {},
   "cell_type": "markdown",
   "metadata": {},
   "source": [
    "#### Exploración de los grupos - Normalización."
   ]
  },
  {
   "cell_type": "code",
   "execution_count": 149,
   "metadata": {},
   "outputs": [],
   "source": [
    "#Genero el conjunto de grupos totales.\n",
    "ciudades_universo_grupos = [grupo for lista_grupo in df_grupos_ciudades['RESPUESTA_group_list'] for grupo in lista_grupo]"
   ]
  },
  {
   "cell_type": "code",
   "execution_count": 150,
   "metadata": {},
   "outputs": [
    {
     "name": "stdout",
     "output_type": "stream",
     "text": [
      "141\n"
     ]
    }
   ],
   "source": [
    "#Cantidad de grupos totales extraidos\n",
    "print(len(ciudades_universo_grupos))"
   ]
  },
  {
   "cell_type": "code",
   "execution_count": 151,
   "metadata": {},
   "outputs": [],
   "source": [
    "#Calculo las frecuencias de cada uno de los tags sin normalizar\n",
    "frecuencias = {}\n",
    "for valor in ciudades_universo_grupos:\n",
    "    if valor in frecuencias:\n",
    "        frecuencias[valor] += 1\n",
    "    else:\n",
    "        frecuencias[valor] = 1\n",
    "\n",
    "df_frecuencia_grupos = pd.DataFrame.from_dict(frecuencias, orient='index', columns=['Frecuencia']).sort_values(by='Frecuencia',ascending=False).reset_index(names=['grupo'])"
   ]
  },
  {
   "cell_type": "code",
   "execution_count": 152,
   "metadata": {},
   "outputs": [
    {
     "data": {
      "text/plain": [
       "101"
      ]
     },
     "execution_count": 152,
     "metadata": {},
     "output_type": "execute_result"
    }
   ],
   "source": [
    "#Cantidad de grupos unicos\n",
    "df_frecuencia_grupos['grupo'].nunique()"
   ]
  },
  {
   "cell_type": "code",
   "execution_count": 162,
   "metadata": {},
   "outputs": [
    {
     "data": {
      "application/vnd.plotly.v1+json": {
       "config": {
        "plotlyServerURL": "https://plot.ly"
       },
       "data": [
        {
         "alignmentgroup": "True",
         "hovertemplate": "grupo=%{x}<br>Frecuencia=%{text}<extra></extra>",
         "legendgroup": "",
         "marker": {
          "color": "rgb(76,114,176)",
          "pattern": {
           "shape": ""
          }
         },
         "name": "",
         "offsetgroup": "",
         "orientation": "v",
         "showlegend": false,
         "text": [
          6,
          6,
          6,
          5,
          5,
          5,
          3,
          3,
          2,
          2,
          2,
          2,
          2,
          2,
          2,
          2,
          2,
          1,
          1,
          1
         ],
         "textposition": "auto",
         "type": "bar",
         "x": [
          "educacion",
          "genero",
          "salud",
          "administracion-publica",
          "medio-ambiente",
          "seguridad",
          "presupuesto",
          "cultura",
          "seguridad-y-justicia",
          "deportes",
          "economia",
          "covid19",
          "movilidad-y-transporte",
          "desarrollo-humano",
          "economia-y-finanzas",
          "elecciones",
          "movilidad",
          "apls-privadas",
          "proteccion-ciudadana",
          "transporte-y-movilidad"
         ],
         "xaxis": "x",
         "y": [
          6,
          6,
          6,
          5,
          5,
          5,
          3,
          3,
          2,
          2,
          2,
          2,
          2,
          2,
          2,
          2,
          2,
          1,
          1,
          1
         ],
         "yaxis": "y"
        }
       ],
       "layout": {
        "barmode": "relative",
        "legend": {
         "tracegroupgap": 0
        },
        "template": {
         "data": {
          "bar": [
           {
            "error_x": {
             "color": "rgb(36,36,36)"
            },
            "error_y": {
             "color": "rgb(36,36,36)"
            },
            "marker": {
             "line": {
              "color": "rgb(234,234,242)",
              "width": 0.5
             },
             "pattern": {
              "fillmode": "overlay",
              "size": 10,
              "solidity": 0.2
             }
            },
            "type": "bar"
           }
          ],
          "barpolar": [
           {
            "marker": {
             "line": {
              "color": "rgb(234,234,242)",
              "width": 0.5
             },
             "pattern": {
              "fillmode": "overlay",
              "size": 10,
              "solidity": 0.2
             }
            },
            "type": "barpolar"
           }
          ],
          "carpet": [
           {
            "aaxis": {
             "endlinecolor": "rgb(36,36,36)",
             "gridcolor": "white",
             "linecolor": "white",
             "minorgridcolor": "white",
             "startlinecolor": "rgb(36,36,36)"
            },
            "baxis": {
             "endlinecolor": "rgb(36,36,36)",
             "gridcolor": "white",
             "linecolor": "white",
             "minorgridcolor": "white",
             "startlinecolor": "rgb(36,36,36)"
            },
            "type": "carpet"
           }
          ],
          "choropleth": [
           {
            "colorbar": {
             "outlinewidth": 0,
             "tickcolor": "rgb(36,36,36)",
             "ticklen": 8,
             "ticks": "outside",
             "tickwidth": 2
            },
            "type": "choropleth"
           }
          ],
          "contour": [
           {
            "colorbar": {
             "outlinewidth": 0,
             "tickcolor": "rgb(36,36,36)",
             "ticklen": 8,
             "ticks": "outside",
             "tickwidth": 2
            },
            "colorscale": [
             [
              0,
              "rgb(2,4,25)"
             ],
             [
              0.06274509803921569,
              "rgb(24,15,41)"
             ],
             [
              0.12549019607843137,
              "rgb(47,23,57)"
             ],
             [
              0.18823529411764706,
              "rgb(71,28,72)"
             ],
             [
              0.25098039215686274,
              "rgb(97,30,82)"
             ],
             [
              0.3137254901960784,
              "rgb(123,30,89)"
             ],
             [
              0.3764705882352941,
              "rgb(150,27,91)"
             ],
             [
              0.4392156862745098,
              "rgb(177,22,88)"
             ],
             [
              0.5019607843137255,
              "rgb(203,26,79)"
             ],
             [
              0.5647058823529412,
              "rgb(223,47,67)"
             ],
             [
              0.6274509803921569,
              "rgb(236,76,61)"
             ],
             [
              0.6901960784313725,
              "rgb(242,107,73)"
             ],
             [
              0.7529411764705882,
              "rgb(244,135,95)"
             ],
             [
              0.8156862745098039,
              "rgb(245,162,122)"
             ],
             [
              0.8784313725490196,
              "rgb(246,188,153)"
             ],
             [
              0.9411764705882353,
              "rgb(247,212,187)"
             ],
             [
              1,
              "rgb(250,234,220)"
             ]
            ],
            "type": "contour"
           }
          ],
          "contourcarpet": [
           {
            "colorbar": {
             "outlinewidth": 0,
             "tickcolor": "rgb(36,36,36)",
             "ticklen": 8,
             "ticks": "outside",
             "tickwidth": 2
            },
            "type": "contourcarpet"
           }
          ],
          "heatmap": [
           {
            "colorbar": {
             "outlinewidth": 0,
             "tickcolor": "rgb(36,36,36)",
             "ticklen": 8,
             "ticks": "outside",
             "tickwidth": 2
            },
            "colorscale": [
             [
              0,
              "rgb(2,4,25)"
             ],
             [
              0.06274509803921569,
              "rgb(24,15,41)"
             ],
             [
              0.12549019607843137,
              "rgb(47,23,57)"
             ],
             [
              0.18823529411764706,
              "rgb(71,28,72)"
             ],
             [
              0.25098039215686274,
              "rgb(97,30,82)"
             ],
             [
              0.3137254901960784,
              "rgb(123,30,89)"
             ],
             [
              0.3764705882352941,
              "rgb(150,27,91)"
             ],
             [
              0.4392156862745098,
              "rgb(177,22,88)"
             ],
             [
              0.5019607843137255,
              "rgb(203,26,79)"
             ],
             [
              0.5647058823529412,
              "rgb(223,47,67)"
             ],
             [
              0.6274509803921569,
              "rgb(236,76,61)"
             ],
             [
              0.6901960784313725,
              "rgb(242,107,73)"
             ],
             [
              0.7529411764705882,
              "rgb(244,135,95)"
             ],
             [
              0.8156862745098039,
              "rgb(245,162,122)"
             ],
             [
              0.8784313725490196,
              "rgb(246,188,153)"
             ],
             [
              0.9411764705882353,
              "rgb(247,212,187)"
             ],
             [
              1,
              "rgb(250,234,220)"
             ]
            ],
            "type": "heatmap"
           }
          ],
          "heatmapgl": [
           {
            "colorbar": {
             "outlinewidth": 0,
             "tickcolor": "rgb(36,36,36)",
             "ticklen": 8,
             "ticks": "outside",
             "tickwidth": 2
            },
            "colorscale": [
             [
              0,
              "rgb(2,4,25)"
             ],
             [
              0.06274509803921569,
              "rgb(24,15,41)"
             ],
             [
              0.12549019607843137,
              "rgb(47,23,57)"
             ],
             [
              0.18823529411764706,
              "rgb(71,28,72)"
             ],
             [
              0.25098039215686274,
              "rgb(97,30,82)"
             ],
             [
              0.3137254901960784,
              "rgb(123,30,89)"
             ],
             [
              0.3764705882352941,
              "rgb(150,27,91)"
             ],
             [
              0.4392156862745098,
              "rgb(177,22,88)"
             ],
             [
              0.5019607843137255,
              "rgb(203,26,79)"
             ],
             [
              0.5647058823529412,
              "rgb(223,47,67)"
             ],
             [
              0.6274509803921569,
              "rgb(236,76,61)"
             ],
             [
              0.6901960784313725,
              "rgb(242,107,73)"
             ],
             [
              0.7529411764705882,
              "rgb(244,135,95)"
             ],
             [
              0.8156862745098039,
              "rgb(245,162,122)"
             ],
             [
              0.8784313725490196,
              "rgb(246,188,153)"
             ],
             [
              0.9411764705882353,
              "rgb(247,212,187)"
             ],
             [
              1,
              "rgb(250,234,220)"
             ]
            ],
            "type": "heatmapgl"
           }
          ],
          "histogram": [
           {
            "marker": {
             "pattern": {
              "fillmode": "overlay",
              "size": 10,
              "solidity": 0.2
             }
            },
            "type": "histogram"
           }
          ],
          "histogram2d": [
           {
            "colorbar": {
             "outlinewidth": 0,
             "tickcolor": "rgb(36,36,36)",
             "ticklen": 8,
             "ticks": "outside",
             "tickwidth": 2
            },
            "colorscale": [
             [
              0,
              "rgb(2,4,25)"
             ],
             [
              0.06274509803921569,
              "rgb(24,15,41)"
             ],
             [
              0.12549019607843137,
              "rgb(47,23,57)"
             ],
             [
              0.18823529411764706,
              "rgb(71,28,72)"
             ],
             [
              0.25098039215686274,
              "rgb(97,30,82)"
             ],
             [
              0.3137254901960784,
              "rgb(123,30,89)"
             ],
             [
              0.3764705882352941,
              "rgb(150,27,91)"
             ],
             [
              0.4392156862745098,
              "rgb(177,22,88)"
             ],
             [
              0.5019607843137255,
              "rgb(203,26,79)"
             ],
             [
              0.5647058823529412,
              "rgb(223,47,67)"
             ],
             [
              0.6274509803921569,
              "rgb(236,76,61)"
             ],
             [
              0.6901960784313725,
              "rgb(242,107,73)"
             ],
             [
              0.7529411764705882,
              "rgb(244,135,95)"
             ],
             [
              0.8156862745098039,
              "rgb(245,162,122)"
             ],
             [
              0.8784313725490196,
              "rgb(246,188,153)"
             ],
             [
              0.9411764705882353,
              "rgb(247,212,187)"
             ],
             [
              1,
              "rgb(250,234,220)"
             ]
            ],
            "type": "histogram2d"
           }
          ],
          "histogram2dcontour": [
           {
            "colorbar": {
             "outlinewidth": 0,
             "tickcolor": "rgb(36,36,36)",
             "ticklen": 8,
             "ticks": "outside",
             "tickwidth": 2
            },
            "colorscale": [
             [
              0,
              "rgb(2,4,25)"
             ],
             [
              0.06274509803921569,
              "rgb(24,15,41)"
             ],
             [
              0.12549019607843137,
              "rgb(47,23,57)"
             ],
             [
              0.18823529411764706,
              "rgb(71,28,72)"
             ],
             [
              0.25098039215686274,
              "rgb(97,30,82)"
             ],
             [
              0.3137254901960784,
              "rgb(123,30,89)"
             ],
             [
              0.3764705882352941,
              "rgb(150,27,91)"
             ],
             [
              0.4392156862745098,
              "rgb(177,22,88)"
             ],
             [
              0.5019607843137255,
              "rgb(203,26,79)"
             ],
             [
              0.5647058823529412,
              "rgb(223,47,67)"
             ],
             [
              0.6274509803921569,
              "rgb(236,76,61)"
             ],
             [
              0.6901960784313725,
              "rgb(242,107,73)"
             ],
             [
              0.7529411764705882,
              "rgb(244,135,95)"
             ],
             [
              0.8156862745098039,
              "rgb(245,162,122)"
             ],
             [
              0.8784313725490196,
              "rgb(246,188,153)"
             ],
             [
              0.9411764705882353,
              "rgb(247,212,187)"
             ],
             [
              1,
              "rgb(250,234,220)"
             ]
            ],
            "type": "histogram2dcontour"
           }
          ],
          "mesh3d": [
           {
            "colorbar": {
             "outlinewidth": 0,
             "tickcolor": "rgb(36,36,36)",
             "ticklen": 8,
             "ticks": "outside",
             "tickwidth": 2
            },
            "type": "mesh3d"
           }
          ],
          "parcoords": [
           {
            "line": {
             "colorbar": {
              "outlinewidth": 0,
              "tickcolor": "rgb(36,36,36)",
              "ticklen": 8,
              "ticks": "outside",
              "tickwidth": 2
             }
            },
            "type": "parcoords"
           }
          ],
          "pie": [
           {
            "automargin": true,
            "type": "pie"
           }
          ],
          "scatter": [
           {
            "fillpattern": {
             "fillmode": "overlay",
             "size": 10,
             "solidity": 0.2
            },
            "type": "scatter"
           }
          ],
          "scatter3d": [
           {
            "line": {
             "colorbar": {
              "outlinewidth": 0,
              "tickcolor": "rgb(36,36,36)",
              "ticklen": 8,
              "ticks": "outside",
              "tickwidth": 2
             }
            },
            "marker": {
             "colorbar": {
              "outlinewidth": 0,
              "tickcolor": "rgb(36,36,36)",
              "ticklen": 8,
              "ticks": "outside",
              "tickwidth": 2
             }
            },
            "type": "scatter3d"
           }
          ],
          "scattercarpet": [
           {
            "marker": {
             "colorbar": {
              "outlinewidth": 0,
              "tickcolor": "rgb(36,36,36)",
              "ticklen": 8,
              "ticks": "outside",
              "tickwidth": 2
             }
            },
            "type": "scattercarpet"
           }
          ],
          "scattergeo": [
           {
            "marker": {
             "colorbar": {
              "outlinewidth": 0,
              "tickcolor": "rgb(36,36,36)",
              "ticklen": 8,
              "ticks": "outside",
              "tickwidth": 2
             }
            },
            "type": "scattergeo"
           }
          ],
          "scattergl": [
           {
            "marker": {
             "colorbar": {
              "outlinewidth": 0,
              "tickcolor": "rgb(36,36,36)",
              "ticklen": 8,
              "ticks": "outside",
              "tickwidth": 2
             }
            },
            "type": "scattergl"
           }
          ],
          "scattermapbox": [
           {
            "marker": {
             "colorbar": {
              "outlinewidth": 0,
              "tickcolor": "rgb(36,36,36)",
              "ticklen": 8,
              "ticks": "outside",
              "tickwidth": 2
             }
            },
            "type": "scattermapbox"
           }
          ],
          "scatterpolar": [
           {
            "marker": {
             "colorbar": {
              "outlinewidth": 0,
              "tickcolor": "rgb(36,36,36)",
              "ticklen": 8,
              "ticks": "outside",
              "tickwidth": 2
             }
            },
            "type": "scatterpolar"
           }
          ],
          "scatterpolargl": [
           {
            "marker": {
             "colorbar": {
              "outlinewidth": 0,
              "tickcolor": "rgb(36,36,36)",
              "ticklen": 8,
              "ticks": "outside",
              "tickwidth": 2
             }
            },
            "type": "scatterpolargl"
           }
          ],
          "scatterternary": [
           {
            "marker": {
             "colorbar": {
              "outlinewidth": 0,
              "tickcolor": "rgb(36,36,36)",
              "ticklen": 8,
              "ticks": "outside",
              "tickwidth": 2
             }
            },
            "type": "scatterternary"
           }
          ],
          "surface": [
           {
            "colorbar": {
             "outlinewidth": 0,
             "tickcolor": "rgb(36,36,36)",
             "ticklen": 8,
             "ticks": "outside",
             "tickwidth": 2
            },
            "colorscale": [
             [
              0,
              "rgb(2,4,25)"
             ],
             [
              0.06274509803921569,
              "rgb(24,15,41)"
             ],
             [
              0.12549019607843137,
              "rgb(47,23,57)"
             ],
             [
              0.18823529411764706,
              "rgb(71,28,72)"
             ],
             [
              0.25098039215686274,
              "rgb(97,30,82)"
             ],
             [
              0.3137254901960784,
              "rgb(123,30,89)"
             ],
             [
              0.3764705882352941,
              "rgb(150,27,91)"
             ],
             [
              0.4392156862745098,
              "rgb(177,22,88)"
             ],
             [
              0.5019607843137255,
              "rgb(203,26,79)"
             ],
             [
              0.5647058823529412,
              "rgb(223,47,67)"
             ],
             [
              0.6274509803921569,
              "rgb(236,76,61)"
             ],
             [
              0.6901960784313725,
              "rgb(242,107,73)"
             ],
             [
              0.7529411764705882,
              "rgb(244,135,95)"
             ],
             [
              0.8156862745098039,
              "rgb(245,162,122)"
             ],
             [
              0.8784313725490196,
              "rgb(246,188,153)"
             ],
             [
              0.9411764705882353,
              "rgb(247,212,187)"
             ],
             [
              1,
              "rgb(250,234,220)"
             ]
            ],
            "type": "surface"
           }
          ],
          "table": [
           {
            "cells": {
             "fill": {
              "color": "rgb(231,231,240)"
             },
             "line": {
              "color": "white"
             }
            },
            "header": {
             "fill": {
              "color": "rgb(183,183,191)"
             },
             "line": {
              "color": "white"
             }
            },
            "type": "table"
           }
          ]
         },
         "layout": {
          "annotationdefaults": {
           "arrowcolor": "rgb(67,103,167)"
          },
          "autotypenumbers": "strict",
          "coloraxis": {
           "colorbar": {
            "outlinewidth": 0,
            "tickcolor": "rgb(36,36,36)",
            "ticklen": 8,
            "ticks": "outside",
            "tickwidth": 2
           }
          },
          "colorscale": {
           "sequential": [
            [
             0,
             "rgb(2,4,25)"
            ],
            [
             0.06274509803921569,
             "rgb(24,15,41)"
            ],
            [
             0.12549019607843137,
             "rgb(47,23,57)"
            ],
            [
             0.18823529411764706,
             "rgb(71,28,72)"
            ],
            [
             0.25098039215686274,
             "rgb(97,30,82)"
            ],
            [
             0.3137254901960784,
             "rgb(123,30,89)"
            ],
            [
             0.3764705882352941,
             "rgb(150,27,91)"
            ],
            [
             0.4392156862745098,
             "rgb(177,22,88)"
            ],
            [
             0.5019607843137255,
             "rgb(203,26,79)"
            ],
            [
             0.5647058823529412,
             "rgb(223,47,67)"
            ],
            [
             0.6274509803921569,
             "rgb(236,76,61)"
            ],
            [
             0.6901960784313725,
             "rgb(242,107,73)"
            ],
            [
             0.7529411764705882,
             "rgb(244,135,95)"
            ],
            [
             0.8156862745098039,
             "rgb(245,162,122)"
            ],
            [
             0.8784313725490196,
             "rgb(246,188,153)"
            ],
            [
             0.9411764705882353,
             "rgb(247,212,187)"
            ],
            [
             1,
             "rgb(250,234,220)"
            ]
           ],
           "sequentialminus": [
            [
             0,
             "rgb(2,4,25)"
            ],
            [
             0.06274509803921569,
             "rgb(24,15,41)"
            ],
            [
             0.12549019607843137,
             "rgb(47,23,57)"
            ],
            [
             0.18823529411764706,
             "rgb(71,28,72)"
            ],
            [
             0.25098039215686274,
             "rgb(97,30,82)"
            ],
            [
             0.3137254901960784,
             "rgb(123,30,89)"
            ],
            [
             0.3764705882352941,
             "rgb(150,27,91)"
            ],
            [
             0.4392156862745098,
             "rgb(177,22,88)"
            ],
            [
             0.5019607843137255,
             "rgb(203,26,79)"
            ],
            [
             0.5647058823529412,
             "rgb(223,47,67)"
            ],
            [
             0.6274509803921569,
             "rgb(236,76,61)"
            ],
            [
             0.6901960784313725,
             "rgb(242,107,73)"
            ],
            [
             0.7529411764705882,
             "rgb(244,135,95)"
            ],
            [
             0.8156862745098039,
             "rgb(245,162,122)"
            ],
            [
             0.8784313725490196,
             "rgb(246,188,153)"
            ],
            [
             0.9411764705882353,
             "rgb(247,212,187)"
            ],
            [
             1,
             "rgb(250,234,220)"
            ]
           ]
          },
          "colorway": [
           "rgb(76,114,176)",
           "rgb(221,132,82)",
           "rgb(85,168,104)",
           "rgb(196,78,82)",
           "rgb(129,114,179)",
           "rgb(147,120,96)",
           "rgb(218,139,195)",
           "rgb(140,140,140)",
           "rgb(204,185,116)",
           "rgb(100,181,205)"
          ],
          "font": {
           "color": "rgb(36,36,36)"
          },
          "geo": {
           "bgcolor": "white",
           "lakecolor": "white",
           "landcolor": "rgb(234,234,242)",
           "showlakes": true,
           "showland": true,
           "subunitcolor": "white"
          },
          "hoverlabel": {
           "align": "left"
          },
          "hovermode": "closest",
          "paper_bgcolor": "white",
          "plot_bgcolor": "rgb(234,234,242)",
          "polar": {
           "angularaxis": {
            "gridcolor": "white",
            "linecolor": "white",
            "showgrid": true,
            "ticks": ""
           },
           "bgcolor": "rgb(234,234,242)",
           "radialaxis": {
            "gridcolor": "white",
            "linecolor": "white",
            "showgrid": true,
            "ticks": ""
           }
          },
          "scene": {
           "xaxis": {
            "backgroundcolor": "rgb(234,234,242)",
            "gridcolor": "white",
            "gridwidth": 2,
            "linecolor": "white",
            "showbackground": true,
            "showgrid": true,
            "ticks": "",
            "zerolinecolor": "white"
           },
           "yaxis": {
            "backgroundcolor": "rgb(234,234,242)",
            "gridcolor": "white",
            "gridwidth": 2,
            "linecolor": "white",
            "showbackground": true,
            "showgrid": true,
            "ticks": "",
            "zerolinecolor": "white"
           },
           "zaxis": {
            "backgroundcolor": "rgb(234,234,242)",
            "gridcolor": "white",
            "gridwidth": 2,
            "linecolor": "white",
            "showbackground": true,
            "showgrid": true,
            "ticks": "",
            "zerolinecolor": "white"
           }
          },
          "shapedefaults": {
           "fillcolor": "rgb(67,103,167)",
           "line": {
            "width": 0
           },
           "opacity": 0.5
          },
          "ternary": {
           "aaxis": {
            "gridcolor": "white",
            "linecolor": "white",
            "showgrid": true,
            "ticks": ""
           },
           "baxis": {
            "gridcolor": "white",
            "linecolor": "white",
            "showgrid": true,
            "ticks": ""
           },
           "bgcolor": "rgb(234,234,242)",
           "caxis": {
            "gridcolor": "white",
            "linecolor": "white",
            "showgrid": true,
            "ticks": ""
           }
          },
          "xaxis": {
           "automargin": true,
           "gridcolor": "white",
           "linecolor": "white",
           "showgrid": true,
           "ticks": "",
           "title": {
            "standoff": 15
           },
           "zerolinecolor": "white"
          },
          "yaxis": {
           "automargin": true,
           "gridcolor": "white",
           "linecolor": "white",
           "showgrid": true,
           "ticks": "",
           "title": {
            "standoff": 15
           },
           "zerolinecolor": "white"
          }
         }
        },
        "title": {
         "text": "Frecuencia de aparición de cada grupo"
        },
        "xaxis": {
         "anchor": "y",
         "domain": [
          0,
          1
         ],
         "title": {
          "text": "grupo"
         }
        },
        "yaxis": {
         "anchor": "x",
         "domain": [
          0,
          1
         ],
         "title": {
          "text": "Frecuencia"
         }
        }
       }
      }
     },
     "metadata": {},
     "output_type": "display_data"
    }
   ],
   "source": [
    "fig = px.bar(df_frecuencia_grupos[:20],x='grupo',y='Frecuencia',text='Frecuencia',title='Frecuencia de aparición de cada grupo')\n",
    "\n",
    "fig"
   ]
  },
  {
   "cell_type": "code",
   "execution_count": 161,
   "metadata": {},
   "outputs": [
    {
     "data": {
      "image/png": "[encoded data removed]",
      "text/plain": [
       "<Figure size 800x400 with 1 Axes>"
      ]
     },
     "metadata": {},
     "output_type": "display_data"
    }
   ],
   "source": [
    "import pandas as pd\n",
    "import matplotlib.pyplot as plt\n",
    "from wordcloud import WordCloud, STOPWORDS\n",
    "\n",
    "# Crear un DataFrame de ejemplo\n",
    "df = df_frecuencia_grupos\n",
    "\n",
    "# Crear una cadena con todas las palabras\n",
    "palabras = ' '.join(df['grupo'])\n",
    "\n",
    "# Crear un conjunto de stopwords en español\n",
    "stopwords_es = set(STOPWORDS)\n",
    "stopwords_es.update(['de', 'y', 'que', 'en', 'la', 'el', 'para'])  # Agregar stopwords adicionales si es necesario\n",
    "\n",
    "# Crear el objeto WordCloud con fondo blanco\n",
    "wordcloud = WordCloud(background_color='white', stopwords=stopwords_es)\n",
    "\n",
    "# Generar el WordCloud con las frecuencias\n",
    "wordcloud.generate_from_frequencies(df.set_index('grupo')['Frecuencia'])\n",
    "\n",
    "# Configurar el tamaño de la figura\n",
    "plt.figure(figsize=(8, 4))\n",
    "\n",
    "# Mostrar el WordCloud\n",
    "plt.imshow(wordcloud, interpolation='bilinear')\n",
    "plt.axis('off')\n",
    "\n",
    "# Ajustar el tamaño del WordCloud según la frecuencia\n",
    "plt.tight_layout()\n",
    "\n",
    "# Mostrar el gráfico\n",
    "plt.show()"
   ]
  },
  {
   "attachments": {},
   "cell_type": "markdown",
   "metadata": {},
   "source": [
    "### Matriz general"
   ]
  },
  {
   "cell_type": "code",
   "execution_count": 152,
   "metadata": {},
   "outputs": [
    {
     "name": "stdout",
     "output_type": "stream",
     "text": [
      "se agregó la matriz CABA\n",
      "se agregó la matriz CORDOBA\n",
      "se agregó la matriz BAHIA BLANCA\n",
      "se agregó la matriz MERCEDES\n",
      "se agregó la matriz NEUQUEN\n",
      "se agregó la matriz RAFAELA\n",
      "se agregó la matriz RIVADAVIA\n",
      "se agregó la matriz MENDOZA\n",
      "se agregó la matriz TIGRE\n",
      "se agregó la matriz CORRIENTES\n",
      "se agregó la matriz LINCOLN\n",
      "se agregó la matriz SAN LUIS\n",
      "se agregó la matriz SANTA ROSA\n",
      "se agregó la matriz GENERAL ALVARADO\n",
      "se agregó la matriz PERGAMINO\n",
      "se agregó la matriz EZEIZA\n"
     ]
    },
    {
     "data": {
      "text/html": [
       "<div>\n",
       "<style scoped>\n",
       "    .dataframe tbody tr th:only-of-type {\n",
       "        vertical-align: middle;\n",
       "    }\n",
       "\n",
       "    .dataframe tbody tr th {\n",
       "        vertical-align: top;\n",
       "    }\n",
       "\n",
       "    .dataframe thead th {\n",
       "        text-align: right;\n",
       "    }\n",
       "</style>\n",
       "<table border=\"1\" class=\"dataframe\">\n",
       "  <thead>\n",
       "    <tr style=\"text-align: right;\">\n",
       "      <th></th>\n",
       "      <th>description</th>\n",
       "      <th>format</th>\n",
       "      <th>name</th>\n",
       "      <th>created</th>\n",
       "      <th>last_modified</th>\n",
       "      <th>tags</th>\n",
       "      <th>area</th>\n",
       "      <th>organization</th>\n",
       "      <th>grupo</th>\n",
       "      <th>dataset</th>\n",
       "      <th>metadata_modified</th>\n",
       "      <th>PROVINCIA</th>\n",
       "      <th>LUGAR</th>\n",
       "    </tr>\n",
       "  </thead>\n",
       "  <tbody>\n",
       "    <tr>\n",
       "      <th>0</th>\n",
       "      <td>Listado con informacion de contactos a la line...</td>\n",
       "      <td>CSV</td>\n",
       "      <td>Llamados 147 COVID</td>\n",
       "      <td>2020-07-14T20:24:32.156319</td>\n",
       "      <td>2022-12-30T02:00:02.003123</td>\n",
       "      <td>[147, COVID-19, adultos mayores, atención ciud...</td>\n",
       "      <td>Ministerio de Salud</td>\n",
       "      <td>atencion-ciudadana</td>\n",
       "      <td>[covid-19, salud]</td>\n",
       "      <td>147-covid</td>\n",
       "      <td>2023-05-22T12:00:05.267005</td>\n",
       "      <td>CABA</td>\n",
       "      <td>CABA</td>\n",
       "    </tr>\n",
       "    <tr>\n",
       "      <th>1</th>\n",
       "      <td>Cantidad total de años de escolaridad que es d...</td>\n",
       "      <td>CSV</td>\n",
       "      <td>Años de escolaridad esperados</td>\n",
       "      <td>2019-04-09T14:40:31.719970</td>\n",
       "      <td>2019-04-09T14:40:31.719970</td>\n",
       "      <td>[]</td>\n",
       "      <td>Ministerio de Economía y Finanzas. Dirección G...</td>\n",
       "      <td>direccion-general-de-estadisticas-y-censos</td>\n",
       "      <td>[educacion]</td>\n",
       "      <td>acceso-credenciales-educativas</td>\n",
       "      <td>2021-12-31T04:50:36.095017</td>\n",
       "      <td>CABA</td>\n",
       "      <td>CABA</td>\n",
       "    </tr>\n",
       "    <tr>\n",
       "      <th>2</th>\n",
       "      <td>Relación entre el porcentaje de mujeres de 10 ...</td>\n",
       "      <td>CSV</td>\n",
       "      <td>Brecha de analfabetismo</td>\n",
       "      <td>2019-04-09T14:48:47.378813</td>\n",
       "      <td>2019-04-09T14:48:47.378813</td>\n",
       "      <td>[]</td>\n",
       "      <td>Ministerio de Economía y Finanzas. Dirección G...</td>\n",
       "      <td>direccion-general-de-estadisticas-y-censos</td>\n",
       "      <td>[educacion]</td>\n",
       "      <td>acceso-credenciales-educativas</td>\n",
       "      <td>2021-12-31T04:55:44.449063</td>\n",
       "      <td>CABA</td>\n",
       "      <td>CABA</td>\n",
       "    </tr>\n",
       "    <tr>\n",
       "      <th>3</th>\n",
       "      <td>Porcentaje de población escolarizada en cada n...</td>\n",
       "      <td>CSV</td>\n",
       "      <td>Tasa neta de escolarización</td>\n",
       "      <td>2019-04-09T15:02:02.262366</td>\n",
       "      <td>2019-04-09T15:02:02.262366</td>\n",
       "      <td>[]</td>\n",
       "      <td>Ministerio de Economía y Finanzas. Dirección G...</td>\n",
       "      <td>direccion-general-de-estadisticas-y-censos</td>\n",
       "      <td>[educacion]</td>\n",
       "      <td>acceso-credenciales-educativas</td>\n",
       "      <td>2021-12-31T04:59:59.474934</td>\n",
       "      <td>CABA</td>\n",
       "      <td>CABA</td>\n",
       "    </tr>\n",
       "    <tr>\n",
       "      <th>4</th>\n",
       "      <td>Cantidad total de años de escolaridad que es d...</td>\n",
       "      <td>XLSX</td>\n",
       "      <td>Años de escolaridad esperados (XLSX)</td>\n",
       "      <td>2019-04-09T14:40:31.719970</td>\n",
       "      <td>2019-04-09T14:40:31.719970</td>\n",
       "      <td>[]</td>\n",
       "      <td>Ministerio de Economía y Finanzas. Dirección G...</td>\n",
       "      <td>direccion-general-de-estadisticas-y-censos</td>\n",
       "      <td>[educacion]</td>\n",
       "      <td>acceso-credenciales-educativas</td>\n",
       "      <td>2021-12-31T05:01:20.377562</td>\n",
       "      <td>CABA</td>\n",
       "      <td>CABA</td>\n",
       "    </tr>\n",
       "    <tr>\n",
       "      <th>...</th>\n",
       "      <td>...</td>\n",
       "      <td>...</td>\n",
       "      <td>...</td>\n",
       "      <td>...</td>\n",
       "      <td>...</td>\n",
       "      <td>...</td>\n",
       "      <td>...</td>\n",
       "      <td>...</td>\n",
       "      <td>...</td>\n",
       "      <td>...</td>\n",
       "      <td>...</td>\n",
       "      <td>...</td>\n",
       "      <td>...</td>\n",
       "    </tr>\n",
       "    <tr>\n",
       "      <th>361</th>\n",
       "      <td>Cantidad de Mujeres y Varones asistidos 2018-2022</td>\n",
       "      <td>XLS</td>\n",
       "      <td>Cantidad de Mujeres y Varones asistidos</td>\n",
       "      <td>2020-01-24T15:02:44.868056</td>\n",
       "      <td>2023-01-18T12:59:10.538389</td>\n",
       "      <td>[genero, mujeres, noestassola, violencia, viol...</td>\n",
       "      <td>Dirección de Asistencia a la Mujer y a la familia</td>\n",
       "      <td>direccion-de-asistencia-a-la-mujer-y-a-la-familia</td>\n",
       "      <td>[diversidad, datos-demograficos, seguridad]</td>\n",
       "      <td>violencia-de-genero</td>\n",
       "      <td>NaN</td>\n",
       "      <td>BUENOS AIRES</td>\n",
       "      <td>PERGAMINO</td>\n",
       "    </tr>\n",
       "    <tr>\n",
       "      <th>362</th>\n",
       "      <td>Detalle de las instituciones y causas por la q...</td>\n",
       "      <td>CSV</td>\n",
       "      <td>Derivaciones realizadas por la Dirección de As...</td>\n",
       "      <td>2021-01-14T17:25:08.512079</td>\n",
       "      <td>2023-01-18T12:47:56.857265</td>\n",
       "      <td>[genero, mujeres, noestassola, violencia, viol...</td>\n",
       "      <td>Dirección de Asistencia a la Mujer y a la familia</td>\n",
       "      <td>direccion-de-asistencia-a-la-mujer-y-a-la-familia</td>\n",
       "      <td>[diversidad, datos-demograficos, seguridad]</td>\n",
       "      <td>violencia-de-genero</td>\n",
       "      <td>NaN</td>\n",
       "      <td>BUENOS AIRES</td>\n",
       "      <td>PERGAMINO</td>\n",
       "    </tr>\n",
       "    <tr>\n",
       "      <th>363</th>\n",
       "      <td>Detalle de las instituciones y causas por la c...</td>\n",
       "      <td>XLS</td>\n",
       "      <td>Derivaciones realizadas por la Dirección de As...</td>\n",
       "      <td>2021-01-14T17:19:05.571799</td>\n",
       "      <td>2023-01-18T12:46:33.232741</td>\n",
       "      <td>[genero, mujeres, noestassola, violencia, viol...</td>\n",
       "      <td>Dirección de Asistencia a la Mujer y a la familia</td>\n",
       "      <td>direccion-de-asistencia-a-la-mujer-y-a-la-familia</td>\n",
       "      <td>[diversidad, datos-demograficos, seguridad]</td>\n",
       "      <td>violencia-de-genero</td>\n",
       "      <td>NaN</td>\n",
       "      <td>BUENOS AIRES</td>\n",
       "      <td>PERGAMINO</td>\n",
       "    </tr>\n",
       "    <tr>\n",
       "      <th>364</th>\n",
       "      <td>Cantidad de hijos que tiene la víctima</td>\n",
       "      <td>CSV</td>\n",
       "      <td>Cantidad de hijos que tiene la víctima</td>\n",
       "      <td>2021-01-15T15:07:52.538340</td>\n",
       "      <td>2023-01-18T12:42:36.195164</td>\n",
       "      <td>[genero, mujeres, noestassola, violencia, viol...</td>\n",
       "      <td>Dirección de Asistencia a la Mujer y a la familia</td>\n",
       "      <td>direccion-de-asistencia-a-la-mujer-y-a-la-familia</td>\n",
       "      <td>[diversidad, datos-demograficos, seguridad]</td>\n",
       "      <td>violencia-de-genero</td>\n",
       "      <td>NaN</td>\n",
       "      <td>BUENOS AIRES</td>\n",
       "      <td>PERGAMINO</td>\n",
       "    </tr>\n",
       "    <tr>\n",
       "      <th>365</th>\n",
       "      <td>Cantidad de hijos que tiene la víctima</td>\n",
       "      <td>XLS</td>\n",
       "      <td>Cantidad de hijos que tiene la víctima</td>\n",
       "      <td>2021-01-15T15:08:18.692367</td>\n",
       "      <td>2023-01-18T12:41:50.732822</td>\n",
       "      <td>[genero, mujeres, noestassola, violencia, viol...</td>\n",
       "      <td>Dirección de Asistencia a la Mujer y a la familia</td>\n",
       "      <td>direccion-de-asistencia-a-la-mujer-y-a-la-familia</td>\n",
       "      <td>[diversidad, datos-demograficos, seguridad]</td>\n",
       "      <td>violencia-de-genero</td>\n",
       "      <td>NaN</td>\n",
       "      <td>BUENOS AIRES</td>\n",
       "      <td>PERGAMINO</td>\n",
       "    </tr>\n",
       "  </tbody>\n",
       "</table>\n",
       "<p>6974 rows × 13 columns</p>\n",
       "</div>"
      ],
      "text/plain": [
       "                                           description format  \\\n",
       "0    Listado con informacion de contactos a la line...    CSV   \n",
       "1    Cantidad total de años de escolaridad que es d...    CSV   \n",
       "2    Relación entre el porcentaje de mujeres de 10 ...    CSV   \n",
       "3    Porcentaje de población escolarizada en cada n...    CSV   \n",
       "4    Cantidad total de años de escolaridad que es d...   XLSX   \n",
       "..                                                 ...    ...   \n",
       "361  Cantidad de Mujeres y Varones asistidos 2018-2022    XLS   \n",
       "362  Detalle de las instituciones y causas por la q...    CSV   \n",
       "363  Detalle de las instituciones y causas por la c...    XLS   \n",
       "364             Cantidad de hijos que tiene la víctima    CSV   \n",
       "365             Cantidad de hijos que tiene la víctima    XLS   \n",
       "\n",
       "                                                  name  \\\n",
       "0                                   Llamados 147 COVID   \n",
       "1                        Años de escolaridad esperados   \n",
       "2                              Brecha de analfabetismo   \n",
       "3                          Tasa neta de escolarización   \n",
       "4                 Años de escolaridad esperados (XLSX)   \n",
       "..                                                 ...   \n",
       "361            Cantidad de Mujeres y Varones asistidos   \n",
       "362  Derivaciones realizadas por la Dirección de As...   \n",
       "363  Derivaciones realizadas por la Dirección de As...   \n",
       "364             Cantidad de hijos que tiene la víctima   \n",
       "365             Cantidad de hijos que tiene la víctima   \n",
       "\n",
       "                        created               last_modified  \\\n",
       "0    2020-07-14T20:24:32.156319  2022-12-30T02:00:02.003123   \n",
       "1    2019-04-09T14:40:31.719970  2019-04-09T14:40:31.719970   \n",
       "2    2019-04-09T14:48:47.378813  2019-04-09T14:48:47.378813   \n",
       "3    2019-04-09T15:02:02.262366  2019-04-09T15:02:02.262366   \n",
       "4    2019-04-09T14:40:31.719970  2019-04-09T14:40:31.719970   \n",
       "..                          ...                         ...   \n",
       "361  2020-01-24T15:02:44.868056  2023-01-18T12:59:10.538389   \n",
       "362  2021-01-14T17:25:08.512079  2023-01-18T12:47:56.857265   \n",
       "363  2021-01-14T17:19:05.571799  2023-01-18T12:46:33.232741   \n",
       "364  2021-01-15T15:07:52.538340  2023-01-18T12:42:36.195164   \n",
       "365  2021-01-15T15:08:18.692367  2023-01-18T12:41:50.732822   \n",
       "\n",
       "                                                  tags  \\\n",
       "0    [147, COVID-19, adultos mayores, atención ciud...   \n",
       "1                                                   []   \n",
       "2                                                   []   \n",
       "3                                                   []   \n",
       "4                                                   []   \n",
       "..                                                 ...   \n",
       "361  [genero, mujeres, noestassola, violencia, viol...   \n",
       "362  [genero, mujeres, noestassola, violencia, viol...   \n",
       "363  [genero, mujeres, noestassola, violencia, viol...   \n",
       "364  [genero, mujeres, noestassola, violencia, viol...   \n",
       "365  [genero, mujeres, noestassola, violencia, viol...   \n",
       "\n",
       "                                                  area  \\\n",
       "0                                  Ministerio de Salud   \n",
       "1    Ministerio de Economía y Finanzas. Dirección G...   \n",
       "2    Ministerio de Economía y Finanzas. Dirección G...   \n",
       "3    Ministerio de Economía y Finanzas. Dirección G...   \n",
       "4    Ministerio de Economía y Finanzas. Dirección G...   \n",
       "..                                                 ...   \n",
       "361  Dirección de Asistencia a la Mujer y a la familia   \n",
       "362  Dirección de Asistencia a la Mujer y a la familia   \n",
       "363  Dirección de Asistencia a la Mujer y a la familia   \n",
       "364  Dirección de Asistencia a la Mujer y a la familia   \n",
       "365  Dirección de Asistencia a la Mujer y a la familia   \n",
       "\n",
       "                                          organization  \\\n",
       "0                                   atencion-ciudadana   \n",
       "1           direccion-general-de-estadisticas-y-censos   \n",
       "2           direccion-general-de-estadisticas-y-censos   \n",
       "3           direccion-general-de-estadisticas-y-censos   \n",
       "4           direccion-general-de-estadisticas-y-censos   \n",
       "..                                                 ...   \n",
       "361  direccion-de-asistencia-a-la-mujer-y-a-la-familia   \n",
       "362  direccion-de-asistencia-a-la-mujer-y-a-la-familia   \n",
       "363  direccion-de-asistencia-a-la-mujer-y-a-la-familia   \n",
       "364  direccion-de-asistencia-a-la-mujer-y-a-la-familia   \n",
       "365  direccion-de-asistencia-a-la-mujer-y-a-la-familia   \n",
       "\n",
       "                                           grupo  \\\n",
       "0                              [covid-19, salud]   \n",
       "1                                    [educacion]   \n",
       "2                                    [educacion]   \n",
       "3                                    [educacion]   \n",
       "4                                    [educacion]   \n",
       "..                                           ...   \n",
       "361  [diversidad, datos-demograficos, seguridad]   \n",
       "362  [diversidad, datos-demograficos, seguridad]   \n",
       "363  [diversidad, datos-demograficos, seguridad]   \n",
       "364  [diversidad, datos-demograficos, seguridad]   \n",
       "365  [diversidad, datos-demograficos, seguridad]   \n",
       "\n",
       "                            dataset           metadata_modified     PROVINCIA  \\\n",
       "0                         147-covid  2023-05-22T12:00:05.267005          CABA   \n",
       "1    acceso-credenciales-educativas  2021-12-31T04:50:36.095017          CABA   \n",
       "2    acceso-credenciales-educativas  2021-12-31T04:55:44.449063          CABA   \n",
       "3    acceso-credenciales-educativas  2021-12-31T04:59:59.474934          CABA   \n",
       "4    acceso-credenciales-educativas  2021-12-31T05:01:20.377562          CABA   \n",
       "..                              ...                         ...           ...   \n",
       "361             violencia-de-genero                         NaN  BUENOS AIRES   \n",
       "362             violencia-de-genero                         NaN  BUENOS AIRES   \n",
       "363             violencia-de-genero                         NaN  BUENOS AIRES   \n",
       "364             violencia-de-genero                         NaN  BUENOS AIRES   \n",
       "365             violencia-de-genero                         NaN  BUENOS AIRES   \n",
       "\n",
       "         LUGAR  \n",
       "0         CABA  \n",
       "1         CABA  \n",
       "2         CABA  \n",
       "3         CABA  \n",
       "4         CABA  \n",
       "..         ...  \n",
       "361  PERGAMINO  \n",
       "362  PERGAMINO  \n",
       "363  PERGAMINO  \n",
       "364  PERGAMINO  \n",
       "365  PERGAMINO  \n",
       "\n",
       "[6974 rows x 13 columns]"
      ]
     },
     "execution_count": 152,
     "metadata": {},
     "output_type": "execute_result"
    }
   ],
   "source": [
    "from herrramientas import Ckan\n",
    "\n",
    "matriz_completa = pd.DataFrame(columns=['description',\n",
    " 'format',\n",
    " 'name',\n",
    " 'created',\n",
    " 'last_modified',\n",
    " 'tags',\n",
    " 'area',\n",
    " 'organization',\n",
    " 'grupo',\n",
    " 'dataset'])\n",
    "\n",
    "for portal in df_portales_ciudades.iterrows():\n",
    "    url = portal[1][2]\n",
    "    ckan = Ckan(url)\n",
    "\n",
    "    nombre = portal[1][1].lower().replace(' ','_')\n",
    "\n",
    "    matriz_especifica = ckan.df_recursos_totales()\n",
    "    matriz_especifica['PROVINCIA'],matriz_especifica['LUGAR'] = portal[1][3],portal[1][1]\n",
    "\n",
    "    matriz_completa = pd.concat([matriz_completa,matriz_especifica])\n",
    "\n",
    "    print(f'se agregó la matriz {portal[1][1]}')\n",
    "    \n",
    "matriz_completa"
   ]
  },
  {
   "attachments": {},
   "cell_type": "markdown",
   "metadata": {},
   "source": [
    "#### Matriz de tags"
   ]
  },
  {
   "cell_type": "code",
   "execution_count": 153,
   "metadata": {},
   "outputs": [
    {
     "data": {
      "text/html": [
       "<div>\n",
       "<style scoped>\n",
       "    .dataframe tbody tr th:only-of-type {\n",
       "        vertical-align: middle;\n",
       "    }\n",
       "\n",
       "    .dataframe tbody tr th {\n",
       "        vertical-align: top;\n",
       "    }\n",
       "\n",
       "    .dataframe thead th {\n",
       "        text-align: right;\n",
       "    }\n",
       "</style>\n",
       "<table border=\"1\" class=\"dataframe\">\n",
       "  <thead>\n",
       "    <tr style=\"text-align: right;\">\n",
       "      <th></th>\n",
       "      <th>tags</th>\n",
       "      <th>organizacion</th>\n",
       "      <th>grupo</th>\n",
       "      <th>dataset</th>\n",
       "      <th>provincia</th>\n",
       "      <th>ciudad</th>\n",
       "      <th>tags_tokenizados</th>\n",
       "      <th>tags_lematizados</th>\n",
       "      <th>tags_lematizados_unificados</th>\n",
       "    </tr>\n",
       "  </thead>\n",
       "  <tbody>\n",
       "    <tr>\n",
       "      <th>0</th>\n",
       "      <td>información pública</td>\n",
       "      <td>Ministerio de Gobierno. SS de Asuntos Político...</td>\n",
       "      <td>administracion-publica</td>\n",
       "      <td>acceso-informacion-publica</td>\n",
       "      <td>CABA</td>\n",
       "      <td>CABA</td>\n",
       "      <td>[información, pública]</td>\n",
       "      <td>[información, público]</td>\n",
       "      <td>información público</td>\n",
       "    </tr>\n",
       "    <tr>\n",
       "      <th>1</th>\n",
       "      <td>ley 104</td>\n",
       "      <td>Ministerio de Gobierno. SS de Asuntos Político...</td>\n",
       "      <td>administracion-publica</td>\n",
       "      <td>acceso-informacion-publica</td>\n",
       "      <td>CABA</td>\n",
       "      <td>CABA</td>\n",
       "      <td>[ley, 104]</td>\n",
       "      <td>[ley, 104]</td>\n",
       "      <td>ley 104</td>\n",
       "    </tr>\n",
       "    <tr>\n",
       "      <th>2</th>\n",
       "      <td>normas</td>\n",
       "      <td>Ministerio de Gobierno. SS de Asuntos Político...</td>\n",
       "      <td>administracion-publica</td>\n",
       "      <td>acceso-informacion-publica</td>\n",
       "      <td>CABA</td>\n",
       "      <td>CABA</td>\n",
       "      <td>[normas]</td>\n",
       "      <td>[norma]</td>\n",
       "      <td>norma</td>\n",
       "    </tr>\n",
       "    <tr>\n",
       "      <th>3</th>\n",
       "      <td>transparencia</td>\n",
       "      <td>Ministerio de Gobierno. SS de Asuntos Político...</td>\n",
       "      <td>administracion-publica</td>\n",
       "      <td>acceso-informacion-publica</td>\n",
       "      <td>CABA</td>\n",
       "      <td>CABA</td>\n",
       "      <td>[transparencia]</td>\n",
       "      <td>[transparencia]</td>\n",
       "      <td>transparencia</td>\n",
       "    </tr>\n",
       "    <tr>\n",
       "      <th>4</th>\n",
       "      <td>información pública</td>\n",
       "      <td>Ministerio de Gobierno. SS de Asuntos Político...</td>\n",
       "      <td>administracion-publica</td>\n",
       "      <td>acceso-informacion-publica</td>\n",
       "      <td>CABA</td>\n",
       "      <td>CABA</td>\n",
       "      <td>[información, pública]</td>\n",
       "      <td>[información, público]</td>\n",
       "      <td>información público</td>\n",
       "    </tr>\n",
       "    <tr>\n",
       "      <th>...</th>\n",
       "      <td>...</td>\n",
       "      <td>...</td>\n",
       "      <td>...</td>\n",
       "      <td>...</td>\n",
       "      <td>...</td>\n",
       "      <td>...</td>\n",
       "      <td>...</td>\n",
       "      <td>...</td>\n",
       "      <td>...</td>\n",
       "    </tr>\n",
       "    <tr>\n",
       "      <th>11518</th>\n",
       "      <td>ingreso escolar</td>\n",
       "      <td>Secretaria de Salud</td>\n",
       "      <td>salud</td>\n",
       "      <td>vacunas-ingreso-escolas</td>\n",
       "      <td>BUENOS AIRES</td>\n",
       "      <td>PERGAMINO</td>\n",
       "      <td>[ingreso, escolar]</td>\n",
       "      <td>[ingreso, escolar]</td>\n",
       "      <td>ingreso escolar</td>\n",
       "    </tr>\n",
       "    <tr>\n",
       "      <th>11519</th>\n",
       "      <td>vacunas</td>\n",
       "      <td>Secretaria de Salud</td>\n",
       "      <td>salud</td>\n",
       "      <td>vacunas-ingreso-escolas</td>\n",
       "      <td>BUENOS AIRES</td>\n",
       "      <td>PERGAMINO</td>\n",
       "      <td>[vacunas]</td>\n",
       "      <td>[vacuna]</td>\n",
       "      <td>vacuna</td>\n",
       "    </tr>\n",
       "    <tr>\n",
       "      <th>11520</th>\n",
       "      <td>CAPS</td>\n",
       "      <td>Secretaria de Salud</td>\n",
       "      <td>salud</td>\n",
       "      <td>vacunas-ingreso-escolas</td>\n",
       "      <td>BUENOS AIRES</td>\n",
       "      <td>PERGAMINO</td>\n",
       "      <td>[CAPS]</td>\n",
       "      <td>[CAPS]</td>\n",
       "      <td>CAPS</td>\n",
       "    </tr>\n",
       "    <tr>\n",
       "      <th>11521</th>\n",
       "      <td>ingreso escolar</td>\n",
       "      <td>Secretaria de Salud</td>\n",
       "      <td>salud</td>\n",
       "      <td>vacunas-ingreso-escolas</td>\n",
       "      <td>BUENOS AIRES</td>\n",
       "      <td>PERGAMINO</td>\n",
       "      <td>[ingreso, escolar]</td>\n",
       "      <td>[ingreso, escolar]</td>\n",
       "      <td>ingreso escolar</td>\n",
       "    </tr>\n",
       "    <tr>\n",
       "      <th>11522</th>\n",
       "      <td>vacunas</td>\n",
       "      <td>Secretaria de Salud</td>\n",
       "      <td>salud</td>\n",
       "      <td>vacunas-ingreso-escolas</td>\n",
       "      <td>BUENOS AIRES</td>\n",
       "      <td>PERGAMINO</td>\n",
       "      <td>[vacunas]</td>\n",
       "      <td>[vacuna]</td>\n",
       "      <td>vacuna</td>\n",
       "    </tr>\n",
       "  </tbody>\n",
       "</table>\n",
       "<p>11523 rows × 9 columns</p>\n",
       "</div>"
      ],
      "text/plain": [
       "                      tags                                       organizacion  \\\n",
       "0      información pública  Ministerio de Gobierno. SS de Asuntos Político...   \n",
       "1                  ley 104  Ministerio de Gobierno. SS de Asuntos Político...   \n",
       "2                   normas  Ministerio de Gobierno. SS de Asuntos Político...   \n",
       "3            transparencia  Ministerio de Gobierno. SS de Asuntos Político...   \n",
       "4      información pública  Ministerio de Gobierno. SS de Asuntos Político...   \n",
       "...                    ...                                                ...   \n",
       "11518      ingreso escolar                                Secretaria de Salud   \n",
       "11519              vacunas                                Secretaria de Salud   \n",
       "11520                 CAPS                                Secretaria de Salud   \n",
       "11521      ingreso escolar                                Secretaria de Salud   \n",
       "11522              vacunas                                Secretaria de Salud   \n",
       "\n",
       "                        grupo                     dataset     provincia  \\\n",
       "0      administracion-publica  acceso-informacion-publica          CABA   \n",
       "1      administracion-publica  acceso-informacion-publica          CABA   \n",
       "2      administracion-publica  acceso-informacion-publica          CABA   \n",
       "3      administracion-publica  acceso-informacion-publica          CABA   \n",
       "4      administracion-publica  acceso-informacion-publica          CABA   \n",
       "...                       ...                         ...           ...   \n",
       "11518                   salud     vacunas-ingreso-escolas  BUENOS AIRES   \n",
       "11519                   salud     vacunas-ingreso-escolas  BUENOS AIRES   \n",
       "11520                   salud     vacunas-ingreso-escolas  BUENOS AIRES   \n",
       "11521                   salud     vacunas-ingreso-escolas  BUENOS AIRES   \n",
       "11522                   salud     vacunas-ingreso-escolas  BUENOS AIRES   \n",
       "\n",
       "          ciudad        tags_tokenizados        tags_lematizados  \\\n",
       "0           CABA  [información, pública]  [información, público]   \n",
       "1           CABA              [ley, 104]              [ley, 104]   \n",
       "2           CABA                [normas]                 [norma]   \n",
       "3           CABA         [transparencia]         [transparencia]   \n",
       "4           CABA  [información, pública]  [información, público]   \n",
       "...          ...                     ...                     ...   \n",
       "11518  PERGAMINO      [ingreso, escolar]      [ingreso, escolar]   \n",
       "11519  PERGAMINO               [vacunas]                [vacuna]   \n",
       "11520  PERGAMINO                  [CAPS]                  [CAPS]   \n",
       "11521  PERGAMINO      [ingreso, escolar]      [ingreso, escolar]   \n",
       "11522  PERGAMINO               [vacunas]                [vacuna]   \n",
       "\n",
       "      tags_lematizados_unificados  \n",
       "0             información público  \n",
       "1                         ley 104  \n",
       "2                           norma  \n",
       "3                   transparencia  \n",
       "4             información público  \n",
       "...                           ...  \n",
       "11518             ingreso escolar  \n",
       "11519                      vacuna  \n",
       "11520                        CAPS  \n",
       "11521             ingreso escolar  \n",
       "11522                      vacuna  \n",
       "\n",
       "[11523 rows x 9 columns]"
      ]
     },
     "execution_count": 153,
     "metadata": {},
     "output_type": "execute_result"
    }
   ],
   "source": [
    "matriz_tags = []\n",
    "\n",
    "for fila in matriz_completa.iterrows():\n",
    "\n",
    "    if len(fila[1][5]) == 1 and len(fila[1][8]) == 1:\n",
    "        matriz_tags.append(\n",
    "            [\n",
    "                fila[1][5][0], #tag\n",
    "                fila[1][6], #organizacion\n",
    "                fila[1][8][0], #grupo\n",
    "                fila[1][8], #Dataset\n",
    "                fila[1][11], #provincia\n",
    "                fila[1][12], #ciudad\n",
    "\n",
    "             ]\n",
    "        )\n",
    "\n",
    "    if len(fila[1][5]) > 1 and len(fila[1][8]) == 1:\n",
    "        for tag in fila[1][5]:\n",
    "            matriz_tags.append(\n",
    "            [\n",
    "                tag, #tag\n",
    "                fila[1][6], #organizacion\n",
    "                fila[1][8], #grupo\n",
    "                fila[1][9], #Dataset\n",
    "                fila[1][11], #provincia\n",
    "                fila[1][12], #ciudad\n",
    "\n",
    "             ]\n",
    "        )\n",
    "            \n",
    "matriz_tags = pd.DataFrame(matriz_tags,columns=['tags','organizacion','grupo','dataset','provincia','ciudad'])\n",
    "\n",
    "\n",
    "# Tokenizar la columna de tags\n",
    "matriz_tags['tags_tokenizados'] = matriz_tags['tags'].apply(lambda x: [token.text for token in nlp(x)])\n",
    "\n",
    "matriz_tags['tags_lematizados'] = matriz_tags['tags'].apply(lambda x: [token.lemma_ for token in nlp(x)])\n",
    "\n",
    "matriz_tags['tags_lematizados_unificados'] = matriz_tags['tags_lematizados'].apply(lambda x: ' '.join(x))\n",
    "\n",
    "matriz_tags['grupo'] = matriz_tags['grupo'].apply(lambda x: x[0])\n",
    "\n",
    "matriz_tags"
   ]
  },
  {
   "cell_type": "code",
   "execution_count": 154,
   "metadata": {},
   "outputs": [],
   "source": [
    "frecuencia_tags_ciudad = pd.DataFrame(matriz_tags.groupby(by=['tags_lematizados_unificados','ciudad','grupo']).size()).reset_index()\n",
    "\n",
    "frecuencia_tags_ciudad.columns = ['tags_lematizados_unificados','ciudad','grupo','frecuencia']\n",
    "\n",
    "frecuencia_tags_ciudad = frecuencia_tags_ciudad.sort_values(by='frecuencia',ascending=False)"
   ]
  },
  {
   "cell_type": "code",
   "execution_count": 155,
   "metadata": {},
   "outputs": [
    {
     "data": {
      "application/vnd.plotly.v1+json": {
       "config": {
        "plotlyServerURL": "https://plot.ly"
       },
       "data": [
        {
         "hovertemplate": "tags_lematizados_unificados=%{text}<br>ciudad=%{x}<br>frecuencia=%{y}<extra></extra>",
         "legendgroup": "Decretos",
         "marker": {
          "color": "#636efa",
          "symbol": "circle"
         },
         "mode": "markers+text",
         "name": "Decretos",
         "orientation": "v",
         "showlegend": true,
         "text": [
          "Decretos"
         ],
         "type": "scatter",
         "x": [
          "LINCOLN"
         ],
         "xaxis": "x",
         "y": [
          238
         ],
         "yaxis": "y"
        },
        {
         "hovertemplate": "tags_lematizados_unificados=%{text}<br>ciudad=%{x}<br>frecuencia=%{y}<extra></extra>",
         "legendgroup": "Secretaría de Gobierno",
         "marker": {
          "color": "#EF553B",
          "symbol": "circle"
         },
         "mode": "markers+text",
         "name": "Secretaría de Gobierno",
         "orientation": "v",
         "showlegend": true,
         "text": [
          "Secretaría de Gobierno"
         ],
         "type": "scatter",
         "x": [
          "LINCOLN"
         ],
         "xaxis": "x",
         "y": [
          132
         ],
         "yaxis": "y"
        },
        {
         "hovertemplate": "tags_lematizados_unificados=%{text}<br>ciudad=%{x}<br>frecuencia=%{y}<extra></extra>",
         "legendgroup": "cambio climático",
         "marker": {
          "color": "#00cc96",
          "symbol": "circle"
         },
         "mode": "markers+text",
         "name": "cambio climático",
         "orientation": "v",
         "showlegend": true,
         "text": [
          "cambio climático",
          "cambio climático"
         ],
         "type": "scatter",
         "x": [
          "CABA",
          "CABA"
         ],
         "xaxis": "x",
         "y": [
          123,
          65
         ],
         "yaxis": "y"
        },
        {
         "hovertemplate": "tags_lematizados_unificados=%{text}<br>ciudad=%{x}<br>frecuencia=%{y}<extra></extra>",
         "legendgroup": "transporte",
         "marker": {
          "color": "#ab63fa",
          "symbol": "circle"
         },
         "mode": "markers+text",
         "name": "transporte",
         "orientation": "v",
         "showlegend": true,
         "text": [
          "transporte"
         ],
         "type": "scatter",
         "x": [
          "CABA"
         ],
         "xaxis": "x",
         "y": [
          101
         ],
         "yaxis": "y"
        },
        {
         "hovertemplate": "tags_lematizados_unificados=%{text}<br>ciudad=%{x}<br>frecuencia=%{y}<extra></extra>",
         "legendgroup": "infracción",
         "marker": {
          "color": "#FFA15A",
          "symbol": "circle"
         },
         "mode": "markers+text",
         "name": "infracción",
         "orientation": "v",
         "showlegend": true,
         "text": [
          "infracción"
         ],
         "type": "scatter",
         "x": [
          "BAHIA BLANCA"
         ],
         "xaxis": "x",
         "y": [
          98
         ],
         "yaxis": "y"
        },
        {
         "hovertemplate": "tags_lematizados_unificados=%{text}<br>ciudad=%{x}<br>frecuencia=%{y}<extra></extra>",
         "legendgroup": "operativo",
         "marker": {
          "color": "#19d3f3",
          "symbol": "circle"
         },
         "mode": "markers+text",
         "name": "operativo",
         "orientation": "v",
         "showlegend": true,
         "text": [
          "operativo"
         ],
         "type": "scatter",
         "x": [
          "BAHIA BLANCA"
         ],
         "xaxis": "x",
         "y": [
          98
         ],
         "yaxis": "y"
        },
        {
         "hovertemplate": "tags_lematizados_unificados=%{text}<br>ciudad=%{x}<br>frecuencia=%{y}<extra></extra>",
         "legendgroup": "control de transito",
         "marker": {
          "color": "#FF6692",
          "symbol": "circle"
         },
         "mode": "markers+text",
         "name": "control de transito",
         "orientation": "v",
         "showlegend": true,
         "text": [
          "control de transito"
         ],
         "type": "scatter",
         "x": [
          "BAHIA BLANCA"
         ],
         "xaxis": "x",
         "y": [
          97
         ],
         "yaxis": "y"
        },
        {
         "hovertemplate": "tags_lematizados_unificados=%{text}<br>ciudad=%{x}<br>frecuencia=%{y}<extra></extra>",
         "legendgroup": "transparencia",
         "marker": {
          "color": "#B6E880",
          "symbol": "circle"
         },
         "mode": "markers+text",
         "name": "transparencia",
         "orientation": "v",
         "showlegend": true,
         "text": [
          "transparencia",
          "transparencia",
          "transparencia"
         ],
         "type": "scatter",
         "x": [
          "MERCEDES",
          "MERCEDES",
          "MERCEDES"
         ],
         "xaxis": "x",
         "y": [
          93,
          69,
          42
         ],
         "yaxis": "y"
        },
        {
         "hovertemplate": "tags_lematizados_unificados=%{text}<br>ciudad=%{x}<br>frecuencia=%{y}<extra></extra>",
         "legendgroup": "jardin",
         "marker": {
          "color": "#FF97FF",
          "symbol": "circle"
         },
         "mode": "markers+text",
         "name": "jardin",
         "orientation": "v",
         "showlegend": true,
         "text": [
          "jardin"
         ],
         "type": "scatter",
         "x": [
          "LINCOLN"
         ],
         "xaxis": "x",
         "y": [
          90
         ],
         "yaxis": "y"
        },
        {
         "hovertemplate": "tags_lematizados_unificados=%{text}<br>ciudad=%{x}<br>frecuencia=%{y}<extra></extra>",
         "legendgroup": "2017",
         "marker": {
          "color": "#FECB52",
          "symbol": "circle"
         },
         "mode": "markers+text",
         "name": "2017",
         "orientation": "v",
         "showlegend": true,
         "text": [
          "2017"
         ],
         "type": "scatter",
         "x": [
          "LINCOLN"
         ],
         "xaxis": "x",
         "y": [
          85
         ],
         "yaxis": "y"
        },
        {
         "hovertemplate": "tags_lematizados_unificados=%{text}<br>ciudad=%{x}<br>frecuencia=%{y}<extra></extra>",
         "legendgroup": "Seguridad",
         "marker": {
          "color": "#636efa",
          "symbol": "circle"
         },
         "mode": "markers+text",
         "name": "Seguridad",
         "orientation": "v",
         "showlegend": true,
         "text": [
          "Seguridad"
         ],
         "type": "scatter",
         "x": [
          "MERCEDES"
         ],
         "xaxis": "x",
         "y": [
          84
         ],
         "yaxis": "y"
        },
        {
         "hovertemplate": "tags_lematizados_unificados=%{text}<br>ciudad=%{x}<br>frecuencia=%{y}<extra></extra>",
         "legendgroup": "servicio",
         "marker": {
          "color": "#EF553B",
          "symbol": "circle"
         },
         "mode": "markers+text",
         "name": "servicio",
         "orientation": "v",
         "showlegend": true,
         "text": [
          "servicio"
         ],
         "type": "scatter",
         "x": [
          "CABA"
         ],
         "xaxis": "x",
         "y": [
          75
         ],
         "yaxis": "y"
        },
        {
         "hovertemplate": "tags_lematizados_unificados=%{text}<br>ciudad=%{x}<br>frecuencia=%{y}<extra></extra>",
         "legendgroup": "economía",
         "marker": {
          "color": "#00cc96",
          "symbol": "circle"
         },
         "mode": "markers+text",
         "name": "economía",
         "orientation": "v",
         "showlegend": true,
         "text": [
          "economía"
         ],
         "type": "scatter",
         "x": [
          "CABA"
         ],
         "xaxis": "x",
         "y": [
          75
         ],
         "yaxis": "y"
        },
        {
         "hovertemplate": "tags_lematizados_unificados=%{text}<br>ciudad=%{x}<br>frecuencia=%{y}<extra></extra>",
         "legendgroup": "beca",
         "marker": {
          "color": "#ab63fa",
          "symbol": "circle"
         },
         "mode": "markers+text",
         "name": "beca",
         "orientation": "v",
         "showlegend": true,
         "text": [
          "beca"
         ],
         "type": "scatter",
         "x": [
          "LINCOLN"
         ],
         "xaxis": "x",
         "y": [
          69
         ],
         "yaxis": "y"
        },
        {
         "hovertemplate": "tags_lematizados_unificados=%{text}<br>ciudad=%{x}<br>frecuencia=%{y}<extra></extra>",
         "legendgroup": "ejecución presupuestario",
         "marker": {
          "color": "#FFA15A",
          "symbol": "circle"
         },
         "mode": "markers+text",
         "name": "ejecución presupuestario",
         "orientation": "v",
         "showlegend": true,
         "text": [
          "ejecución presupuestario"
         ],
         "type": "scatter",
         "x": [
          "MERCEDES"
         ],
         "xaxis": "x",
         "y": [
          66
         ],
         "yaxis": "y"
        },
        {
         "hovertemplate": "tags_lematizados_unificados=%{text}<br>ciudad=%{x}<br>frecuencia=%{y}<extra></extra>",
         "legendgroup": "funcionario",
         "marker": {
          "color": "#19d3f3",
          "symbol": "circle"
         },
         "mode": "markers+text",
         "name": "funcionario",
         "orientation": "v",
         "showlegend": true,
         "text": [
          "funcionario"
         ],
         "type": "scatter",
         "x": [
          "LINCOLN"
         ],
         "xaxis": "x",
         "y": [
          63
         ],
         "yaxis": "y"
        },
        {
         "hovertemplate": "tags_lematizados_unificados=%{text}<br>ciudad=%{x}<br>frecuencia=%{y}<extra></extra>",
         "legendgroup": "declaración",
         "marker": {
          "color": "#FF6692",
          "symbol": "circle"
         },
         "mode": "markers+text",
         "name": "declaración",
         "orientation": "v",
         "showlegend": true,
         "text": [
          "declaración"
         ],
         "type": "scatter",
         "x": [
          "LINCOLN"
         ],
         "xaxis": "x",
         "y": [
          62
         ],
         "yaxis": "y"
        },
        {
         "hovertemplate": "tags_lematizados_unificados=%{text}<br>ciudad=%{x}<br>frecuencia=%{y}<extra></extra>",
         "legendgroup": "jurada",
         "marker": {
          "color": "#B6E880",
          "symbol": "circle"
         },
         "mode": "markers+text",
         "name": "jurada",
         "orientation": "v",
         "showlegend": true,
         "text": [
          "jurada"
         ],
         "type": "scatter",
         "x": [
          "LINCOLN"
         ],
         "xaxis": "x",
         "y": [
          62
         ],
         "yaxis": "y"
        },
        {
         "hovertemplate": "tags_lematizados_unificados=%{text}<br>ciudad=%{x}<br>frecuencia=%{y}<extra></extra>",
         "legendgroup": "2016",
         "marker": {
          "color": "#FF97FF",
          "symbol": "circle"
         },
         "mode": "markers+text",
         "name": "2016",
         "orientation": "v",
         "showlegend": true,
         "text": [
          "2016"
         ],
         "type": "scatter",
         "x": [
          "LINCOLN"
         ],
         "xaxis": "x",
         "y": [
          61
         ],
         "yaxis": "y"
        },
        {
         "hovertemplate": "tags_lematizados_unificados=%{text}<br>ciudad=%{x}<br>frecuencia=%{y}<extra></extra>",
         "legendgroup": "CAPS",
         "marker": {
          "color": "#FECB52",
          "symbol": "circle"
         },
         "mode": "markers+text",
         "name": "CAPS",
         "orientation": "v",
         "showlegend": true,
         "text": [
          "CAPS"
         ],
         "type": "scatter",
         "x": [
          "MERCEDES"
         ],
         "xaxis": "x",
         "y": [
          60
         ],
         "yaxis": "y"
        },
        {
         "hovertemplate": "tags_lematizados_unificados=%{text}<br>ciudad=%{x}<br>frecuencia=%{y}<extra></extra>",
         "legendgroup": "gasto",
         "marker": {
          "color": "#636efa",
          "symbol": "circle"
         },
         "mode": "markers+text",
         "name": "gasto",
         "orientation": "v",
         "showlegend": true,
         "text": [
          "gasto"
         ],
         "type": "scatter",
         "x": [
          "LINCOLN"
         ],
         "xaxis": "x",
         "y": [
          58
         ],
         "yaxis": "y"
        },
        {
         "hovertemplate": "tags_lematizados_unificados=%{text}<br>ciudad=%{x}<br>frecuencia=%{y}<extra></extra>",
         "legendgroup": "presupuesto",
         "marker": {
          "color": "#EF553B",
          "symbol": "circle"
         },
         "mode": "markers+text",
         "name": "presupuesto",
         "orientation": "v",
         "showlegend": true,
         "text": [
          "presupuesto"
         ],
         "type": "scatter",
         "x": [
          "MERCEDES"
         ],
         "xaxis": "x",
         "y": [
          58
         ],
         "yaxis": "y"
        },
        {
         "hovertemplate": "tags_lematizados_unificados=%{text}<br>ciudad=%{x}<br>frecuencia=%{y}<extra></extra>",
         "legendgroup": "DDJJ Funcionarios",
         "marker": {
          "color": "#00cc96",
          "symbol": "circle"
         },
         "mode": "markers+text",
         "name": "DDJJ Funcionarios",
         "orientation": "v",
         "showlegend": true,
         "text": [
          "DDJJ Funcionarios"
         ],
         "type": "scatter",
         "x": [
          "MENDOZA"
         ],
         "xaxis": "x",
         "y": [
          57
         ],
         "yaxis": "y"
        },
        {
         "hovertemplate": "tags_lematizados_unificados=%{text}<br>ciudad=%{x}<br>frecuencia=%{y}<extra></extra>",
         "legendgroup": "urbanismo",
         "marker": {
          "color": "#ab63fa",
          "symbol": "circle"
         },
         "mode": "markers+text",
         "name": "urbanismo",
         "orientation": "v",
         "showlegend": true,
         "text": [
          "urbanismo"
         ],
         "type": "scatter",
         "x": [
          "CABA"
         ],
         "xaxis": "x",
         "y": [
          54
         ],
         "yaxis": "y"
        },
        {
         "hovertemplate": "tags_lematizados_unificados=%{text}<br>ciudad=%{x}<br>frecuencia=%{y}<extra></extra>",
         "legendgroup": "Ejecucion",
         "marker": {
          "color": "#FFA15A",
          "symbol": "circle"
         },
         "mode": "markers+text",
         "name": "Ejecucion",
         "orientation": "v",
         "showlegend": true,
         "text": [
          "Ejecucion"
         ],
         "type": "scatter",
         "x": [
          "LINCOLN"
         ],
         "xaxis": "x",
         "y": [
          54
         ],
         "yaxis": "y"
        },
        {
         "hovertemplate": "tags_lematizados_unificados=%{text}<br>ciudad=%{x}<br>frecuencia=%{y}<extra></extra>",
         "legendgroup": "orden",
         "marker": {
          "color": "#19d3f3",
          "symbol": "circle"
         },
         "mode": "markers+text",
         "name": "orden",
         "orientation": "v",
         "showlegend": true,
         "text": [
          "orden"
         ],
         "type": "scatter",
         "x": [
          "LINCOLN"
         ],
         "xaxis": "x",
         "y": [
          50
         ],
         "yaxis": "y"
        },
        {
         "hovertemplate": "tags_lematizados_unificados=%{text}<br>ciudad=%{x}<br>frecuencia=%{y}<extra></extra>",
         "legendgroup": "compra",
         "marker": {
          "color": "#FF6692",
          "symbol": "circle"
         },
         "mode": "markers+text",
         "name": "compra",
         "orientation": "v",
         "showlegend": true,
         "text": [
          "compra"
         ],
         "type": "scatter",
         "x": [
          "LINCOLN"
         ],
         "xaxis": "x",
         "y": [
          50
         ],
         "yaxis": "y"
        },
        {
         "hovertemplate": "tags_lematizados_unificados=%{text}<br>ciudad=%{x}<br>frecuencia=%{y}<extra></extra>",
         "legendgroup": "2018",
         "marker": {
          "color": "#B6E880",
          "symbol": "circle"
         },
         "mode": "markers+text",
         "name": "2018",
         "orientation": "v",
         "showlegend": true,
         "text": [
          "2018"
         ],
         "type": "scatter",
         "x": [
          "LINCOLN"
         ],
         "xaxis": "x",
         "y": [
          47
         ],
         "yaxis": "y"
        },
        {
         "hovertemplate": "tags_lematizados_unificados=%{text}<br>ciudad=%{x}<br>frecuencia=%{y}<extra></extra>",
         "legendgroup": "transito",
         "marker": {
          "color": "#FF97FF",
          "symbol": "circle"
         },
         "mode": "markers+text",
         "name": "transito",
         "orientation": "v",
         "showlegend": true,
         "text": [
          "transito"
         ],
         "type": "scatter",
         "x": [
          "CABA"
         ],
         "xaxis": "x",
         "y": [
          47
         ],
         "yaxis": "y"
        },
        {
         "hovertemplate": "tags_lematizados_unificados=%{text}<br>ciudad=%{x}<br>frecuencia=%{y}<extra></extra>",
         "legendgroup": "terciario",
         "marker": {
          "color": "#FECB52",
          "symbol": "circle"
         },
         "mode": "markers+text",
         "name": "terciario",
         "orientation": "v",
         "showlegend": true,
         "text": [
          "terciario"
         ],
         "type": "scatter",
         "x": [
          "LINCOLN"
         ],
         "xaxis": "x",
         "y": [
          46
         ],
         "yaxis": "y"
        },
        {
         "hovertemplate": "tags_lematizados_unificados=%{text}<br>ciudad=%{x}<br>frecuencia=%{y}<extra></extra>",
         "legendgroup": "sueldo",
         "marker": {
          "color": "#636efa",
          "symbol": "circle"
         },
         "mode": "markers+text",
         "name": "sueldo",
         "orientation": "v",
         "showlegend": true,
         "text": [
          "sueldo"
         ],
         "type": "scatter",
         "x": [
          "LINCOLN"
         ],
         "xaxis": "x",
         "y": [
          46
         ],
         "yaxis": "y"
        },
        {
         "hovertemplate": "tags_lematizados_unificados=%{text}<br>ciudad=%{x}<br>frecuencia=%{y}<extra></extra>",
         "legendgroup": "2019",
         "marker": {
          "color": "#EF553B",
          "symbol": "circle"
         },
         "mode": "markers+text",
         "name": "2019",
         "orientation": "v",
         "showlegend": true,
         "text": [
          "2019"
         ],
         "type": "scatter",
         "x": [
          "LINCOLN"
         ],
         "xaxis": "x",
         "y": [
          46
         ],
         "yaxis": "y"
        },
        {
         "hovertemplate": "tags_lematizados_unificados=%{text}<br>ciudad=%{x}<br>frecuencia=%{y}<extra></extra>",
         "legendgroup": "bicicleta",
         "marker": {
          "color": "#00cc96",
          "symbol": "circle"
         },
         "mode": "markers+text",
         "name": "bicicleta",
         "orientation": "v",
         "showlegend": true,
         "text": [
          "bicicleta"
         ],
         "type": "scatter",
         "x": [
          "CABA"
         ],
         "xaxis": "x",
         "y": [
          44
         ],
         "yaxis": "y"
        },
        {
         "hovertemplate": "tags_lematizados_unificados=%{text}<br>ciudad=%{x}<br>frecuencia=%{y}<extra></extra>",
         "legendgroup": "tránsito",
         "marker": {
          "color": "#ab63fa",
          "symbol": "circle"
         },
         "mode": "markers+text",
         "name": "tránsito",
         "orientation": "v",
         "showlegend": true,
         "text": [
          "tránsito"
         ],
         "type": "scatter",
         "x": [
          "CABA"
         ],
         "xaxis": "x",
         "y": [
          44
         ],
         "yaxis": "y"
        },
        {
         "hovertemplate": "tags_lematizados_unificados=%{text}<br>ciudad=%{x}<br>frecuencia=%{y}<extra></extra>",
         "legendgroup": "Servicios Publicos",
         "marker": {
          "color": "#FFA15A",
          "symbol": "circle"
         },
         "mode": "markers+text",
         "name": "Servicios Publicos",
         "orientation": "v",
         "showlegend": true,
         "text": [
          "Servicios Publicos"
         ],
         "type": "scatter",
         "x": [
          "MERCEDES"
         ],
         "xaxis": "x",
         "y": [
          43
         ],
         "yaxis": "y"
        },
        {
         "hovertemplate": "tags_lematizados_unificados=%{text}<br>ciudad=%{x}<br>frecuencia=%{y}<extra></extra>",
         "legendgroup": "2021",
         "marker": {
          "color": "#19d3f3",
          "symbol": "circle"
         },
         "mode": "markers+text",
         "name": "2021",
         "orientation": "v",
         "showlegend": true,
         "text": [
          "2021"
         ],
         "type": "scatter",
         "x": [
          "MERCEDES"
         ],
         "xaxis": "x",
         "y": [
          42
         ],
         "yaxis": "y"
        },
        {
         "hovertemplate": "tags_lematizados_unificados=%{text}<br>ciudad=%{x}<br>frecuencia=%{y}<extra></extra>",
         "legendgroup": "ambiente",
         "marker": {
          "color": "#FF6692",
          "symbol": "circle"
         },
         "mode": "markers+text",
         "name": "ambiente",
         "orientation": "v",
         "showlegend": true,
         "text": [
          "ambiente"
         ],
         "type": "scatter",
         "x": [
          "CABA"
         ],
         "xaxis": "x",
         "y": [
          42
         ],
         "yaxis": "y"
        },
        {
         "hovertemplate": "tags_lematizados_unificados=%{text}<br>ciudad=%{x}<br>frecuencia=%{y}<extra></extra>",
         "legendgroup": "Salud",
         "marker": {
          "color": "#B6E880",
          "symbol": "circle"
         },
         "mode": "markers+text",
         "name": "Salud",
         "orientation": "v",
         "showlegend": true,
         "text": [
          "Salud"
         ],
         "type": "scatter",
         "x": [
          "MERCEDES"
         ],
         "xaxis": "x",
         "y": [
          41
         ],
         "yaxis": "y"
        },
        {
         "hovertemplate": "tags_lematizados_unificados=%{text}<br>ciudad=%{x}<br>frecuencia=%{y}<extra></extra>",
         "legendgroup": "turismo",
         "marker": {
          "color": "#FF97FF",
          "symbol": "circle"
         },
         "mode": "markers+text",
         "name": "turismo",
         "orientation": "v",
         "showlegend": true,
         "text": [
          "turismo"
         ],
         "type": "scatter",
         "x": [
          "BAHIA BLANCA"
         ],
         "xaxis": "x",
         "y": [
          40
         ],
         "yaxis": "y"
        },
        {
         "hovertemplate": "tags_lematizados_unificados=%{text}<br>ciudad=%{x}<br>frecuencia=%{y}<extra></extra>",
         "legendgroup": "genero",
         "marker": {
          "color": "#FECB52",
          "symbol": "circle"
         },
         "mode": "markers+text",
         "name": "genero",
         "orientation": "v",
         "showlegend": true,
         "text": [
          "genero"
         ],
         "type": "scatter",
         "x": [
          "MENDOZA"
         ],
         "xaxis": "x",
         "y": [
          40
         ],
         "yaxis": "y"
        },
        {
         "hovertemplate": "tags_lematizados_unificados=%{text}<br>ciudad=%{x}<br>frecuencia=%{y}<extra></extra>",
         "legendgroup": "movilidad",
         "marker": {
          "color": "#636efa",
          "symbol": "circle"
         },
         "mode": "markers+text",
         "name": "movilidad",
         "orientation": "v",
         "showlegend": true,
         "text": [
          "movilidad"
         ],
         "type": "scatter",
         "x": [
          "CABA"
         ],
         "xaxis": "x",
         "y": [
          38
         ],
         "yaxis": "y"
        },
        {
         "hovertemplate": "tags_lematizados_unificados=%{text}<br>ciudad=%{x}<br>frecuencia=%{y}<extra></extra>",
         "legendgroup": "elección",
         "marker": {
          "color": "#EF553B",
          "symbol": "circle"
         },
         "mode": "markers+text",
         "name": "elección",
         "orientation": "v",
         "showlegend": true,
         "text": [
          "elección"
         ],
         "type": "scatter",
         "x": [
          "BAHIA BLANCA"
         ],
         "xaxis": "x",
         "y": [
          38
         ],
         "yaxis": "y"
        },
        {
         "hovertemplate": "tags_lematizados_unificados=%{text}<br>ciudad=%{x}<br>frecuencia=%{y}<extra></extra>",
         "legendgroup": "Género",
         "marker": {
          "color": "#00cc96",
          "symbol": "circle"
         },
         "mode": "markers+text",
         "name": "Género",
         "orientation": "v",
         "showlegend": true,
         "text": [
          "Género"
         ],
         "type": "scatter",
         "x": [
          "BAHIA BLANCA"
         ],
         "xaxis": "x",
         "y": [
          37
         ],
         "yaxis": "y"
        },
        {
         "hovertemplate": "tags_lematizados_unificados=%{text}<br>ciudad=%{x}<br>frecuencia=%{y}<extra></extra>",
         "legendgroup": "mi bebe",
         "marker": {
          "color": "#ab63fa",
          "symbol": "circle"
         },
         "mode": "markers+text",
         "name": "mi bebe",
         "orientation": "v",
         "showlegend": true,
         "text": [
          "mi bebe"
         ],
         "type": "scatter",
         "x": [
          "LINCOLN"
         ],
         "xaxis": "x",
         "y": [
          36
         ],
         "yaxis": "y"
        },
        {
         "hovertemplate": "tags_lematizados_unificados=%{text}<br>ciudad=%{x}<br>frecuencia=%{y}<extra></extra>",
         "legendgroup": "reclar",
         "marker": {
          "color": "#FFA15A",
          "symbol": "circle"
         },
         "mode": "markers+text",
         "name": "reclar",
         "orientation": "v",
         "showlegend": true,
         "text": [
          "reclar"
         ],
         "type": "scatter",
         "x": [
          "CABA"
         ],
         "xaxis": "x",
         "y": [
          36
         ],
         "yaxis": "y"
        },
        {
         "hovertemplate": "tags_lematizados_unificados=%{text}<br>ciudad=%{x}<br>frecuencia=%{y}<extra></extra>",
         "legendgroup": "mapa",
         "marker": {
          "color": "#19d3f3",
          "symbol": "circle"
         },
         "mode": "markers+text",
         "name": "mapa",
         "orientation": "v",
         "showlegend": true,
         "text": [
          "mapa",
          "mapa"
         ],
         "type": "scatter",
         "x": [
          "CABA",
          "CABA"
         ],
         "xaxis": "x",
         "y": [
          35,
          34
         ],
         "yaxis": "y"
        }
       ],
       "layout": {
        "legend": {
         "title": {
          "text": "tags_lematizados_unificados"
         },
         "tracegroupgap": 0
        },
        "showlegend": false,
        "template": {
         "data": {
          "bar": [
           {
            "error_x": {
             "color": "#2a3f5f"
            },
            "error_y": {
             "color": "#2a3f5f"
            },
            "marker": {
             "line": {
              "color": "#E5ECF6",
              "width": 0.5
             },
             "pattern": {
              "fillmode": "overlay",
              "size": 10,
              "solidity": 0.2
             }
            },
            "type": "bar"
           }
          ],
          "barpolar": [
           {
            "marker": {
             "line": {
              "color": "#E5ECF6",
              "width": 0.5
             },
             "pattern": {
              "fillmode": "overlay",
              "size": 10,
              "solidity": 0.2
             }
            },
            "type": "barpolar"
           }
          ],
          "carpet": [
           {
            "aaxis": {
             "endlinecolor": "#2a3f5f",
             "gridcolor": "white",
             "linecolor": "white",
             "minorgridcolor": "white",
             "startlinecolor": "#2a3f5f"
            },
            "baxis": {
             "endlinecolor": "#2a3f5f",
             "gridcolor": "white",
             "linecolor": "white",
             "minorgridcolor": "white",
             "startlinecolor": "#2a3f5f"
            },
            "type": "carpet"
           }
          ],
          "choropleth": [
           {
            "colorbar": {
             "outlinewidth": 0,
             "ticks": ""
            },
            "type": "choropleth"
           }
          ],
          "contour": [
           {
            "colorbar": {
             "outlinewidth": 0,
             "ticks": ""
            },
            "colorscale": [
             [
              0,
              "#0d0887"
             ],
             [
              0.1111111111111111,
              "#46039f"
             ],
             [
              0.2222222222222222,
              "#7201a8"
             ],
             [
              0.3333333333333333,
              "#9c179e"
             ],
             [
              0.4444444444444444,
              "#bd3786"
             ],
             [
              0.5555555555555556,
              "#d8576b"
             ],
             [
              0.6666666666666666,
              "#ed7953"
             ],
             [
              0.7777777777777778,
              "#fb9f3a"
             ],
             [
              0.8888888888888888,
              "#fdca26"
             ],
             [
              1,
              "#f0f921"
             ]
            ],
            "type": "contour"
           }
          ],
          "contourcarpet": [
           {
            "colorbar": {
             "outlinewidth": 0,
             "ticks": ""
            },
            "type": "contourcarpet"
           }
          ],
          "heatmap": [
           {
            "colorbar": {
             "outlinewidth": 0,
             "ticks": ""
            },
            "colorscale": [
             [
              0,
              "#0d0887"
             ],
             [
              0.1111111111111111,
              "#46039f"
             ],
             [
              0.2222222222222222,
              "#7201a8"
             ],
             [
              0.3333333333333333,
              "#9c179e"
             ],
             [
              0.4444444444444444,
              "#bd3786"
             ],
             [
              0.5555555555555556,
              "#d8576b"
             ],
             [
              0.6666666666666666,
              "#ed7953"
             ],
             [
              0.7777777777777778,
              "#fb9f3a"
             ],
             [
              0.8888888888888888,
              "#fdca26"
             ],
             [
              1,
              "#f0f921"
             ]
            ],
            "type": "heatmap"
           }
          ],
          "heatmapgl": [
           {
            "colorbar": {
             "outlinewidth": 0,
             "ticks": ""
            },
            "colorscale": [
             [
              0,
              "#0d0887"
             ],
             [
              0.1111111111111111,
              "#46039f"
             ],
             [
              0.2222222222222222,
              "#7201a8"
             ],
             [
              0.3333333333333333,
              "#9c179e"
             ],
             [
              0.4444444444444444,
              "#bd3786"
             ],
             [
              0.5555555555555556,
              "#d8576b"
             ],
             [
              0.6666666666666666,
              "#ed7953"
             ],
             [
              0.7777777777777778,
              "#fb9f3a"
             ],
             [
              0.8888888888888888,
              "#fdca26"
             ],
             [
              1,
              "#f0f921"
             ]
            ],
            "type": "heatmapgl"
           }
          ],
          "histogram": [
           {
            "marker": {
             "pattern": {
              "fillmode": "overlay",
              "size": 10,
              "solidity": 0.2
             }
            },
            "type": "histogram"
           }
          ],
          "histogram2d": [
           {
            "colorbar": {
             "outlinewidth": 0,
             "ticks": ""
            },
            "colorscale": [
             [
              0,
              "#0d0887"
             ],
             [
              0.1111111111111111,
              "#46039f"
             ],
             [
              0.2222222222222222,
              "#7201a8"
             ],
             [
              0.3333333333333333,
              "#9c179e"
             ],
             [
              0.4444444444444444,
              "#bd3786"
             ],
             [
              0.5555555555555556,
              "#d8576b"
             ],
             [
              0.6666666666666666,
              "#ed7953"
             ],
             [
              0.7777777777777778,
              "#fb9f3a"
             ],
             [
              0.8888888888888888,
              "#fdca26"
             ],
             [
              1,
              "#f0f921"
             ]
            ],
            "type": "histogram2d"
           }
          ],
          "histogram2dcontour": [
           {
            "colorbar": {
             "outlinewidth": 0,
             "ticks": ""
            },
            "colorscale": [
             [
              0,
              "#0d0887"
             ],
             [
              0.1111111111111111,
              "#46039f"
             ],
             [
              0.2222222222222222,
              "#7201a8"
             ],
             [
              0.3333333333333333,
              "#9c179e"
             ],
             [
              0.4444444444444444,
              "#bd3786"
             ],
             [
              0.5555555555555556,
              "#d8576b"
             ],
             [
              0.6666666666666666,
              "#ed7953"
             ],
             [
              0.7777777777777778,
              "#fb9f3a"
             ],
             [
              0.8888888888888888,
              "#fdca26"
             ],
             [
              1,
              "#f0f921"
             ]
            ],
            "type": "histogram2dcontour"
           }
          ],
          "mesh3d": [
           {
            "colorbar": {
             "outlinewidth": 0,
             "ticks": ""
            },
            "type": "mesh3d"
           }
          ],
          "parcoords": [
           {
            "line": {
             "colorbar": {
              "outlinewidth": 0,
              "ticks": ""
             }
            },
            "type": "parcoords"
           }
          ],
          "pie": [
           {
            "automargin": true,
            "type": "pie"
           }
          ],
          "scatter": [
           {
            "fillpattern": {
             "fillmode": "overlay",
             "size": 10,
             "solidity": 0.2
            },
            "type": "scatter"
           }
          ],
          "scatter3d": [
           {
            "line": {
             "colorbar": {
              "outlinewidth": 0,
              "ticks": ""
             }
            },
            "marker": {
             "colorbar": {
              "outlinewidth": 0,
              "ticks": ""
             }
            },
            "type": "scatter3d"
           }
          ],
          "scattercarpet": [
           {
            "marker": {
             "colorbar": {
              "outlinewidth": 0,
              "ticks": ""
             }
            },
            "type": "scattercarpet"
           }
          ],
          "scattergeo": [
           {
            "marker": {
             "colorbar": {
              "outlinewidth": 0,
              "ticks": ""
             }
            },
            "type": "scattergeo"
           }
          ],
          "scattergl": [
           {
            "marker": {
             "colorbar": {
              "outlinewidth": 0,
              "ticks": ""
             }
            },
            "type": "scattergl"
           }
          ],
          "scattermapbox": [
           {
            "marker": {
             "colorbar": {
              "outlinewidth": 0,
              "ticks": ""
             }
            },
            "type": "scattermapbox"
           }
          ],
          "scatterpolar": [
           {
            "marker": {
             "colorbar": {
              "outlinewidth": 0,
              "ticks": ""
             }
            },
            "type": "scatterpolar"
           }
          ],
          "scatterpolargl": [
           {
            "marker": {
             "colorbar": {
              "outlinewidth": 0,
              "ticks": ""
             }
            },
            "type": "scatterpolargl"
           }
          ],
          "scatterternary": [
           {
            "marker": {
             "colorbar": {
              "outlinewidth": 0,
              "ticks": ""
             }
            },
            "type": "scatterternary"
           }
          ],
          "surface": [
           {
            "colorbar": {
             "outlinewidth": 0,
             "ticks": ""
            },
            "colorscale": [
             [
              0,
              "#0d0887"
             ],
             [
              0.1111111111111111,
              "#46039f"
             ],
             [
              0.2222222222222222,
              "#7201a8"
             ],
             [
              0.3333333333333333,
              "#9c179e"
             ],
             [
              0.4444444444444444,
              "#bd3786"
             ],
             [
              0.5555555555555556,
              "#d8576b"
             ],
             [
              0.6666666666666666,
              "#ed7953"
             ],
             [
              0.7777777777777778,
              "#fb9f3a"
             ],
             [
              0.8888888888888888,
              "#fdca26"
             ],
             [
              1,
              "#f0f921"
             ]
            ],
            "type": "surface"
           }
          ],
          "table": [
           {
            "cells": {
             "fill": {
              "color": "#EBF0F8"
             },
             "line": {
              "color": "white"
             }
            },
            "header": {
             "fill": {
              "color": "#C8D4E3"
             },
             "line": {
              "color": "white"
             }
            },
            "type": "table"
           }
          ]
         },
         "layout": {
          "annotationdefaults": {
           "arrowcolor": "#2a3f5f",
           "arrowhead": 0,
           "arrowwidth": 1
          },
          "autotypenumbers": "strict",
          "coloraxis": {
           "colorbar": {
            "outlinewidth": 0,
            "ticks": ""
           }
          },
          "colorscale": {
           "diverging": [
            [
             0,
             "#8e0152"
            ],
            [
             0.1,
             "#c51b7d"
            ],
            [
             0.2,
             "#de77ae"
            ],
            [
             0.3,
             "#f1b6da"
            ],
            [
             0.4,
             "#fde0ef"
            ],
            [
             0.5,
             "#f7f7f7"
            ],
            [
             0.6,
             "#e6f5d0"
            ],
            [
             0.7,
             "#b8e186"
            ],
            [
             0.8,
             "#7fbc41"
            ],
            [
             0.9,
             "#4d9221"
            ],
            [
             1,
             "#276419"
            ]
           ],
           "sequential": [
            [
             0,
             "#0d0887"
            ],
            [
             0.1111111111111111,
             "#46039f"
            ],
            [
             0.2222222222222222,
             "#7201a8"
            ],
            [
             0.3333333333333333,
             "#9c179e"
            ],
            [
             0.4444444444444444,
             "#bd3786"
            ],
            [
             0.5555555555555556,
             "#d8576b"
            ],
            [
             0.6666666666666666,
             "#ed7953"
            ],
            [
             0.7777777777777778,
             "#fb9f3a"
            ],
            [
             0.8888888888888888,
             "#fdca26"
            ],
            [
             1,
             "#f0f921"
            ]
           ],
           "sequentialminus": [
            [
             0,
             "#0d0887"
            ],
            [
             0.1111111111111111,
             "#46039f"
            ],
            [
             0.2222222222222222,
             "#7201a8"
            ],
            [
             0.3333333333333333,
             "#9c179e"
            ],
            [
             0.4444444444444444,
             "#bd3786"
            ],
            [
             0.5555555555555556,
             "#d8576b"
            ],
            [
             0.6666666666666666,
             "#ed7953"
            ],
            [
             0.7777777777777778,
             "#fb9f3a"
            ],
            [
             0.8888888888888888,
             "#fdca26"
            ],
            [
             1,
             "#f0f921"
            ]
           ]
          },
          "colorway": [
           "#636efa",
           "#EF553B",
           "#00cc96",
           "#ab63fa",
           "#FFA15A",
           "#19d3f3",
           "#FF6692",
           "#B6E880",
           "#FF97FF",
           "#FECB52"
          ],
          "font": {
           "color": "#2a3f5f"
          },
          "geo": {
           "bgcolor": "white",
           "lakecolor": "white",
           "landcolor": "#E5ECF6",
           "showlakes": true,
           "showland": true,
           "subunitcolor": "white"
          },
          "hoverlabel": {
           "align": "left"
          },
          "hovermode": "closest",
          "mapbox": {
           "style": "light"
          },
          "paper_bgcolor": "white",
          "plot_bgcolor": "#E5ECF6",
          "polar": {
           "angularaxis": {
            "gridcolor": "white",
            "linecolor": "white",
            "ticks": ""
           },
           "bgcolor": "#E5ECF6",
           "radialaxis": {
            "gridcolor": "white",
            "linecolor": "white",
            "ticks": ""
           }
          },
          "scene": {
           "xaxis": {
            "backgroundcolor": "#E5ECF6",
            "gridcolor": "white",
            "gridwidth": 2,
            "linecolor": "white",
            "showbackground": true,
            "ticks": "",
            "zerolinecolor": "white"
           },
           "yaxis": {
            "backgroundcolor": "#E5ECF6",
            "gridcolor": "white",
            "gridwidth": 2,
            "linecolor": "white",
            "showbackground": true,
            "ticks": "",
            "zerolinecolor": "white"
           },
           "zaxis": {
            "backgroundcolor": "#E5ECF6",
            "gridcolor": "white",
            "gridwidth": 2,
            "linecolor": "white",
            "showbackground": true,
            "ticks": "",
            "zerolinecolor": "white"
           }
          },
          "shapedefaults": {
           "line": {
            "color": "#2a3f5f"
           }
          },
          "ternary": {
           "aaxis": {
            "gridcolor": "white",
            "linecolor": "white",
            "ticks": ""
           },
           "baxis": {
            "gridcolor": "white",
            "linecolor": "white",
            "ticks": ""
           },
           "bgcolor": "#E5ECF6",
           "caxis": {
            "gridcolor": "white",
            "linecolor": "white",
            "ticks": ""
           }
          },
          "title": {
           "x": 0.05
          },
          "xaxis": {
           "automargin": true,
           "gridcolor": "white",
           "linecolor": "white",
           "ticks": "",
           "title": {
            "standoff": 15
           },
           "zerolinecolor": "white",
           "zerolinewidth": 2
          },
          "yaxis": {
           "automargin": true,
           "gridcolor": "white",
           "linecolor": "white",
           "ticks": "",
           "title": {
            "standoff": 15
           },
           "zerolinecolor": "white",
           "zerolinewidth": 2
          }
         }
        },
        "title": {
         "text": "Frecuencia de términos lematizados por Ciudad"
        },
        "xaxis": {
         "anchor": "y",
         "domain": [
          0,
          1
         ],
         "title": {
          "text": "ciudad"
         }
        },
        "yaxis": {
         "anchor": "x",
         "domain": [
          0,
          1
         ],
         "title": {
          "text": "frecuencia"
         }
        }
       }
      }
     },
     "metadata": {},
     "output_type": "display_data"
    }
   ],
   "source": [
    "import plotly.express as px\n",
    "\n",
    "# Crear el gráfico de barras de frecuencia de términos lematizados por ciudad\n",
    "figura = px.scatter(frecuencia_tags_ciudad[:50], x='ciudad', y='frecuencia', color='tags_lematizados_unificados', title='Frecuencia de términos lematizados por Ciudad',text='tags_lematizados_unificados')\n",
    "\n",
    "figura.update_layout(showlegend=False)\n",
    "\n",
    "figura"
   ]
  },
  {
   "attachments": {},
   "cell_type": "markdown",
   "metadata": {},
   "source": [
    "#### Matriz de grupos"
   ]
  },
  {
   "cell_type": "code",
   "execution_count": 156,
   "metadata": {},
   "outputs": [
    {
     "name": "stderr",
     "output_type": "stream",
     "text": [
      "/var/folders/pr/p7nx1g2d6nvg23wbvp3nnb580000gn/T/ipykernel_38005/3239595759.py:4: SettingWithCopyWarning:\n",
      "\n",
      "\n",
      "A value is trying to be set on a copy of a slice from a DataFrame.\n",
      "Try using .loc[row_indexer,col_indexer] = value instead\n",
      "\n",
      "See the caveats in the documentation: https://pandas.pydata.org/pandas-docs/stable/user_guide/indexing.html#returning-a-view-versus-a-copy\n",
      "\n"
     ]
    },
    {
     "data": {
      "text/html": [
       "<div>\n",
       "<style scoped>\n",
       "    .dataframe tbody tr th:only-of-type {\n",
       "        vertical-align: middle;\n",
       "    }\n",
       "\n",
       "    .dataframe tbody tr th {\n",
       "        vertical-align: top;\n",
       "    }\n",
       "\n",
       "    .dataframe thead th {\n",
       "        text-align: right;\n",
       "    }\n",
       "</style>\n",
       "<table border=\"1\" class=\"dataframe\">\n",
       "  <thead>\n",
       "    <tr style=\"text-align: right;\">\n",
       "      <th></th>\n",
       "      <th>description</th>\n",
       "      <th>format</th>\n",
       "      <th>name</th>\n",
       "      <th>created</th>\n",
       "      <th>last_modified</th>\n",
       "      <th>tags</th>\n",
       "      <th>area</th>\n",
       "      <th>organization</th>\n",
       "      <th>grupo</th>\n",
       "      <th>dataset</th>\n",
       "      <th>metadata_modified</th>\n",
       "      <th>PROVINCIA</th>\n",
       "      <th>LUGAR</th>\n",
       "    </tr>\n",
       "  </thead>\n",
       "  <tbody>\n",
       "    <tr>\n",
       "      <th>0</th>\n",
       "      <td>Listado con informacion de contactos a la line...</td>\n",
       "      <td>CSV</td>\n",
       "      <td>Llamados 147 COVID</td>\n",
       "      <td>2020-07-14T20:24:32.156319</td>\n",
       "      <td>2022-12-30T02:00:02.003123</td>\n",
       "      <td>[147, COVID-19, adultos mayores, atención ciud...</td>\n",
       "      <td>Ministerio de Salud</td>\n",
       "      <td>atencion-ciudadana</td>\n",
       "      <td>covid-19</td>\n",
       "      <td>147-covid</td>\n",
       "      <td>2023-05-22T12:00:05.267005</td>\n",
       "      <td>CABA</td>\n",
       "      <td>CABA</td>\n",
       "    </tr>\n",
       "    <tr>\n",
       "      <th>1</th>\n",
       "      <td>Cantidad total de años de escolaridad que es d...</td>\n",
       "      <td>CSV</td>\n",
       "      <td>Años de escolaridad esperados</td>\n",
       "      <td>2019-04-09T14:40:31.719970</td>\n",
       "      <td>2019-04-09T14:40:31.719970</td>\n",
       "      <td>[]</td>\n",
       "      <td>Ministerio de Economía y Finanzas. Dirección G...</td>\n",
       "      <td>direccion-general-de-estadisticas-y-censos</td>\n",
       "      <td>educacion</td>\n",
       "      <td>acceso-credenciales-educativas</td>\n",
       "      <td>2021-12-31T04:50:36.095017</td>\n",
       "      <td>CABA</td>\n",
       "      <td>CABA</td>\n",
       "    </tr>\n",
       "    <tr>\n",
       "      <th>2</th>\n",
       "      <td>Relación entre el porcentaje de mujeres de 10 ...</td>\n",
       "      <td>CSV</td>\n",
       "      <td>Brecha de analfabetismo</td>\n",
       "      <td>2019-04-09T14:48:47.378813</td>\n",
       "      <td>2019-04-09T14:48:47.378813</td>\n",
       "      <td>[]</td>\n",
       "      <td>Ministerio de Economía y Finanzas. Dirección G...</td>\n",
       "      <td>direccion-general-de-estadisticas-y-censos</td>\n",
       "      <td>educacion</td>\n",
       "      <td>acceso-credenciales-educativas</td>\n",
       "      <td>2021-12-31T04:55:44.449063</td>\n",
       "      <td>CABA</td>\n",
       "      <td>CABA</td>\n",
       "    </tr>\n",
       "    <tr>\n",
       "      <th>3</th>\n",
       "      <td>Porcentaje de población escolarizada en cada n...</td>\n",
       "      <td>CSV</td>\n",
       "      <td>Tasa neta de escolarización</td>\n",
       "      <td>2019-04-09T15:02:02.262366</td>\n",
       "      <td>2019-04-09T15:02:02.262366</td>\n",
       "      <td>[]</td>\n",
       "      <td>Ministerio de Economía y Finanzas. Dirección G...</td>\n",
       "      <td>direccion-general-de-estadisticas-y-censos</td>\n",
       "      <td>educacion</td>\n",
       "      <td>acceso-credenciales-educativas</td>\n",
       "      <td>2021-12-31T04:59:59.474934</td>\n",
       "      <td>CABA</td>\n",
       "      <td>CABA</td>\n",
       "    </tr>\n",
       "    <tr>\n",
       "      <th>4</th>\n",
       "      <td>Cantidad total de años de escolaridad que es d...</td>\n",
       "      <td>XLSX</td>\n",
       "      <td>Años de escolaridad esperados (XLSX)</td>\n",
       "      <td>2019-04-09T14:40:31.719970</td>\n",
       "      <td>2019-04-09T14:40:31.719970</td>\n",
       "      <td>[]</td>\n",
       "      <td>Ministerio de Economía y Finanzas. Dirección G...</td>\n",
       "      <td>direccion-general-de-estadisticas-y-censos</td>\n",
       "      <td>educacion</td>\n",
       "      <td>acceso-credenciales-educativas</td>\n",
       "      <td>2021-12-31T05:01:20.377562</td>\n",
       "      <td>CABA</td>\n",
       "      <td>CABA</td>\n",
       "    </tr>\n",
       "    <tr>\n",
       "      <th>...</th>\n",
       "      <td>...</td>\n",
       "      <td>...</td>\n",
       "      <td>...</td>\n",
       "      <td>...</td>\n",
       "      <td>...</td>\n",
       "      <td>...</td>\n",
       "      <td>...</td>\n",
       "      <td>...</td>\n",
       "      <td>...</td>\n",
       "      <td>...</td>\n",
       "      <td>...</td>\n",
       "      <td>...</td>\n",
       "      <td>...</td>\n",
       "    </tr>\n",
       "    <tr>\n",
       "      <th>361</th>\n",
       "      <td>Cantidad de Mujeres y Varones asistidos 2018-2022</td>\n",
       "      <td>XLS</td>\n",
       "      <td>Cantidad de Mujeres y Varones asistidos</td>\n",
       "      <td>2020-01-24T15:02:44.868056</td>\n",
       "      <td>2023-01-18T12:59:10.538389</td>\n",
       "      <td>[genero, mujeres, noestassola, violencia, viol...</td>\n",
       "      <td>Dirección de Asistencia a la Mujer y a la familia</td>\n",
       "      <td>direccion-de-asistencia-a-la-mujer-y-a-la-familia</td>\n",
       "      <td>diversidad</td>\n",
       "      <td>violencia-de-genero</td>\n",
       "      <td>NaN</td>\n",
       "      <td>BUENOS AIRES</td>\n",
       "      <td>PERGAMINO</td>\n",
       "    </tr>\n",
       "    <tr>\n",
       "      <th>362</th>\n",
       "      <td>Detalle de las instituciones y causas por la q...</td>\n",
       "      <td>CSV</td>\n",
       "      <td>Derivaciones realizadas por la Dirección de As...</td>\n",
       "      <td>2021-01-14T17:25:08.512079</td>\n",
       "      <td>2023-01-18T12:47:56.857265</td>\n",
       "      <td>[genero, mujeres, noestassola, violencia, viol...</td>\n",
       "      <td>Dirección de Asistencia a la Mujer y a la familia</td>\n",
       "      <td>direccion-de-asistencia-a-la-mujer-y-a-la-familia</td>\n",
       "      <td>diversidad</td>\n",
       "      <td>violencia-de-genero</td>\n",
       "      <td>NaN</td>\n",
       "      <td>BUENOS AIRES</td>\n",
       "      <td>PERGAMINO</td>\n",
       "    </tr>\n",
       "    <tr>\n",
       "      <th>363</th>\n",
       "      <td>Detalle de las instituciones y causas por la c...</td>\n",
       "      <td>XLS</td>\n",
       "      <td>Derivaciones realizadas por la Dirección de As...</td>\n",
       "      <td>2021-01-14T17:19:05.571799</td>\n",
       "      <td>2023-01-18T12:46:33.232741</td>\n",
       "      <td>[genero, mujeres, noestassola, violencia, viol...</td>\n",
       "      <td>Dirección de Asistencia a la Mujer y a la familia</td>\n",
       "      <td>direccion-de-asistencia-a-la-mujer-y-a-la-familia</td>\n",
       "      <td>diversidad</td>\n",
       "      <td>violencia-de-genero</td>\n",
       "      <td>NaN</td>\n",
       "      <td>BUENOS AIRES</td>\n",
       "      <td>PERGAMINO</td>\n",
       "    </tr>\n",
       "    <tr>\n",
       "      <th>364</th>\n",
       "      <td>Cantidad de hijos que tiene la víctima</td>\n",
       "      <td>CSV</td>\n",
       "      <td>Cantidad de hijos que tiene la víctima</td>\n",
       "      <td>2021-01-15T15:07:52.538340</td>\n",
       "      <td>2023-01-18T12:42:36.195164</td>\n",
       "      <td>[genero, mujeres, noestassola, violencia, viol...</td>\n",
       "      <td>Dirección de Asistencia a la Mujer y a la familia</td>\n",
       "      <td>direccion-de-asistencia-a-la-mujer-y-a-la-familia</td>\n",
       "      <td>diversidad</td>\n",
       "      <td>violencia-de-genero</td>\n",
       "      <td>NaN</td>\n",
       "      <td>BUENOS AIRES</td>\n",
       "      <td>PERGAMINO</td>\n",
       "    </tr>\n",
       "    <tr>\n",
       "      <th>365</th>\n",
       "      <td>Cantidad de hijos que tiene la víctima</td>\n",
       "      <td>XLS</td>\n",
       "      <td>Cantidad de hijos que tiene la víctima</td>\n",
       "      <td>2021-01-15T15:08:18.692367</td>\n",
       "      <td>2023-01-18T12:41:50.732822</td>\n",
       "      <td>[genero, mujeres, noestassola, violencia, viol...</td>\n",
       "      <td>Dirección de Asistencia a la Mujer y a la familia</td>\n",
       "      <td>direccion-de-asistencia-a-la-mujer-y-a-la-familia</td>\n",
       "      <td>diversidad</td>\n",
       "      <td>violencia-de-genero</td>\n",
       "      <td>NaN</td>\n",
       "      <td>BUENOS AIRES</td>\n",
       "      <td>PERGAMINO</td>\n",
       "    </tr>\n",
       "  </tbody>\n",
       "</table>\n",
       "<p>6437 rows × 13 columns</p>\n",
       "</div>"
      ],
      "text/plain": [
       "                                           description format  \\\n",
       "0    Listado con informacion de contactos a la line...    CSV   \n",
       "1    Cantidad total de años de escolaridad que es d...    CSV   \n",
       "2    Relación entre el porcentaje de mujeres de 10 ...    CSV   \n",
       "3    Porcentaje de población escolarizada en cada n...    CSV   \n",
       "4    Cantidad total de años de escolaridad que es d...   XLSX   \n",
       "..                                                 ...    ...   \n",
       "361  Cantidad de Mujeres y Varones asistidos 2018-2022    XLS   \n",
       "362  Detalle de las instituciones y causas por la q...    CSV   \n",
       "363  Detalle de las instituciones y causas por la c...    XLS   \n",
       "364             Cantidad de hijos que tiene la víctima    CSV   \n",
       "365             Cantidad de hijos que tiene la víctima    XLS   \n",
       "\n",
       "                                                  name  \\\n",
       "0                                   Llamados 147 COVID   \n",
       "1                        Años de escolaridad esperados   \n",
       "2                              Brecha de analfabetismo   \n",
       "3                          Tasa neta de escolarización   \n",
       "4                 Años de escolaridad esperados (XLSX)   \n",
       "..                                                 ...   \n",
       "361            Cantidad de Mujeres y Varones asistidos   \n",
       "362  Derivaciones realizadas por la Dirección de As...   \n",
       "363  Derivaciones realizadas por la Dirección de As...   \n",
       "364             Cantidad de hijos que tiene la víctima   \n",
       "365             Cantidad de hijos que tiene la víctima   \n",
       "\n",
       "                        created               last_modified  \\\n",
       "0    2020-07-14T20:24:32.156319  2022-12-30T02:00:02.003123   \n",
       "1    2019-04-09T14:40:31.719970  2019-04-09T14:40:31.719970   \n",
       "2    2019-04-09T14:48:47.378813  2019-04-09T14:48:47.378813   \n",
       "3    2019-04-09T15:02:02.262366  2019-04-09T15:02:02.262366   \n",
       "4    2019-04-09T14:40:31.719970  2019-04-09T14:40:31.719970   \n",
       "..                          ...                         ...   \n",
       "361  2020-01-24T15:02:44.868056  2023-01-18T12:59:10.538389   \n",
       "362  2021-01-14T17:25:08.512079  2023-01-18T12:47:56.857265   \n",
       "363  2021-01-14T17:19:05.571799  2023-01-18T12:46:33.232741   \n",
       "364  2021-01-15T15:07:52.538340  2023-01-18T12:42:36.195164   \n",
       "365  2021-01-15T15:08:18.692367  2023-01-18T12:41:50.732822   \n",
       "\n",
       "                                                  tags  \\\n",
       "0    [147, COVID-19, adultos mayores, atención ciud...   \n",
       "1                                                   []   \n",
       "2                                                   []   \n",
       "3                                                   []   \n",
       "4                                                   []   \n",
       "..                                                 ...   \n",
       "361  [genero, mujeres, noestassola, violencia, viol...   \n",
       "362  [genero, mujeres, noestassola, violencia, viol...   \n",
       "363  [genero, mujeres, noestassola, violencia, viol...   \n",
       "364  [genero, mujeres, noestassola, violencia, viol...   \n",
       "365  [genero, mujeres, noestassola, violencia, viol...   \n",
       "\n",
       "                                                  area  \\\n",
       "0                                  Ministerio de Salud   \n",
       "1    Ministerio de Economía y Finanzas. Dirección G...   \n",
       "2    Ministerio de Economía y Finanzas. Dirección G...   \n",
       "3    Ministerio de Economía y Finanzas. Dirección G...   \n",
       "4    Ministerio de Economía y Finanzas. Dirección G...   \n",
       "..                                                 ...   \n",
       "361  Dirección de Asistencia a la Mujer y a la familia   \n",
       "362  Dirección de Asistencia a la Mujer y a la familia   \n",
       "363  Dirección de Asistencia a la Mujer y a la familia   \n",
       "364  Dirección de Asistencia a la Mujer y a la familia   \n",
       "365  Dirección de Asistencia a la Mujer y a la familia   \n",
       "\n",
       "                                          organization       grupo  \\\n",
       "0                                   atencion-ciudadana    covid-19   \n",
       "1           direccion-general-de-estadisticas-y-censos   educacion   \n",
       "2           direccion-general-de-estadisticas-y-censos   educacion   \n",
       "3           direccion-general-de-estadisticas-y-censos   educacion   \n",
       "4           direccion-general-de-estadisticas-y-censos   educacion   \n",
       "..                                                 ...         ...   \n",
       "361  direccion-de-asistencia-a-la-mujer-y-a-la-familia  diversidad   \n",
       "362  direccion-de-asistencia-a-la-mujer-y-a-la-familia  diversidad   \n",
       "363  direccion-de-asistencia-a-la-mujer-y-a-la-familia  diversidad   \n",
       "364  direccion-de-asistencia-a-la-mujer-y-a-la-familia  diversidad   \n",
       "365  direccion-de-asistencia-a-la-mujer-y-a-la-familia  diversidad   \n",
       "\n",
       "                            dataset           metadata_modified     PROVINCIA  \\\n",
       "0                         147-covid  2023-05-22T12:00:05.267005          CABA   \n",
       "1    acceso-credenciales-educativas  2021-12-31T04:50:36.095017          CABA   \n",
       "2    acceso-credenciales-educativas  2021-12-31T04:55:44.449063          CABA   \n",
       "3    acceso-credenciales-educativas  2021-12-31T04:59:59.474934          CABA   \n",
       "4    acceso-credenciales-educativas  2021-12-31T05:01:20.377562          CABA   \n",
       "..                              ...                         ...           ...   \n",
       "361             violencia-de-genero                         NaN  BUENOS AIRES   \n",
       "362             violencia-de-genero                         NaN  BUENOS AIRES   \n",
       "363             violencia-de-genero                         NaN  BUENOS AIRES   \n",
       "364             violencia-de-genero                         NaN  BUENOS AIRES   \n",
       "365             violencia-de-genero                         NaN  BUENOS AIRES   \n",
       "\n",
       "         LUGAR  \n",
       "0         CABA  \n",
       "1         CABA  \n",
       "2         CABA  \n",
       "3         CABA  \n",
       "4         CABA  \n",
       "..         ...  \n",
       "361  PERGAMINO  \n",
       "362  PERGAMINO  \n",
       "363  PERGAMINO  \n",
       "364  PERGAMINO  \n",
       "365  PERGAMINO  \n",
       "\n",
       "[6437 rows x 13 columns]"
      ]
     },
     "execution_count": 156,
     "metadata": {},
     "output_type": "execute_result"
    }
   ],
   "source": [
    "#Me quedo solo con los datos que son grupos mayores a 1\n",
    "matriz_completa_GRUPOS = matriz_completa[(matriz_completa['grupo'].apply(lambda x: len(x)>=1))]\n",
    "\n",
    "matriz_completa_GRUPOS['grupo'] = matriz_completa_GRUPOS['grupo'].apply(lambda x: x[0])\n",
    "\n",
    "matriz_completa_GRUPOS"
   ]
  },
  {
   "cell_type": "code",
   "execution_count": 165,
   "metadata": {},
   "outputs": [
    {
     "data": {
      "text/plain": [
       "grupo\n",
       "administracion-publica    13.08\n",
       "medio-ambiente             5.70\n",
       "cultura-y-turismo          5.69\n",
       "urbanismo-y-territorio     5.50\n",
       "genero                     5.11\n",
       "seguridad                  4.55\n",
       "movilidad                  4.46\n",
       "decretos                   3.85\n",
       "economia-y-finanzas        3.60\n",
       "covid19                    3.48\n",
       "dtype: float64"
      ]
     },
     "execution_count": 165,
     "metadata": {},
     "output_type": "execute_result"
    }
   ],
   "source": [
    "round(matriz_completa_GRUPOS.groupby(by='grupo').size().sort_values(ascending=False)/matriz_completa_GRUPOS.shape[0]*100,2)[:10]"
   ]
  },
  {
   "cell_type": "code",
   "execution_count": 177,
   "metadata": {},
   "outputs": [
    {
     "data": {
      "application/vnd.plotly.v1+json": {
       "config": {
        "plotlyServerURL": "https://plot.ly"
       },
       "data": [
        {
         "hovertemplate": "ciudad=%{x}<br>frecuencia=%{y}<br>grupo=%{text}<extra></extra>",
         "legendgroup": "",
         "marker": {
          "color": "#636efa",
          "symbol": "circle"
         },
         "mode": "markers+text",
         "name": "",
         "orientation": "v",
         "showlegend": false,
         "text": [
          "administracion-publica",
          "cultura-y-turismo",
          "urbanismo-y-territorio",
          "movilidad",
          "medio-ambiente",
          "decretos",
          "economia-y-finanzas",
          "accion-social",
          "sueldos",
          "administracion-publica",
          "desarrollo-humano",
          "genero",
          "economia-y-hacienda",
          "covid19",
          "datos-historicos",
          "seguridad",
          "seguridad",
          "compras",
          "genero",
          "salud",
          "mapas",
          "gobierno",
          "obras-y-servicios-publicos",
          "educacion",
          "covid19",
          "covid-19",
          "salud",
          "economia-finanzas",
          "educacion",
          "medio-ambiente",
          "demografia-y-territorio",
          "turismo",
          "administracion-publica",
          "economia",
          "transparencia",
          "genero",
          "comercios",
          "datos-electorales",
          "medio-ambiente",
          "datos-abiertos",
          "salud-",
          "salud",
          "sapem",
          "administracion-publica",
          "salud-y-servicios-sociales",
          "diversidad",
          "deportes",
          "personal-municipal",
          "informacion-de-gestion",
          "red-publica-de-agua-potable"
         ],
         "type": "scatter",
         "x": [
          "CABA",
          "CABA",
          "CABA",
          "CABA",
          "CABA",
          "LINCOLN",
          "CABA",
          "LINCOLN",
          "LINCOLN",
          "MENDOZA",
          "CABA",
          "CABA",
          "MERCEDES",
          "MENDOZA",
          "BAHIA BLANCA",
          "CABA",
          "MERCEDES",
          "BAHIA BLANCA",
          "BAHIA BLANCA",
          "MERCEDES",
          "BAHIA BLANCA",
          "LINCOLN",
          "MERCEDES",
          "LINCOLN",
          "BAHIA BLANCA",
          "CABA",
          "CABA",
          "MENDOZA",
          "CABA",
          "MENDOZA",
          "CORDOBA",
          "BAHIA BLANCA",
          "PERGAMINO",
          "PERGAMINO",
          "BAHIA BLANCA",
          "MENDOZA",
          "MENDOZA",
          "BAHIA BLANCA",
          "BAHIA BLANCA",
          "TIGRE",
          "CORDOBA",
          "PERGAMINO",
          "BAHIA BLANCA",
          "CORDOBA",
          "NEUQUEN",
          "PERGAMINO",
          "MERCEDES",
          "LINCOLN",
          "TIGRE",
          "PERGAMINO"
         ],
         "xaxis": "x",
         "y": [
          552,
          366,
          354,
          283,
          269,
          248,
          216,
          208,
          197,
          195,
          192,
          172,
          166,
          155,
          151,
          146,
          126,
          103,
          93,
          89,
          83,
          80,
          78,
          69,
          69,
          67,
          67,
          66,
          57,
          52,
          51,
          50,
          48,
          45,
          41,
          40,
          40,
          40,
          39,
          37,
          35,
          34,
          33,
          32,
          32,
          31,
          31,
          31,
          30,
          28
         ],
         "yaxis": "y"
        }
       ],
       "layout": {
        "legend": {
         "tracegroupgap": 0
        },
        "margin": {
         "t": 60
        },
        "template": {
         "data": {
          "bar": [
           {
            "error_x": {
             "color": "#2a3f5f"
            },
            "error_y": {
             "color": "#2a3f5f"
            },
            "marker": {
             "line": {
              "color": "#E5ECF6",
              "width": 0.5
             },
             "pattern": {
              "fillmode": "overlay",
              "size": 10,
              "solidity": 0.2
             }
            },
            "type": "bar"
           }
          ],
          "barpolar": [
           {
            "marker": {
             "line": {
              "color": "#E5ECF6",
              "width": 0.5
             },
             "pattern": {
              "fillmode": "overlay",
              "size": 10,
              "solidity": 0.2
             }
            },
            "type": "barpolar"
           }
          ],
          "carpet": [
           {
            "aaxis": {
             "endlinecolor": "#2a3f5f",
             "gridcolor": "white",
             "linecolor": "white",
             "minorgridcolor": "white",
             "startlinecolor": "#2a3f5f"
            },
            "baxis": {
             "endlinecolor": "#2a3f5f",
             "gridcolor": "white",
             "linecolor": "white",
             "minorgridcolor": "white",
             "startlinecolor": "#2a3f5f"
            },
            "type": "carpet"
           }
          ],
          "choropleth": [
           {
            "colorbar": {
             "outlinewidth": 0,
             "ticks": ""
            },
            "type": "choropleth"
           }
          ],
          "contour": [
           {
            "colorbar": {
             "outlinewidth": 0,
             "ticks": ""
            },
            "colorscale": [
             [
              0,
              "#0d0887"
             ],
             [
              0.1111111111111111,
              "#46039f"
             ],
             [
              0.2222222222222222,
              "#7201a8"
             ],
             [
              0.3333333333333333,
              "#9c179e"
             ],
             [
              0.4444444444444444,
              "#bd3786"
             ],
             [
              0.5555555555555556,
              "#d8576b"
             ],
             [
              0.6666666666666666,
              "#ed7953"
             ],
             [
              0.7777777777777778,
              "#fb9f3a"
             ],
             [
              0.8888888888888888,
              "#fdca26"
             ],
             [
              1,
              "#f0f921"
             ]
            ],
            "type": "contour"
           }
          ],
          "contourcarpet": [
           {
            "colorbar": {
             "outlinewidth": 0,
             "ticks": ""
            },
            "type": "contourcarpet"
           }
          ],
          "heatmap": [
           {
            "colorbar": {
             "outlinewidth": 0,
             "ticks": ""
            },
            "colorscale": [
             [
              0,
              "#0d0887"
             ],
             [
              0.1111111111111111,
              "#46039f"
             ],
             [
              0.2222222222222222,
              "#7201a8"
             ],
             [
              0.3333333333333333,
              "#9c179e"
             ],
             [
              0.4444444444444444,
              "#bd3786"
             ],
             [
              0.5555555555555556,
              "#d8576b"
             ],
             [
              0.6666666666666666,
              "#ed7953"
             ],
             [
              0.7777777777777778,
              "#fb9f3a"
             ],
             [
              0.8888888888888888,
              "#fdca26"
             ],
             [
              1,
              "#f0f921"
             ]
            ],
            "type": "heatmap"
           }
          ],
          "heatmapgl": [
           {
            "colorbar": {
             "outlinewidth": 0,
             "ticks": ""
            },
            "colorscale": [
             [
              0,
              "#0d0887"
             ],
             [
              0.1111111111111111,
              "#46039f"
             ],
             [
              0.2222222222222222,
              "#7201a8"
             ],
             [
              0.3333333333333333,
              "#9c179e"
             ],
             [
              0.4444444444444444,
              "#bd3786"
             ],
             [
              0.5555555555555556,
              "#d8576b"
             ],
             [
              0.6666666666666666,
              "#ed7953"
             ],
             [
              0.7777777777777778,
              "#fb9f3a"
             ],
             [
              0.8888888888888888,
              "#fdca26"
             ],
             [
              1,
              "#f0f921"
             ]
            ],
            "type": "heatmapgl"
           }
          ],
          "histogram": [
           {
            "marker": {
             "pattern": {
              "fillmode": "overlay",
              "size": 10,
              "solidity": 0.2
             }
            },
            "type": "histogram"
           }
          ],
          "histogram2d": [
           {
            "colorbar": {
             "outlinewidth": 0,
             "ticks": ""
            },
            "colorscale": [
             [
              0,
              "#0d0887"
             ],
             [
              0.1111111111111111,
              "#46039f"
             ],
             [
              0.2222222222222222,
              "#7201a8"
             ],
             [
              0.3333333333333333,
              "#9c179e"
             ],
             [
              0.4444444444444444,
              "#bd3786"
             ],
             [
              0.5555555555555556,
              "#d8576b"
             ],
             [
              0.6666666666666666,
              "#ed7953"
             ],
             [
              0.7777777777777778,
              "#fb9f3a"
             ],
             [
              0.8888888888888888,
              "#fdca26"
             ],
             [
              1,
              "#f0f921"
             ]
            ],
            "type": "histogram2d"
           }
          ],
          "histogram2dcontour": [
           {
            "colorbar": {
             "outlinewidth": 0,
             "ticks": ""
            },
            "colorscale": [
             [
              0,
              "#0d0887"
             ],
             [
              0.1111111111111111,
              "#46039f"
             ],
             [
              0.2222222222222222,
              "#7201a8"
             ],
             [
              0.3333333333333333,
              "#9c179e"
             ],
             [
              0.4444444444444444,
              "#bd3786"
             ],
             [
              0.5555555555555556,
              "#d8576b"
             ],
             [
              0.6666666666666666,
              "#ed7953"
             ],
             [
              0.7777777777777778,
              "#fb9f3a"
             ],
             [
              0.8888888888888888,
              "#fdca26"
             ],
             [
              1,
              "#f0f921"
             ]
            ],
            "type": "histogram2dcontour"
           }
          ],
          "mesh3d": [
           {
            "colorbar": {
             "outlinewidth": 0,
             "ticks": ""
            },
            "type": "mesh3d"
           }
          ],
          "parcoords": [
           {
            "line": {
             "colorbar": {
              "outlinewidth": 0,
              "ticks": ""
             }
            },
            "type": "parcoords"
           }
          ],
          "pie": [
           {
            "automargin": true,
            "type": "pie"
           }
          ],
          "scatter": [
           {
            "fillpattern": {
             "fillmode": "overlay",
             "size": 10,
             "solidity": 0.2
            },
            "type": "scatter"
           }
          ],
          "scatter3d": [
           {
            "line": {
             "colorbar": {
              "outlinewidth": 0,
              "ticks": ""
             }
            },
            "marker": {
             "colorbar": {
              "outlinewidth": 0,
              "ticks": ""
             }
            },
            "type": "scatter3d"
           }
          ],
          "scattercarpet": [
           {
            "marker": {
             "colorbar": {
              "outlinewidth": 0,
              "ticks": ""
             }
            },
            "type": "scattercarpet"
           }
          ],
          "scattergeo": [
           {
            "marker": {
             "colorbar": {
              "outlinewidth": 0,
              "ticks": ""
             }
            },
            "type": "scattergeo"
           }
          ],
          "scattergl": [
           {
            "marker": {
             "colorbar": {
              "outlinewidth": 0,
              "ticks": ""
             }
            },
            "type": "scattergl"
           }
          ],
          "scattermapbox": [
           {
            "marker": {
             "colorbar": {
              "outlinewidth": 0,
              "ticks": ""
             }
            },
            "type": "scattermapbox"
           }
          ],
          "scatterpolar": [
           {
            "marker": {
             "colorbar": {
              "outlinewidth": 0,
              "ticks": ""
             }
            },
            "type": "scatterpolar"
           }
          ],
          "scatterpolargl": [
           {
            "marker": {
             "colorbar": {
              "outlinewidth": 0,
              "ticks": ""
             }
            },
            "type": "scatterpolargl"
           }
          ],
          "scatterternary": [
           {
            "marker": {
             "colorbar": {
              "outlinewidth": 0,
              "ticks": ""
             }
            },
            "type": "scatterternary"
           }
          ],
          "surface": [
           {
            "colorbar": {
             "outlinewidth": 0,
             "ticks": ""
            },
            "colorscale": [
             [
              0,
              "#0d0887"
             ],
             [
              0.1111111111111111,
              "#46039f"
             ],
             [
              0.2222222222222222,
              "#7201a8"
             ],
             [
              0.3333333333333333,
              "#9c179e"
             ],
             [
              0.4444444444444444,
              "#bd3786"
             ],
             [
              0.5555555555555556,
              "#d8576b"
             ],
             [
              0.6666666666666666,
              "#ed7953"
             ],
             [
              0.7777777777777778,
              "#fb9f3a"
             ],
             [
              0.8888888888888888,
              "#fdca26"
             ],
             [
              1,
              "#f0f921"
             ]
            ],
            "type": "surface"
           }
          ],
          "table": [
           {
            "cells": {
             "fill": {
              "color": "#EBF0F8"
             },
             "line": {
              "color": "white"
             }
            },
            "header": {
             "fill": {
              "color": "#C8D4E3"
             },
             "line": {
              "color": "white"
             }
            },
            "type": "table"
           }
          ]
         },
         "layout": {
          "annotationdefaults": {
           "arrowcolor": "#2a3f5f",
           "arrowhead": 0,
           "arrowwidth": 1
          },
          "autotypenumbers": "strict",
          "coloraxis": {
           "colorbar": {
            "outlinewidth": 0,
            "ticks": ""
           }
          },
          "colorscale": {
           "diverging": [
            [
             0,
             "#8e0152"
            ],
            [
             0.1,
             "#c51b7d"
            ],
            [
             0.2,
             "#de77ae"
            ],
            [
             0.3,
             "#f1b6da"
            ],
            [
             0.4,
             "#fde0ef"
            ],
            [
             0.5,
             "#f7f7f7"
            ],
            [
             0.6,
             "#e6f5d0"
            ],
            [
             0.7,
             "#b8e186"
            ],
            [
             0.8,
             "#7fbc41"
            ],
            [
             0.9,
             "#4d9221"
            ],
            [
             1,
             "#276419"
            ]
           ],
           "sequential": [
            [
             0,
             "#0d0887"
            ],
            [
             0.1111111111111111,
             "#46039f"
            ],
            [
             0.2222222222222222,
             "#7201a8"
            ],
            [
             0.3333333333333333,
             "#9c179e"
            ],
            [
             0.4444444444444444,
             "#bd3786"
            ],
            [
             0.5555555555555556,
             "#d8576b"
            ],
            [
             0.6666666666666666,
             "#ed7953"
            ],
            [
             0.7777777777777778,
             "#fb9f3a"
            ],
            [
             0.8888888888888888,
             "#fdca26"
            ],
            [
             1,
             "#f0f921"
            ]
           ],
           "sequentialminus": [
            [
             0,
             "#0d0887"
            ],
            [
             0.1111111111111111,
             "#46039f"
            ],
            [
             0.2222222222222222,
             "#7201a8"
            ],
            [
             0.3333333333333333,
             "#9c179e"
            ],
            [
             0.4444444444444444,
             "#bd3786"
            ],
            [
             0.5555555555555556,
             "#d8576b"
            ],
            [
             0.6666666666666666,
             "#ed7953"
            ],
            [
             0.7777777777777778,
             "#fb9f3a"
            ],
            [
             0.8888888888888888,
             "#fdca26"
            ],
            [
             1,
             "#f0f921"
            ]
           ]
          },
          "colorway": [
           "#636efa",
           "#EF553B",
           "#00cc96",
           "#ab63fa",
           "#FFA15A",
           "#19d3f3",
           "#FF6692",
           "#B6E880",
           "#FF97FF",
           "#FECB52"
          ],
          "font": {
           "color": "#2a3f5f"
          },
          "geo": {
           "bgcolor": "white",
           "lakecolor": "white",
           "landcolor": "#E5ECF6",
           "showlakes": true,
           "showland": true,
           "subunitcolor": "white"
          },
          "hoverlabel": {
           "align": "left"
          },
          "hovermode": "closest",
          "mapbox": {
           "style": "light"
          },
          "paper_bgcolor": "white",
          "plot_bgcolor": "#E5ECF6",
          "polar": {
           "angularaxis": {
            "gridcolor": "white",
            "linecolor": "white",
            "ticks": ""
           },
           "bgcolor": "#E5ECF6",
           "radialaxis": {
            "gridcolor": "white",
            "linecolor": "white",
            "ticks": ""
           }
          },
          "scene": {
           "xaxis": {
            "backgroundcolor": "#E5ECF6",
            "gridcolor": "white",
            "gridwidth": 2,
            "linecolor": "white",
            "showbackground": true,
            "ticks": "",
            "zerolinecolor": "white"
           },
           "yaxis": {
            "backgroundcolor": "#E5ECF6",
            "gridcolor": "white",
            "gridwidth": 2,
            "linecolor": "white",
            "showbackground": true,
            "ticks": "",
            "zerolinecolor": "white"
           },
           "zaxis": {
            "backgroundcolor": "#E5ECF6",
            "gridcolor": "white",
            "gridwidth": 2,
            "linecolor": "white",
            "showbackground": true,
            "ticks": "",
            "zerolinecolor": "white"
           }
          },
          "shapedefaults": {
           "line": {
            "color": "#2a3f5f"
           }
          },
          "ternary": {
           "aaxis": {
            "gridcolor": "white",
            "linecolor": "white",
            "ticks": ""
           },
           "baxis": {
            "gridcolor": "white",
            "linecolor": "white",
            "ticks": ""
           },
           "bgcolor": "#E5ECF6",
           "caxis": {
            "gridcolor": "white",
            "linecolor": "white",
            "ticks": ""
           }
          },
          "title": {
           "x": 0.05
          },
          "xaxis": {
           "automargin": true,
           "gridcolor": "white",
           "linecolor": "white",
           "ticks": "",
           "title": {
            "standoff": 15
           },
           "zerolinecolor": "white",
           "zerolinewidth": 2
          },
          "yaxis": {
           "automargin": true,
           "gridcolor": "white",
           "linecolor": "white",
           "ticks": "",
           "title": {
            "standoff": 15
           },
           "zerolinecolor": "white",
           "zerolinewidth": 2
          }
         }
        },
        "xaxis": {
         "anchor": "y",
         "domain": [
          0,
          1
         ],
         "title": {
          "text": "ciudad"
         }
        },
        "yaxis": {
         "anchor": "x",
         "domain": [
          0,
          1
         ],
         "title": {
          "text": "frecuencia"
         }
        }
       }
      }
     },
     "metadata": {},
     "output_type": "display_data"
    }
   ],
   "source": [
    "agrupado_grupos = matriz_completa_GRUPOS.groupby(by=['grupo','LUGAR']).size().reset_index().sort_values(by=0,ascending=False)\n",
    "\n",
    "agrupado_grupos.columns = ['grupo','ciudad','frecuencia']\n",
    "\n",
    "figura = px.scatter(agrupado_grupos[:50],x='ciudad',y='frecuencia',text='grupo')\n",
    "\n",
    "\n",
    "figura.show()"
   ]
  },
  {
   "attachments": {},
   "cell_type": "markdown",
   "metadata": {},
   "source": [
    "#### UNIVERSO DE GRUPOS Y TAGS POR CIUDAD."
   ]
  },
  {
   "cell_type": "code",
   "execution_count": 198,
   "metadata": {},
   "outputs": [
    {
     "name": "stderr",
     "output_type": "stream",
     "text": [
      "/var/folders/pr/p7nx1g2d6nvg23wbvp3nnb580000gn/T/ipykernel_38005/367955458.py:3: SettingWithCopyWarning:\n",
      "\n",
      "\n",
      "A value is trying to be set on a copy of a slice from a DataFrame.\n",
      "Try using .loc[row_indexer,col_indexer] = value instead\n",
      "\n",
      "See the caveats in the documentation: https://pandas.pydata.org/pandas-docs/stable/user_guide/indexing.html#returning-a-view-versus-a-copy\n",
      "\n"
     ]
    }
   ],
   "source": [
    "matriz_completa_cruzada = matriz_completa[(matriz_completa['grupo'].apply(lambda x: len(x)>=1))]\n",
    "\n",
    "matriz_completa_cruzada['grupo'] = matriz_completa_cruzada['grupo'].apply(lambda x: x[0])\n",
    "\n",
    "matriz_completa_cruzada = matriz_completa_cruzada[(matriz_completa_cruzada['tags'].apply(lambda x: len(x)>=1))]\n",
    "\n",
    "grupo_tags = matriz_completa_cruzada.groupby(by=[\"grupo\",'LUGAR'])[\"tags\"].apply(list).reset_index()\n",
    "\n",
    "grupo_tags['tags_desagregados'] = grupo_tags['tags'].apply(lambda x: list(set([item for sublist in x for item in sublist])))\n"
   ]
  },
  {
   "cell_type": "code",
   "execution_count": 203,
   "metadata": {},
   "outputs": [
    {
     "data": {
      "text/plain": [
       "grupo\n",
       "educacion                 6\n",
       "administracion-publica    5\n",
       "genero                    5\n",
       "medio-ambiente            5\n",
       "salud                     5\n",
       "cultura                   3\n",
       "seguridad                 3\n",
       "movilidad-y-transporte    2\n",
       "desarrollo-humano         2\n",
       "presupuesto               2\n",
       "Name: count, dtype: int64"
      ]
     },
     "execution_count": 203,
     "metadata": {},
     "output_type": "execute_result"
    }
   ],
   "source": [
    "grupo_tags['grupo'].value_counts(ascending=False)[:10]"
   ]
  },
  {
   "cell_type": "code",
   "execution_count": 206,
   "metadata": {},
   "outputs": [
    {
     "data": {
      "text/html": [
       "<div>\n",
       "<style scoped>\n",
       "    .dataframe tbody tr th:only-of-type {\n",
       "        vertical-align: middle;\n",
       "    }\n",
       "\n",
       "    .dataframe tbody tr th {\n",
       "        vertical-align: top;\n",
       "    }\n",
       "\n",
       "    .dataframe thead th {\n",
       "        text-align: right;\n",
       "    }\n",
       "</style>\n",
       "<table border=\"1\" class=\"dataframe\">\n",
       "  <thead>\n",
       "    <tr style=\"text-align: right;\">\n",
       "      <th></th>\n",
       "      <th>grupo</th>\n",
       "      <th>LUGAR</th>\n",
       "      <th>tags_desagregados</th>\n",
       "    </tr>\n",
       "  </thead>\n",
       "  <tbody>\n",
       "    <tr>\n",
       "      <th>0</th>\n",
       "      <td>accion-social</td>\n",
       "      <td>LINCOLN</td>\n",
       "      <td>[unidades, Fondo, mi bebe, Sostenible, 2018, f...</td>\n",
       "    </tr>\n",
       "    <tr>\n",
       "      <th>1</th>\n",
       "      <td>actividad-economica</td>\n",
       "      <td>NEUQUEN</td>\n",
       "      <td>[compras, gas, mineria, prestamos, producción,...</td>\n",
       "    </tr>\n",
       "    <tr>\n",
       "      <th>2</th>\n",
       "      <td>administracion-publica</td>\n",
       "      <td>CABA</td>\n",
       "      <td>[seguridad, matafuegos, dictamenes, divorcios,...</td>\n",
       "    </tr>\n",
       "    <tr>\n",
       "      <th>3</th>\n",
       "      <td>administracion-publica</td>\n",
       "      <td>CORDOBA</td>\n",
       "      <td>[legislación, información geográfica, ips, dni...</td>\n",
       "    </tr>\n",
       "    <tr>\n",
       "      <th>4</th>\n",
       "      <td>administracion-publica</td>\n",
       "      <td>MENDOZA</td>\n",
       "      <td>[Consorcios, seguridad, habitantes, DDJJ Funci...</td>\n",
       "    </tr>\n",
       "    <tr>\n",
       "      <th>...</th>\n",
       "      <td>...</td>\n",
       "      <td>...</td>\n",
       "      <td>...</td>\n",
       "    </tr>\n",
       "    <tr>\n",
       "      <th>116</th>\n",
       "      <td>transporte-y-movilidad</td>\n",
       "      <td>CORRIENTES</td>\n",
       "      <td>[transporte, multas, licencias, sac, movilidad...</td>\n",
       "    </tr>\n",
       "    <tr>\n",
       "      <th>117</th>\n",
       "      <td>turismo</td>\n",
       "      <td>BAHIA BLANCA</td>\n",
       "      <td>[reuniones, ferias, turismo, congresos, conven...</td>\n",
       "    </tr>\n",
       "    <tr>\n",
       "      <th>118</th>\n",
       "      <td>urbanismo-territorio</td>\n",
       "      <td>MENDOZA</td>\n",
       "      <td>[Cuencas Hidrográficas, Estaciones Hidrometeor...</td>\n",
       "    </tr>\n",
       "    <tr>\n",
       "      <th>119</th>\n",
       "      <td>urbanismo-y-territorio</td>\n",
       "      <td>CABA</td>\n",
       "      <td>[urbanismo-territorio, estadística, urbanismo,...</td>\n",
       "    </tr>\n",
       "    <tr>\n",
       "      <th>120</th>\n",
       "      <td>zoonosis</td>\n",
       "      <td>CORRIENTES</td>\n",
       "      <td>[plaza, higiene, perros, punto, ecología, parq...</td>\n",
       "    </tr>\n",
       "  </tbody>\n",
       "</table>\n",
       "<p>121 rows × 3 columns</p>\n",
       "</div>"
      ],
      "text/plain": [
       "                      grupo         LUGAR  \\\n",
       "0             accion-social       LINCOLN   \n",
       "1       actividad-economica       NEUQUEN   \n",
       "2    administracion-publica          CABA   \n",
       "3    administracion-publica       CORDOBA   \n",
       "4    administracion-publica       MENDOZA   \n",
       "..                      ...           ...   \n",
       "116  transporte-y-movilidad    CORRIENTES   \n",
       "117                 turismo  BAHIA BLANCA   \n",
       "118    urbanismo-territorio       MENDOZA   \n",
       "119  urbanismo-y-territorio          CABA   \n",
       "120                zoonosis    CORRIENTES   \n",
       "\n",
       "                                     tags_desagregados  \n",
       "0    [unidades, Fondo, mi bebe, Sostenible, 2018, f...  \n",
       "1    [compras, gas, mineria, prestamos, producción,...  \n",
       "2    [seguridad, matafuegos, dictamenes, divorcios,...  \n",
       "3    [legislación, información geográfica, ips, dni...  \n",
       "4    [Consorcios, seguridad, habitantes, DDJJ Funci...  \n",
       "..                                                 ...  \n",
       "116  [transporte, multas, licencias, sac, movilidad...  \n",
       "117  [reuniones, ferias, turismo, congresos, conven...  \n",
       "118  [Cuencas Hidrográficas, Estaciones Hidrometeor...  \n",
       "119  [urbanismo-territorio, estadística, urbanismo,...  \n",
       "120  [plaza, higiene, perros, punto, ecología, parq...  \n",
       "\n",
       "[121 rows x 3 columns]"
      ]
     },
     "execution_count": 206,
     "metadata": {},
     "output_type": "execute_result"
    }
   ],
   "source": [
    "grupo_tags[['grupo','LUGAR','tags_desagregados']]"
   ]
  },
  {
   "cell_type": "code",
   "execution_count": 211,
   "metadata": {},
   "outputs": [
    {
     "data": {
      "text/html": [
       "<div>\n",
       "<style scoped>\n",
       "    .dataframe tbody tr th:only-of-type {\n",
       "        vertical-align: middle;\n",
       "    }\n",
       "\n",
       "    .dataframe tbody tr th {\n",
       "        vertical-align: top;\n",
       "    }\n",
       "\n",
       "    .dataframe thead th {\n",
       "        text-align: right;\n",
       "    }\n",
       "</style>\n",
       "<table border=\"1\" class=\"dataframe\">\n",
       "  <thead>\n",
       "    <tr style=\"text-align: right;\">\n",
       "      <th></th>\n",
       "      <th>grupo</th>\n",
       "      <th>LUGAR</th>\n",
       "      <th>tags</th>\n",
       "      <th>tags_desagregados</th>\n",
       "    </tr>\n",
       "  </thead>\n",
       "  <tbody>\n",
       "    <tr>\n",
       "      <th>2</th>\n",
       "      <td>administracion-publica</td>\n",
       "      <td>CABA</td>\n",
       "      <td>[[información pública, ley 104, normas, transp...</td>\n",
       "      <td>[seguridad, matafuegos, dictamenes, divorcios,...</td>\n",
       "    </tr>\n",
       "    <tr>\n",
       "      <th>3</th>\n",
       "      <td>administracion-publica</td>\n",
       "      <td>CORDOBA</td>\n",
       "      <td>[[Boletín Oficial, decretos, legislación, leye...</td>\n",
       "      <td>[legislación, información geográfica, ips, dni...</td>\n",
       "    </tr>\n",
       "    <tr>\n",
       "      <th>4</th>\n",
       "      <td>administracion-publica</td>\n",
       "      <td>MENDOZA</td>\n",
       "      <td>[[acequias], [acequias], [informe aip], [infor...</td>\n",
       "      <td>[Consorcios, seguridad, habitantes, DDJJ Funci...</td>\n",
       "    </tr>\n",
       "    <tr>\n",
       "      <th>5</th>\n",
       "      <td>administracion-publica</td>\n",
       "      <td>NEUQUEN</td>\n",
       "      <td>[[Compras y Contrataciones, Proveedores del Es...</td>\n",
       "      <td>[compras, Organismos, Municipios, Organizacion...</td>\n",
       "    </tr>\n",
       "    <tr>\n",
       "      <th>6</th>\n",
       "      <td>administracion-publica</td>\n",
       "      <td>PERGAMINO</td>\n",
       "      <td>[[147, atencion a vecinos, reclamos], [147, at...</td>\n",
       "      <td>[agrupamiento, 147, acceso a la información pú...</td>\n",
       "    </tr>\n",
       "  </tbody>\n",
       "</table>\n",
       "</div>"
      ],
      "text/plain": [
       "                    grupo      LUGAR  \\\n",
       "2  administracion-publica       CABA   \n",
       "3  administracion-publica    CORDOBA   \n",
       "4  administracion-publica    MENDOZA   \n",
       "5  administracion-publica    NEUQUEN   \n",
       "6  administracion-publica  PERGAMINO   \n",
       "\n",
       "                                                tags  \\\n",
       "2  [[información pública, ley 104, normas, transp...   \n",
       "3  [[Boletín Oficial, decretos, legislación, leye...   \n",
       "4  [[acequias], [acequias], [informe aip], [infor...   \n",
       "5  [[Compras y Contrataciones, Proveedores del Es...   \n",
       "6  [[147, atencion a vecinos, reclamos], [147, at...   \n",
       "\n",
       "                                   tags_desagregados  \n",
       "2  [seguridad, matafuegos, dictamenes, divorcios,...  \n",
       "3  [legislación, información geográfica, ips, dni...  \n",
       "4  [Consorcios, seguridad, habitantes, DDJJ Funci...  \n",
       "5  [compras, Organismos, Municipios, Organizacion...  \n",
       "6  [agrupamiento, 147, acceso a la información pú...  "
      ]
     },
     "execution_count": 211,
     "metadata": {},
     "output_type": "execute_result"
    }
   ],
   "source": [
    "grupo_tags[grupo_tags['grupo']=='administracion-publica']"
   ]
  },
  {
   "cell_type": "code",
   "execution_count": 247,
   "metadata": {},
   "outputs": [],
   "source": [
    "matriz_tags_lematizados_agrupados = matriz_tags.groupby(by=['tags_lematizados_unificados','grupo','ciudad']).size().sort_values(ascending=False).reset_index()\n",
    "\n",
    "matriz_tags_lematizados_agrupados.columns = ['tags_lematizados','grupo','ciudad','frecuencia']"
   ]
  },
  {
   "cell_type": "code",
   "execution_count": 250,
   "metadata": {},
   "outputs": [
    {
     "data": {
      "application/vnd.plotly.v1+json": {
       "config": {
        "plotlyServerURL": "https://plot.ly"
       },
       "data": [
        {
         "hovertemplate": "grupo=decretos<br>ciudad=%{x}<br>frecuencia=%{marker.size}<br>tags_lematizados=%{text}<extra></extra>",
         "legendgroup": "decretos",
         "marker": {
          "color": "#636efa",
          "size": [
           238,
           132
          ],
          "sizemode": "area",
          "sizeref": 0.595,
          "symbol": "circle"
         },
         "mode": "markers+text",
         "name": "decretos",
         "orientation": "v",
         "showlegend": true,
         "text": [
          "Decretos",
          "Secretaría de Gobierno"
         ],
         "type": "scatter",
         "x": [
          "LINCOLN",
          "LINCOLN"
         ],
         "xaxis": "x",
         "y": [
          238,
          132
         ],
         "yaxis": "y"
        },
        {
         "hovertemplate": "grupo=medio-ambiente<br>ciudad=%{x}<br>frecuencia=%{marker.size}<br>tags_lematizados=%{text}<extra></extra>",
         "legendgroup": "medio-ambiente",
         "marker": {
          "color": "#EF553B",
          "size": [
           123,
           42
          ],
          "sizemode": "area",
          "sizeref": 0.595,
          "symbol": "circle"
         },
         "mode": "markers+text",
         "name": "medio-ambiente",
         "orientation": "v",
         "showlegend": true,
         "text": [
          "cambio climático",
          "ambiente"
         ],
         "type": "scatter",
         "x": [
          "CABA",
          "CABA"
         ],
         "xaxis": "x",
         "y": [
          123,
          42
         ],
         "yaxis": "y"
        },
        {
         "hovertemplate": "grupo=movilidad<br>ciudad=%{x}<br>frecuencia=%{marker.size}<br>tags_lematizados=%{text}<extra></extra>",
         "legendgroup": "movilidad",
         "marker": {
          "color": "#00cc96",
          "size": [
           101,
           75,
           65,
           54,
           47,
           44,
           44,
           38,
           35
          ],
          "sizemode": "area",
          "sizeref": 0.595,
          "symbol": "circle"
         },
         "mode": "markers+text",
         "name": "movilidad",
         "orientation": "v",
         "showlegend": true,
         "text": [
          "transporte",
          "servicio",
          "cambio climático",
          "urbanismo",
          "transito",
          "tránsito",
          "bicicleta",
          "movilidad",
          "mapa"
         ],
         "type": "scatter",
         "x": [
          "CABA",
          "CABA",
          "CABA",
          "CABA",
          "CABA",
          "CABA",
          "CABA",
          "CABA",
          "CABA"
         ],
         "xaxis": "x",
         "y": [
          101,
          75,
          65,
          54,
          47,
          44,
          44,
          38,
          35
         ],
         "yaxis": "y"
        },
        {
         "hovertemplate": "grupo=datos-historicos<br>ciudad=%{x}<br>frecuencia=%{marker.size}<br>tags_lematizados=%{text}<extra></extra>",
         "legendgroup": "datos-historicos",
         "marker": {
          "color": "#ab63fa",
          "size": [
           98,
           98,
           97
          ],
          "sizemode": "area",
          "sizeref": 0.595,
          "symbol": "circle"
         },
         "mode": "markers+text",
         "name": "datos-historicos",
         "orientation": "v",
         "showlegend": true,
         "text": [
          "infracción",
          "operativo",
          "control de transito"
         ],
         "type": "scatter",
         "x": [
          "BAHIA BLANCA",
          "BAHIA BLANCA",
          "BAHIA BLANCA"
         ],
         "xaxis": "x",
         "y": [
          98,
          98,
          97
         ],
         "yaxis": "y"
        },
        {
         "hovertemplate": "grupo=economia-y-hacienda<br>ciudad=%{x}<br>frecuencia=%{marker.size}<br>tags_lematizados=%{text}<extra></extra>",
         "legendgroup": "economia-y-hacienda",
         "marker": {
          "color": "#FFA15A",
          "size": [
           93,
           66,
           58
          ],
          "sizemode": "area",
          "sizeref": 0.595,
          "symbol": "circle"
         },
         "mode": "markers+text",
         "name": "economia-y-hacienda",
         "orientation": "v",
         "showlegend": true,
         "text": [
          "transparencia",
          "ejecución presupuestario",
          "presupuesto"
         ],
         "type": "scatter",
         "x": [
          "MERCEDES",
          "MERCEDES",
          "MERCEDES"
         ],
         "xaxis": "x",
         "y": [
          93,
          66,
          58
         ],
         "yaxis": "y"
        },
        {
         "hovertemplate": "grupo=accion-social<br>ciudad=%{x}<br>frecuencia=%{marker.size}<br>tags_lematizados=%{text}<extra></extra>",
         "legendgroup": "accion-social",
         "marker": {
          "color": "#19d3f3",
          "size": [
           90,
           85,
           61,
           47,
           36
          ],
          "sizemode": "area",
          "sizeref": 0.595,
          "symbol": "circle"
         },
         "mode": "markers+text",
         "name": "accion-social",
         "orientation": "v",
         "showlegend": true,
         "text": [
          "jardin",
          "2017",
          "2016",
          "2018",
          "mi bebe"
         ],
         "type": "scatter",
         "x": [
          "LINCOLN",
          "LINCOLN",
          "LINCOLN",
          "LINCOLN",
          "LINCOLN"
         ],
         "xaxis": "x",
         "y": [
          90,
          85,
          61,
          47,
          36
         ],
         "yaxis": "y"
        },
        {
         "hovertemplate": "grupo=seguridad<br>ciudad=%{x}<br>frecuencia=%{marker.size}<br>tags_lematizados=%{text}<extra></extra>",
         "legendgroup": "seguridad",
         "marker": {
          "color": "#FF6692",
          "size": [
           84,
           69
          ],
          "sizemode": "area",
          "sizeref": 0.595,
          "symbol": "circle"
         },
         "mode": "markers+text",
         "name": "seguridad",
         "orientation": "v",
         "showlegend": true,
         "text": [
          "Seguridad",
          "transparencia"
         ],
         "type": "scatter",
         "x": [
          "MERCEDES",
          "MERCEDES"
         ],
         "xaxis": "x",
         "y": [
          84,
          69
         ],
         "yaxis": "y"
        },
        {
         "hovertemplate": "grupo=economia-y-finanzas<br>ciudad=%{x}<br>frecuencia=%{marker.size}<br>tags_lematizados=%{text}<extra></extra>",
         "legendgroup": "economia-y-finanzas",
         "marker": {
          "color": "#B6E880",
          "size": [
           75
          ],
          "sizemode": "area",
          "sizeref": 0.595,
          "symbol": "circle"
         },
         "mode": "markers+text",
         "name": "economia-y-finanzas",
         "orientation": "v",
         "showlegend": true,
         "text": [
          "economía"
         ],
         "type": "scatter",
         "x": [
          "CABA"
         ],
         "xaxis": "x",
         "y": [
          75
         ],
         "yaxis": "y"
        },
        {
         "hovertemplate": "grupo=educacion<br>ciudad=%{x}<br>frecuencia=%{marker.size}<br>tags_lematizados=%{text}<extra></extra>",
         "legendgroup": "educacion",
         "marker": {
          "color": "#FF97FF",
          "size": [
           69,
           46,
           46
          ],
          "sizemode": "area",
          "sizeref": 0.595,
          "symbol": "circle"
         },
         "mode": "markers+text",
         "name": "educacion",
         "orientation": "v",
         "showlegend": true,
         "text": [
          "beca",
          "terciario",
          "2019"
         ],
         "type": "scatter",
         "x": [
          "LINCOLN",
          "LINCOLN",
          "LINCOLN"
         ],
         "xaxis": "x",
         "y": [
          69,
          46,
          46
         ],
         "yaxis": "y"
        },
        {
         "hovertemplate": "grupo=gobierno<br>ciudad=%{x}<br>frecuencia=%{marker.size}<br>tags_lematizados=%{text}<extra></extra>",
         "legendgroup": "gobierno",
         "marker": {
          "color": "#FECB52",
          "size": [
           63,
           62,
           62
          ],
          "sizemode": "area",
          "sizeref": 0.595,
          "symbol": "circle"
         },
         "mode": "markers+text",
         "name": "gobierno",
         "orientation": "v",
         "showlegend": true,
         "text": [
          "funcionario",
          "declaración",
          "jurada"
         ],
         "type": "scatter",
         "x": [
          "LINCOLN",
          "LINCOLN",
          "LINCOLN"
         ],
         "xaxis": "x",
         "y": [
          63,
          62,
          62
         ],
         "yaxis": "y"
        },
        {
         "hovertemplate": "grupo=salud<br>ciudad=%{x}<br>frecuencia=%{marker.size}<br>tags_lematizados=%{text}<extra></extra>",
         "legendgroup": "salud",
         "marker": {
          "color": "#636efa",
          "size": [
           60,
           41
          ],
          "sizemode": "area",
          "sizeref": 0.595,
          "symbol": "circle"
         },
         "mode": "markers+text",
         "name": "salud",
         "orientation": "v",
         "showlegend": true,
         "text": [
          "CAPS",
          "Salud"
         ],
         "type": "scatter",
         "x": [
          "MERCEDES",
          "MERCEDES"
         ],
         "xaxis": "x",
         "y": [
          60,
          41
         ],
         "yaxis": "y"
        },
        {
         "hovertemplate": "grupo=sueldos<br>ciudad=%{x}<br>frecuencia=%{marker.size}<br>tags_lematizados=%{text}<extra></extra>",
         "legendgroup": "sueldos",
         "marker": {
          "color": "#EF553B",
          "size": [
           58,
           54,
           50,
           50
          ],
          "sizemode": "area",
          "sizeref": 0.595,
          "symbol": "circle"
         },
         "mode": "markers+text",
         "name": "sueldos",
         "orientation": "v",
         "showlegend": true,
         "text": [
          "gasto",
          "Ejecucion",
          "orden",
          "compra"
         ],
         "type": "scatter",
         "x": [
          "LINCOLN",
          "LINCOLN",
          "LINCOLN",
          "LINCOLN"
         ],
         "xaxis": "x",
         "y": [
          58,
          54,
          50,
          50
         ],
         "yaxis": "y"
        },
        {
         "hovertemplate": "grupo=a<br>ciudad=%{x}<br>frecuencia=%{marker.size}<br>tags_lematizados=%{text}<extra></extra>",
         "legendgroup": "a",
         "marker": {
          "color": "#00cc96",
          "size": [
           57
          ],
          "sizemode": "area",
          "sizeref": 0.595,
          "symbol": "circle"
         },
         "mode": "markers+text",
         "name": "a",
         "orientation": "v",
         "showlegend": true,
         "text": [
          "DDJJ Funcionarios"
         ],
         "type": "scatter",
         "x": [
          "MENDOZA"
         ],
         "xaxis": "x",
         "y": [
          57
         ],
         "yaxis": "y"
        },
        {
         "hovertemplate": "grupo=s<br>ciudad=%{x}<br>frecuencia=%{marker.size}<br>tags_lematizados=%{text}<extra></extra>",
         "legendgroup": "s",
         "marker": {
          "color": "#ab63fa",
          "size": [
           46
          ],
          "sizemode": "area",
          "sizeref": 0.595,
          "symbol": "circle"
         },
         "mode": "markers+text",
         "name": "s",
         "orientation": "v",
         "showlegend": true,
         "text": [
          "sueldo"
         ],
         "type": "scatter",
         "x": [
          "LINCOLN"
         ],
         "xaxis": "x",
         "y": [
          46
         ],
         "yaxis": "y"
        },
        {
         "hovertemplate": "grupo=obras-y-servicios-publicos<br>ciudad=%{x}<br>frecuencia=%{marker.size}<br>tags_lematizados=%{text}<extra></extra>",
         "legendgroup": "obras-y-servicios-publicos",
         "marker": {
          "color": "#FFA15A",
          "size": [
           43,
           42,
           42
          ],
          "sizemode": "area",
          "sizeref": 0.595,
          "symbol": "circle"
         },
         "mode": "markers+text",
         "name": "obras-y-servicios-publicos",
         "orientation": "v",
         "showlegend": true,
         "text": [
          "Servicios Publicos",
          "2021",
          "transparencia"
         ],
         "type": "scatter",
         "x": [
          "MERCEDES",
          "MERCEDES",
          "MERCEDES"
         ],
         "xaxis": "x",
         "y": [
          43,
          42,
          42
         ],
         "yaxis": "y"
        },
        {
         "hovertemplate": "grupo=turismo<br>ciudad=%{x}<br>frecuencia=%{marker.size}<br>tags_lematizados=%{text}<extra></extra>",
         "legendgroup": "turismo",
         "marker": {
          "color": "#19d3f3",
          "size": [
           40
          ],
          "sizemode": "area",
          "sizeref": 0.595,
          "symbol": "circle"
         },
         "mode": "markers+text",
         "name": "turismo",
         "orientation": "v",
         "showlegend": true,
         "text": [
          "turismo"
         ],
         "type": "scatter",
         "x": [
          "BAHIA BLANCA"
         ],
         "xaxis": "x",
         "y": [
          40
         ],
         "yaxis": "y"
        },
        {
         "hovertemplate": "grupo=g<br>ciudad=%{x}<br>frecuencia=%{marker.size}<br>tags_lematizados=%{text}<extra></extra>",
         "legendgroup": "g",
         "marker": {
          "color": "#FF6692",
          "size": [
           40,
           37
          ],
          "sizemode": "area",
          "sizeref": 0.595,
          "symbol": "circle"
         },
         "mode": "markers+text",
         "name": "g",
         "orientation": "v",
         "showlegend": true,
         "text": [
          "genero",
          "Género"
         ],
         "type": "scatter",
         "x": [
          "MENDOZA",
          "BAHIA BLANCA"
         ],
         "xaxis": "x",
         "y": [
          40,
          37
         ],
         "yaxis": "y"
        },
        {
         "hovertemplate": "grupo=datos-electorales<br>ciudad=%{x}<br>frecuencia=%{marker.size}<br>tags_lematizados=%{text}<extra></extra>",
         "legendgroup": "datos-electorales",
         "marker": {
          "color": "#B6E880",
          "size": [
           38
          ],
          "sizemode": "area",
          "sizeref": 0.595,
          "symbol": "circle"
         },
         "mode": "markers+text",
         "name": "datos-electorales",
         "orientation": "v",
         "showlegend": true,
         "text": [
          "elección"
         ],
         "type": "scatter",
         "x": [
          "BAHIA BLANCA"
         ],
         "xaxis": "x",
         "y": [
          38
         ],
         "yaxis": "y"
        },
        {
         "hovertemplate": "grupo=administracion-publica<br>ciudad=%{x}<br>frecuencia=%{marker.size}<br>tags_lematizados=%{text}<extra></extra>",
         "legendgroup": "administracion-publica",
         "marker": {
          "color": "#FF97FF",
          "size": [
           36,
           34
          ],
          "sizemode": "area",
          "sizeref": 0.595,
          "symbol": "circle"
         },
         "mode": "markers+text",
         "name": "administracion-publica",
         "orientation": "v",
         "showlegend": true,
         "text": [
          "reclar",
          "mapa"
         ],
         "type": "scatter",
         "x": [
          "CABA",
          "CABA"
         ],
         "xaxis": "x",
         "y": [
          36,
          34
         ],
         "yaxis": "y"
        }
       ],
       "layout": {
        "legend": {
         "itemsizing": "constant",
         "title": {
          "text": "grupo"
         },
         "tracegroupgap": 0
        },
        "margin": {
         "t": 60
        },
        "template": {
         "data": {
          "bar": [
           {
            "error_x": {
             "color": "#2a3f5f"
            },
            "error_y": {
             "color": "#2a3f5f"
            },
            "marker": {
             "line": {
              "color": "#E5ECF6",
              "width": 0.5
             },
             "pattern": {
              "fillmode": "overlay",
              "size": 10,
              "solidity": 0.2
             }
            },
            "type": "bar"
           }
          ],
          "barpolar": [
           {
            "marker": {
             "line": {
              "color": "#E5ECF6",
              "width": 0.5
             },
             "pattern": {
              "fillmode": "overlay",
              "size": 10,
              "solidity": 0.2
             }
            },
            "type": "barpolar"
           }
          ],
          "carpet": [
           {
            "aaxis": {
             "endlinecolor": "#2a3f5f",
             "gridcolor": "white",
             "linecolor": "white",
             "minorgridcolor": "white",
             "startlinecolor": "#2a3f5f"
            },
            "baxis": {
             "endlinecolor": "#2a3f5f",
             "gridcolor": "white",
             "linecolor": "white",
             "minorgridcolor": "white",
             "startlinecolor": "#2a3f5f"
            },
            "type": "carpet"
           }
          ],
          "choropleth": [
           {
            "colorbar": {
             "outlinewidth": 0,
             "ticks": ""
            },
            "type": "choropleth"
           }
          ],
          "contour": [
           {
            "colorbar": {
             "outlinewidth": 0,
             "ticks": ""
            },
            "colorscale": [
             [
              0,
              "#0d0887"
             ],
             [
              0.1111111111111111,
              "#46039f"
             ],
             [
              0.2222222222222222,
              "#7201a8"
             ],
             [
              0.3333333333333333,
              "#9c179e"
             ],
             [
              0.4444444444444444,
              "#bd3786"
             ],
             [
              0.5555555555555556,
              "#d8576b"
             ],
             [
              0.6666666666666666,
              "#ed7953"
             ],
             [
              0.7777777777777778,
              "#fb9f3a"
             ],
             [
              0.8888888888888888,
              "#fdca26"
             ],
             [
              1,
              "#f0f921"
             ]
            ],
            "type": "contour"
           }
          ],
          "contourcarpet": [
           {
            "colorbar": {
             "outlinewidth": 0,
             "ticks": ""
            },
            "type": "contourcarpet"
           }
          ],
          "heatmap": [
           {
            "colorbar": {
             "outlinewidth": 0,
             "ticks": ""
            },
            "colorscale": [
             [
              0,
              "#0d0887"
             ],
             [
              0.1111111111111111,
              "#46039f"
             ],
             [
              0.2222222222222222,
              "#7201a8"
             ],
             [
              0.3333333333333333,
              "#9c179e"
             ],
             [
              0.4444444444444444,
              "#bd3786"
             ],
             [
              0.5555555555555556,
              "#d8576b"
             ],
             [
              0.6666666666666666,
              "#ed7953"
             ],
             [
              0.7777777777777778,
              "#fb9f3a"
             ],
             [
              0.8888888888888888,
              "#fdca26"
             ],
             [
              1,
              "#f0f921"
             ]
            ],
            "type": "heatmap"
           }
          ],
          "heatmapgl": [
           {
            "colorbar": {
             "outlinewidth": 0,
             "ticks": ""
            },
            "colorscale": [
             [
              0,
              "#0d0887"
             ],
             [
              0.1111111111111111,
              "#46039f"
             ],
             [
              0.2222222222222222,
              "#7201a8"
             ],
             [
              0.3333333333333333,
              "#9c179e"
             ],
             [
              0.4444444444444444,
              "#bd3786"
             ],
             [
              0.5555555555555556,
              "#d8576b"
             ],
             [
              0.6666666666666666,
              "#ed7953"
             ],
             [
              0.7777777777777778,
              "#fb9f3a"
             ],
             [
              0.8888888888888888,
              "#fdca26"
             ],
             [
              1,
              "#f0f921"
             ]
            ],
            "type": "heatmapgl"
           }
          ],
          "histogram": [
           {
            "marker": {
             "pattern": {
              "fillmode": "overlay",
              "size": 10,
              "solidity": 0.2
             }
            },
            "type": "histogram"
           }
          ],
          "histogram2d": [
           {
            "colorbar": {
             "outlinewidth": 0,
             "ticks": ""
            },
            "colorscale": [
             [
              0,
              "#0d0887"
             ],
             [
              0.1111111111111111,
              "#46039f"
             ],
             [
              0.2222222222222222,
              "#7201a8"
             ],
             [
              0.3333333333333333,
              "#9c179e"
             ],
             [
              0.4444444444444444,
              "#bd3786"
             ],
             [
              0.5555555555555556,
              "#d8576b"
             ],
             [
              0.6666666666666666,
              "#ed7953"
             ],
             [
              0.7777777777777778,
              "#fb9f3a"
             ],
             [
              0.8888888888888888,
              "#fdca26"
             ],
             [
              1,
              "#f0f921"
             ]
            ],
            "type": "histogram2d"
           }
          ],
          "histogram2dcontour": [
           {
            "colorbar": {
             "outlinewidth": 0,
             "ticks": ""
            },
            "colorscale": [
             [
              0,
              "#0d0887"
             ],
             [
              0.1111111111111111,
              "#46039f"
             ],
             [
              0.2222222222222222,
              "#7201a8"
             ],
             [
              0.3333333333333333,
              "#9c179e"
             ],
             [
              0.4444444444444444,
              "#bd3786"
             ],
             [
              0.5555555555555556,
              "#d8576b"
             ],
             [
              0.6666666666666666,
              "#ed7953"
             ],
             [
              0.7777777777777778,
              "#fb9f3a"
             ],
             [
              0.8888888888888888,
              "#fdca26"
             ],
             [
              1,
              "#f0f921"
             ]
            ],
            "type": "histogram2dcontour"
           }
          ],
          "mesh3d": [
           {
            "colorbar": {
             "outlinewidth": 0,
             "ticks": ""
            },
            "type": "mesh3d"
           }
          ],
          "parcoords": [
           {
            "line": {
             "colorbar": {
              "outlinewidth": 0,
              "ticks": ""
             }
            },
            "type": "parcoords"
           }
          ],
          "pie": [
           {
            "automargin": true,
            "type": "pie"
           }
          ],
          "scatter": [
           {
            "fillpattern": {
             "fillmode": "overlay",
             "size": 10,
             "solidity": 0.2
            },
            "type": "scatter"
           }
          ],
          "scatter3d": [
           {
            "line": {
             "colorbar": {
              "outlinewidth": 0,
              "ticks": ""
             }
            },
            "marker": {
             "colorbar": {
              "outlinewidth": 0,
              "ticks": ""
             }
            },
            "type": "scatter3d"
           }
          ],
          "scattercarpet": [
           {
            "marker": {
             "colorbar": {
              "outlinewidth": 0,
              "ticks": ""
             }
            },
            "type": "scattercarpet"
           }
          ],
          "scattergeo": [
           {
            "marker": {
             "colorbar": {
              "outlinewidth": 0,
              "ticks": ""
             }
            },
            "type": "scattergeo"
           }
          ],
          "scattergl": [
           {
            "marker": {
             "colorbar": {
              "outlinewidth": 0,
              "ticks": ""
             }
            },
            "type": "scattergl"
           }
          ],
          "scattermapbox": [
           {
            "marker": {
             "colorbar": {
              "outlinewidth": 0,
              "ticks": ""
             }
            },
            "type": "scattermapbox"
           }
          ],
          "scatterpolar": [
           {
            "marker": {
             "colorbar": {
              "outlinewidth": 0,
              "ticks": ""
             }
            },
            "type": "scatterpolar"
           }
          ],
          "scatterpolargl": [
           {
            "marker": {
             "colorbar": {
              "outlinewidth": 0,
              "ticks": ""
             }
            },
            "type": "scatterpolargl"
           }
          ],
          "scatterternary": [
           {
            "marker": {
             "colorbar": {
              "outlinewidth": 0,
              "ticks": ""
             }
            },
            "type": "scatterternary"
           }
          ],
          "surface": [
           {
            "colorbar": {
             "outlinewidth": 0,
             "ticks": ""
            },
            "colorscale": [
             [
              0,
              "#0d0887"
             ],
             [
              0.1111111111111111,
              "#46039f"
             ],
             [
              0.2222222222222222,
              "#7201a8"
             ],
             [
              0.3333333333333333,
              "#9c179e"
             ],
             [
              0.4444444444444444,
              "#bd3786"
             ],
             [
              0.5555555555555556,
              "#d8576b"
             ],
             [
              0.6666666666666666,
              "#ed7953"
             ],
             [
              0.7777777777777778,
              "#fb9f3a"
             ],
             [
              0.8888888888888888,
              "#fdca26"
             ],
             [
              1,
              "#f0f921"
             ]
            ],
            "type": "surface"
           }
          ],
          "table": [
           {
            "cells": {
             "fill": {
              "color": "#EBF0F8"
             },
             "line": {
              "color": "white"
             }
            },
            "header": {
             "fill": {
              "color": "#C8D4E3"
             },
             "line": {
              "color": "white"
             }
            },
            "type": "table"
           }
          ]
         },
         "layout": {
          "annotationdefaults": {
           "arrowcolor": "#2a3f5f",
           "arrowhead": 0,
           "arrowwidth": 1
          },
          "autotypenumbers": "strict",
          "coloraxis": {
           "colorbar": {
            "outlinewidth": 0,
            "ticks": ""
           }
          },
          "colorscale": {
           "diverging": [
            [
             0,
             "#8e0152"
            ],
            [
             0.1,
             "#c51b7d"
            ],
            [
             0.2,
             "#de77ae"
            ],
            [
             0.3,
             "#f1b6da"
            ],
            [
             0.4,
             "#fde0ef"
            ],
            [
             0.5,
             "#f7f7f7"
            ],
            [
             0.6,
             "#e6f5d0"
            ],
            [
             0.7,
             "#b8e186"
            ],
            [
             0.8,
             "#7fbc41"
            ],
            [
             0.9,
             "#4d9221"
            ],
            [
             1,
             "#276419"
            ]
           ],
           "sequential": [
            [
             0,
             "#0d0887"
            ],
            [
             0.1111111111111111,
             "#46039f"
            ],
            [
             0.2222222222222222,
             "#7201a8"
            ],
            [
             0.3333333333333333,
             "#9c179e"
            ],
            [
             0.4444444444444444,
             "#bd3786"
            ],
            [
             0.5555555555555556,
             "#d8576b"
            ],
            [
             0.6666666666666666,
             "#ed7953"
            ],
            [
             0.7777777777777778,
             "#fb9f3a"
            ],
            [
             0.8888888888888888,
             "#fdca26"
            ],
            [
             1,
             "#f0f921"
            ]
           ],
           "sequentialminus": [
            [
             0,
             "#0d0887"
            ],
            [
             0.1111111111111111,
             "#46039f"
            ],
            [
             0.2222222222222222,
             "#7201a8"
            ],
            [
             0.3333333333333333,
             "#9c179e"
            ],
            [
             0.4444444444444444,
             "#bd3786"
            ],
            [
             0.5555555555555556,
             "#d8576b"
            ],
            [
             0.6666666666666666,
             "#ed7953"
            ],
            [
             0.7777777777777778,
             "#fb9f3a"
            ],
            [
             0.8888888888888888,
             "#fdca26"
            ],
            [
             1,
             "#f0f921"
            ]
           ]
          },
          "colorway": [
           "#636efa",
           "#EF553B",
           "#00cc96",
           "#ab63fa",
           "#FFA15A",
           "#19d3f3",
           "#FF6692",
           "#B6E880",
           "#FF97FF",
           "#FECB52"
          ],
          "font": {
           "color": "#2a3f5f"
          },
          "geo": {
           "bgcolor": "white",
           "lakecolor": "white",
           "landcolor": "#E5ECF6",
           "showlakes": true,
           "showland": true,
           "subunitcolor": "white"
          },
          "hoverlabel": {
           "align": "left"
          },
          "hovermode": "closest",
          "mapbox": {
           "style": "light"
          },
          "paper_bgcolor": "white",
          "plot_bgcolor": "#E5ECF6",
          "polar": {
           "angularaxis": {
            "gridcolor": "white",
            "linecolor": "white",
            "ticks": ""
           },
           "bgcolor": "#E5ECF6",
           "radialaxis": {
            "gridcolor": "white",
            "linecolor": "white",
            "ticks": ""
           }
          },
          "scene": {
           "xaxis": {
            "backgroundcolor": "#E5ECF6",
            "gridcolor": "white",
            "gridwidth": 2,
            "linecolor": "white",
            "showbackground": true,
            "ticks": "",
            "zerolinecolor": "white"
           },
           "yaxis": {
            "backgroundcolor": "#E5ECF6",
            "gridcolor": "white",
            "gridwidth": 2,
            "linecolor": "white",
            "showbackground": true,
            "ticks": "",
            "zerolinecolor": "white"
           },
           "zaxis": {
            "backgroundcolor": "#E5ECF6",
            "gridcolor": "white",
            "gridwidth": 2,
            "linecolor": "white",
            "showbackground": true,
            "ticks": "",
            "zerolinecolor": "white"
           }
          },
          "shapedefaults": {
           "line": {
            "color": "#2a3f5f"
           }
          },
          "ternary": {
           "aaxis": {
            "gridcolor": "white",
            "linecolor": "white",
            "ticks": ""
           },
           "baxis": {
            "gridcolor": "white",
            "linecolor": "white",
            "ticks": ""
           },
           "bgcolor": "#E5ECF6",
           "caxis": {
            "gridcolor": "white",
            "linecolor": "white",
            "ticks": ""
           }
          },
          "title": {
           "x": 0.05
          },
          "xaxis": {
           "automargin": true,
           "gridcolor": "white",
           "linecolor": "white",
           "ticks": "",
           "title": {
            "standoff": 15
           },
           "zerolinecolor": "white",
           "zerolinewidth": 2
          },
          "yaxis": {
           "automargin": true,
           "gridcolor": "white",
           "linecolor": "white",
           "ticks": "",
           "title": {
            "standoff": 15
           },
           "zerolinecolor": "white",
           "zerolinewidth": 2
          }
         }
        },
        "xaxis": {
         "anchor": "y",
         "domain": [
          0,
          1
         ],
         "title": {
          "text": "ciudad"
         }
        },
        "yaxis": {
         "anchor": "x",
         "domain": [
          0,
          1
         ],
         "title": {
          "text": "frecuencia"
         }
        }
       }
      }
     },
     "metadata": {},
     "output_type": "display_data"
    }
   ],
   "source": [
    "px.scatter(matriz_tags_lematizados_agrupados[:50],x='ciudad',y='frecuencia',text='tags_lematizados',color='grupo',size='frecuencia')"
   ]
  },
  {
   "cell_type": "code",
   "execution_count": 282,
   "metadata": {},
   "outputs": [
    {
     "data": {
      "text/plain": [
       "array(['CABA', 'PERGAMINO', 'CORDOBA', 'MENDOZA', 'NEUQUEN'], dtype=object)"
      ]
     },
     "execution_count": 282,
     "metadata": {},
     "output_type": "execute_result"
    }
   ],
   "source": [
    "administracion_publica = matriz_tags_lematizados_agrupados[matriz_tags_lematizados_agrupados['grupo']=='administracion-publica']\n",
    "administracion_publica['ciudad'].unique()"
   ]
  },
  {
   "cell_type": "code",
   "execution_count": 326,
   "metadata": {},
   "outputs": [],
   "source": [
    "df = administracion_publica\n",
    "top_10_tags_por_lugar = df.groupby(\"ciudad\").apply(lambda x: x.nlargest(10, \"frecuencia\")).reset_index(drop=True)\n",
    "df = top_10_tags_por_lugar\n",
    "df.columns = ['tags_lematizados','grupo','LUGAR','frecuencia']"
   ]
  },
  {
   "cell_type": "code",
   "execution_count": 327,
   "metadata": {},
   "outputs": [
    {
     "data": {
      "application/vnd.plotly.v1+json": {
       "config": {
        "plotlyServerURL": "https://plot.ly"
       },
       "data": [
        {
         "name": "CABA",
         "text": [
          36,
          34,
          31,
          31,
          31,
          31,
          21,
          18,
          16,
          15
         ],
         "type": "bar",
         "x": [
          "reclar",
          "mapa",
          "gestión",
          "atención ciudadano",
          "colaborativa",
          "suaci",
          "transparencia",
          "administración",
          "registro civil",
          "ciudadano"
         ],
         "xaxis": "x",
         "y": [
          36,
          34,
          31,
          31,
          31,
          31,
          21,
          18,
          16,
          15
         ],
         "yaxis": "y"
        },
        {
         "name": "CORDOBA",
         "text": [
          12,
          12,
          5,
          4,
          4,
          4,
          4,
          4,
          4,
          4
         ],
         "type": "bar",
         "x": [
          "información geográfico",
          "dependencia",
          "ip",
          "partida",
          "reconocimiento",
          "dni",
          "defunción",
          "certificado",
          "trámite",
          "unión"
         ],
         "xaxis": "x2",
         "y": [
          12,
          12,
          5,
          4,
          4,
          4,
          4,
          4,
          4,
          4
         ],
         "yaxis": "y2"
        },
        {
         "name": "MENDOZA",
         "text": [
          8,
          8,
          8,
          5,
          5,
          4,
          4
         ],
         "type": "bar",
         "x": [
          "TRANSPARENCIA",
          "AIP",
          "PEDIDOS DE información",
          "nomín",
          "funcionario",
          "tramit",
          "ventanilla unico"
         ],
         "xaxis": "x3",
         "y": [
          8,
          8,
          8,
          5,
          5,
          4,
          4
         ],
         "yaxis": "y3"
        },
        {
         "name": "NEUQUEN",
         "text": [
          7,
          7
         ],
         "type": "bar",
         "x": [
          "municipio",
          "categoria"
         ],
         "xaxis": "x4",
         "y": [
          7,
          7
         ],
         "yaxis": "y4"
        },
        {
         "name": "PERGAMINO",
         "text": [
          22,
          22,
          22,
          22,
          22,
          22,
          18,
          18,
          18,
          18
         ],
         "type": "bar",
         "x": [
          "personal",
          "recurso humano",
          "legagir",
          "rrhh",
          "secretaria",
          "municipal",
          "empleado",
          "politico",
          "agente",
          "agrupamiento"
         ],
         "xaxis": "x5",
         "y": [
          22,
          22,
          22,
          22,
          22,
          22,
          18,
          18,
          18,
          18
         ],
         "yaxis": "y5"
        }
       ],
       "layout": {
        "annotations": [
         {
          "font": {
           "size": 16
          },
          "showarrow": false,
          "text": "CABA",
          "x": 0.08399999999999999,
          "xanchor": "center",
          "xref": "paper",
          "y": 1,
          "yanchor": "bottom",
          "yref": "paper"
         },
         {
          "font": {
           "size": 16
          },
          "showarrow": false,
          "text": "CORDOBA",
          "x": 0.292,
          "xanchor": "center",
          "xref": "paper",
          "y": 1,
          "yanchor": "bottom",
          "yref": "paper"
         },
         {
          "font": {
           "size": 16
          },
          "showarrow": false,
          "text": "MENDOZA",
          "x": 0.5,
          "xanchor": "center",
          "xref": "paper",
          "y": 1,
          "yanchor": "bottom",
          "yref": "paper"
         },
         {
          "font": {
           "size": 16
          },
          "showarrow": false,
          "text": "NEUQUEN",
          "x": 0.708,
          "xanchor": "center",
          "xref": "paper",
          "y": 1,
          "yanchor": "bottom",
          "yref": "paper"
         },
         {
          "font": {
           "size": 16
          },
          "showarrow": false,
          "text": "PERGAMINO",
          "x": 0.9159999999999999,
          "xanchor": "center",
          "xref": "paper",
          "y": 1,
          "yanchor": "bottom",
          "yref": "paper"
         }
        ],
        "height": 400,
        "showlegend": false,
        "template": {
         "data": {
          "bar": [
           {
            "error_x": {
             "color": "#2a3f5f"
            },
            "error_y": {
             "color": "#2a3f5f"
            },
            "marker": {
             "line": {
              "color": "#E5ECF6",
              "width": 0.5
             },
             "pattern": {
              "fillmode": "overlay",
              "size": 10,
              "solidity": 0.2
             }
            },
            "type": "bar"
           }
          ],
          "barpolar": [
           {
            "marker": {
             "line": {
              "color": "#E5ECF6",
              "width": 0.5
             },
             "pattern": {
              "fillmode": "overlay",
              "size": 10,
              "solidity": 0.2
             }
            },
            "type": "barpolar"
           }
          ],
          "carpet": [
           {
            "aaxis": {
             "endlinecolor": "#2a3f5f",
             "gridcolor": "white",
             "linecolor": "white",
             "minorgridcolor": "white",
             "startlinecolor": "#2a3f5f"
            },
            "baxis": {
             "endlinecolor": "#2a3f5f",
             "gridcolor": "white",
             "linecolor": "white",
             "minorgridcolor": "white",
             "startlinecolor": "#2a3f5f"
            },
            "type": "carpet"
           }
          ],
          "choropleth": [
           {
            "colorbar": {
             "outlinewidth": 0,
             "ticks": ""
            },
            "type": "choropleth"
           }
          ],
          "contour": [
           {
            "colorbar": {
             "outlinewidth": 0,
             "ticks": ""
            },
            "colorscale": [
             [
              0,
              "#0d0887"
             ],
             [
              0.1111111111111111,
              "#46039f"
             ],
             [
              0.2222222222222222,
              "#7201a8"
             ],
             [
              0.3333333333333333,
              "#9c179e"
             ],
             [
              0.4444444444444444,
              "#bd3786"
             ],
             [
              0.5555555555555556,
              "#d8576b"
             ],
             [
              0.6666666666666666,
              "#ed7953"
             ],
             [
              0.7777777777777778,
              "#fb9f3a"
             ],
             [
              0.8888888888888888,
              "#fdca26"
             ],
             [
              1,
              "#f0f921"
             ]
            ],
            "type": "contour"
           }
          ],
          "contourcarpet": [
           {
            "colorbar": {
             "outlinewidth": 0,
             "ticks": ""
            },
            "type": "contourcarpet"
           }
          ],
          "heatmap": [
           {
            "colorbar": {
             "outlinewidth": 0,
             "ticks": ""
            },
            "colorscale": [
             [
              0,
              "#0d0887"
             ],
             [
              0.1111111111111111,
              "#46039f"
             ],
             [
              0.2222222222222222,
              "#7201a8"
             ],
             [
              0.3333333333333333,
              "#9c179e"
             ],
             [
              0.4444444444444444,
              "#bd3786"
             ],
             [
              0.5555555555555556,
              "#d8576b"
             ],
             [
              0.6666666666666666,
              "#ed7953"
             ],
             [
              0.7777777777777778,
              "#fb9f3a"
             ],
             [
              0.8888888888888888,
              "#fdca26"
             ],
             [
              1,
              "#f0f921"
             ]
            ],
            "type": "heatmap"
           }
          ],
          "heatmapgl": [
           {
            "colorbar": {
             "outlinewidth": 0,
             "ticks": ""
            },
            "colorscale": [
             [
              0,
              "#0d0887"
             ],
             [
              0.1111111111111111,
              "#46039f"
             ],
             [
              0.2222222222222222,
              "#7201a8"
             ],
             [
              0.3333333333333333,
              "#9c179e"
             ],
             [
              0.4444444444444444,
              "#bd3786"
             ],
             [
              0.5555555555555556,
              "#d8576b"
             ],
             [
              0.6666666666666666,
              "#ed7953"
             ],
             [
              0.7777777777777778,
              "#fb9f3a"
             ],
             [
              0.8888888888888888,
              "#fdca26"
             ],
             [
              1,
              "#f0f921"
             ]
            ],
            "type": "heatmapgl"
           }
          ],
          "histogram": [
           {
            "marker": {
             "pattern": {
              "fillmode": "overlay",
              "size": 10,
              "solidity": 0.2
             }
            },
            "type": "histogram"
           }
          ],
          "histogram2d": [
           {
            "colorbar": {
             "outlinewidth": 0,
             "ticks": ""
            },
            "colorscale": [
             [
              0,
              "#0d0887"
             ],
             [
              0.1111111111111111,
              "#46039f"
             ],
             [
              0.2222222222222222,
              "#7201a8"
             ],
             [
              0.3333333333333333,
              "#9c179e"
             ],
             [
              0.4444444444444444,
              "#bd3786"
             ],
             [
              0.5555555555555556,
              "#d8576b"
             ],
             [
              0.6666666666666666,
              "#ed7953"
             ],
             [
              0.7777777777777778,
              "#fb9f3a"
             ],
             [
              0.8888888888888888,
              "#fdca26"
             ],
             [
              1,
              "#f0f921"
             ]
            ],
            "type": "histogram2d"
           }
          ],
          "histogram2dcontour": [
           {
            "colorbar": {
             "outlinewidth": 0,
             "ticks": ""
            },
            "colorscale": [
             [
              0,
              "#0d0887"
             ],
             [
              0.1111111111111111,
              "#46039f"
             ],
             [
              0.2222222222222222,
              "#7201a8"
             ],
             [
              0.3333333333333333,
              "#9c179e"
             ],
             [
              0.4444444444444444,
              "#bd3786"
             ],
             [
              0.5555555555555556,
              "#d8576b"
             ],
             [
              0.6666666666666666,
              "#ed7953"
             ],
             [
              0.7777777777777778,
              "#fb9f3a"
             ],
             [
              0.8888888888888888,
              "#fdca26"
             ],
             [
              1,
              "#f0f921"
             ]
            ],
            "type": "histogram2dcontour"
           }
          ],
          "mesh3d": [
           {
            "colorbar": {
             "outlinewidth": 0,
             "ticks": ""
            },
            "type": "mesh3d"
           }
          ],
          "parcoords": [
           {
            "line": {
             "colorbar": {
              "outlinewidth": 0,
              "ticks": ""
             }
            },
            "type": "parcoords"
           }
          ],
          "pie": [
           {
            "automargin": true,
            "type": "pie"
           }
          ],
          "scatter": [
           {
            "fillpattern": {
             "fillmode": "overlay",
             "size": 10,
             "solidity": 0.2
            },
            "type": "scatter"
           }
          ],
          "scatter3d": [
           {
            "line": {
             "colorbar": {
              "outlinewidth": 0,
              "ticks": ""
             }
            },
            "marker": {
             "colorbar": {
              "outlinewidth": 0,
              "ticks": ""
             }
            },
            "type": "scatter3d"
           }
          ],
          "scattercarpet": [
           {
            "marker": {
             "colorbar": {
              "outlinewidth": 0,
              "ticks": ""
             }
            },
            "type": "scattercarpet"
           }
          ],
          "scattergeo": [
           {
            "marker": {
             "colorbar": {
              "outlinewidth": 0,
              "ticks": ""
             }
            },
            "type": "scattergeo"
           }
          ],
          "scattergl": [
           {
            "marker": {
             "colorbar": {
              "outlinewidth": 0,
              "ticks": ""
             }
            },
            "type": "scattergl"
           }
          ],
          "scattermapbox": [
           {
            "marker": {
             "colorbar": {
              "outlinewidth": 0,
              "ticks": ""
             }
            },
            "type": "scattermapbox"
           }
          ],
          "scatterpolar": [
           {
            "marker": {
             "colorbar": {
              "outlinewidth": 0,
              "ticks": ""
             }
            },
            "type": "scatterpolar"
           }
          ],
          "scatterpolargl": [
           {
            "marker": {
             "colorbar": {
              "outlinewidth": 0,
              "ticks": ""
             }
            },
            "type": "scatterpolargl"
           }
          ],
          "scatterternary": [
           {
            "marker": {
             "colorbar": {
              "outlinewidth": 0,
              "ticks": ""
             }
            },
            "type": "scatterternary"
           }
          ],
          "surface": [
           {
            "colorbar": {
             "outlinewidth": 0,
             "ticks": ""
            },
            "colorscale": [
             [
              0,
              "#0d0887"
             ],
             [
              0.1111111111111111,
              "#46039f"
             ],
             [
              0.2222222222222222,
              "#7201a8"
             ],
             [
              0.3333333333333333,
              "#9c179e"
             ],
             [
              0.4444444444444444,
              "#bd3786"
             ],
             [
              0.5555555555555556,
              "#d8576b"
             ],
             [
              0.6666666666666666,
              "#ed7953"
             ],
             [
              0.7777777777777778,
              "#fb9f3a"
             ],
             [
              0.8888888888888888,
              "#fdca26"
             ],
             [
              1,
              "#f0f921"
             ]
            ],
            "type": "surface"
           }
          ],
          "table": [
           {
            "cells": {
             "fill": {
              "color": "#EBF0F8"
             },
             "line": {
              "color": "white"
             }
            },
            "header": {
             "fill": {
              "color": "#C8D4E3"
             },
             "line": {
              "color": "white"
             }
            },
            "type": "table"
           }
          ]
         },
         "layout": {
          "annotationdefaults": {
           "arrowcolor": "#2a3f5f",
           "arrowhead": 0,
           "arrowwidth": 1
          },
          "autotypenumbers": "strict",
          "coloraxis": {
           "colorbar": {
            "outlinewidth": 0,
            "ticks": ""
           }
          },
          "colorscale": {
           "diverging": [
            [
             0,
             "#8e0152"
            ],
            [
             0.1,
             "#c51b7d"
            ],
            [
             0.2,
             "#de77ae"
            ],
            [
             0.3,
             "#f1b6da"
            ],
            [
             0.4,
             "#fde0ef"
            ],
            [
             0.5,
             "#f7f7f7"
            ],
            [
             0.6,
             "#e6f5d0"
            ],
            [
             0.7,
             "#b8e186"
            ],
            [
             0.8,
             "#7fbc41"
            ],
            [
             0.9,
             "#4d9221"
            ],
            [
             1,
             "#276419"
            ]
           ],
           "sequential": [
            [
             0,
             "#0d0887"
            ],
            [
             0.1111111111111111,
             "#46039f"
            ],
            [
             0.2222222222222222,
             "#7201a8"
            ],
            [
             0.3333333333333333,
             "#9c179e"
            ],
            [
             0.4444444444444444,
             "#bd3786"
            ],
            [
             0.5555555555555556,
             "#d8576b"
            ],
            [
             0.6666666666666666,
             "#ed7953"
            ],
            [
             0.7777777777777778,
             "#fb9f3a"
            ],
            [
             0.8888888888888888,
             "#fdca26"
            ],
            [
             1,
             "#f0f921"
            ]
           ],
           "sequentialminus": [
            [
             0,
             "#0d0887"
            ],
            [
             0.1111111111111111,
             "#46039f"
            ],
            [
             0.2222222222222222,
             "#7201a8"
            ],
            [
             0.3333333333333333,
             "#9c179e"
            ],
            [
             0.4444444444444444,
             "#bd3786"
            ],
            [
             0.5555555555555556,
             "#d8576b"
            ],
            [
             0.6666666666666666,
             "#ed7953"
            ],
            [
             0.7777777777777778,
             "#fb9f3a"
            ],
            [
             0.8888888888888888,
             "#fdca26"
            ],
            [
             1,
             "#f0f921"
            ]
           ]
          },
          "colorway": [
           "#636efa",
           "#EF553B",
           "#00cc96",
           "#ab63fa",
           "#FFA15A",
           "#19d3f3",
           "#FF6692",
           "#B6E880",
           "#FF97FF",
           "#FECB52"
          ],
          "font": {
           "color": "#2a3f5f"
          },
          "geo": {
           "bgcolor": "white",
           "lakecolor": "white",
           "landcolor": "#E5ECF6",
           "showlakes": true,
           "showland": true,
           "subunitcolor": "white"
          },
          "hoverlabel": {
           "align": "left"
          },
          "hovermode": "closest",
          "mapbox": {
           "style": "light"
          },
          "paper_bgcolor": "white",
          "plot_bgcolor": "#E5ECF6",
          "polar": {
           "angularaxis": {
            "gridcolor": "white",
            "linecolor": "white",
            "ticks": ""
           },
           "bgcolor": "#E5ECF6",
           "radialaxis": {
            "gridcolor": "white",
            "linecolor": "white",
            "ticks": ""
           }
          },
          "scene": {
           "xaxis": {
            "backgroundcolor": "#E5ECF6",
            "gridcolor": "white",
            "gridwidth": 2,
            "linecolor": "white",
            "showbackground": true,
            "ticks": "",
            "zerolinecolor": "white"
           },
           "yaxis": {
            "backgroundcolor": "#E5ECF6",
            "gridcolor": "white",
            "gridwidth": 2,
            "linecolor": "white",
            "showbackground": true,
            "ticks": "",
            "zerolinecolor": "white"
           },
           "zaxis": {
            "backgroundcolor": "#E5ECF6",
            "gridcolor": "white",
            "gridwidth": 2,
            "linecolor": "white",
            "showbackground": true,
            "ticks": "",
            "zerolinecolor": "white"
           }
          },
          "shapedefaults": {
           "line": {
            "color": "#2a3f5f"
           }
          },
          "ternary": {
           "aaxis": {
            "gridcolor": "white",
            "linecolor": "white",
            "ticks": ""
           },
           "baxis": {
            "gridcolor": "white",
            "linecolor": "white",
            "ticks": ""
           },
           "bgcolor": "#E5ECF6",
           "caxis": {
            "gridcolor": "white",
            "linecolor": "white",
            "ticks": ""
           }
          },
          "title": {
           "x": 0.05
          },
          "xaxis": {
           "automargin": true,
           "gridcolor": "white",
           "linecolor": "white",
           "ticks": "",
           "title": {
            "standoff": 15
           },
           "zerolinecolor": "white",
           "zerolinewidth": 2
          },
          "yaxis": {
           "automargin": true,
           "gridcolor": "white",
           "linecolor": "white",
           "ticks": "",
           "title": {
            "standoff": 15
           },
           "zerolinecolor": "white",
           "zerolinewidth": 2
          }
         }
        },
        "title": {
         "text": "Administración Pública y Tags Asociados"
        },
        "width": 1500,
        "xaxis": {
         "anchor": "y",
         "domain": [
          0,
          0.16799999999999998
         ],
         "nticks": 39,
         "tickangle": 45,
         "title": {
          "text": "Tags"
         }
        },
        "xaxis2": {
         "anchor": "y2",
         "domain": [
          0.208,
          0.376
         ],
         "nticks": 39,
         "tickangle": 45,
         "title": {
          "text": "Tags"
         }
        },
        "xaxis3": {
         "anchor": "y3",
         "domain": [
          0.416,
          0.584
         ],
         "nticks": 39,
         "tickangle": 45,
         "title": {
          "text": "Tags"
         }
        },
        "xaxis4": {
         "anchor": "y4",
         "domain": [
          0.624,
          0.792
         ],
         "nticks": 39,
         "tickangle": 45,
         "title": {
          "text": "Tags"
         }
        },
        "xaxis5": {
         "anchor": "y5",
         "domain": [
          0.832,
          1
         ],
         "nticks": 39,
         "tickangle": 45,
         "title": {
          "text": "Tags"
         }
        },
        "yaxis": {
         "anchor": "x",
         "domain": [
          0,
          1
         ]
        },
        "yaxis2": {
         "anchor": "x2",
         "domain": [
          0,
          1
         ]
        },
        "yaxis3": {
         "anchor": "x3",
         "domain": [
          0,
          1
         ]
        },
        "yaxis4": {
         "anchor": "x4",
         "domain": [
          0,
          1
         ]
        },
        "yaxis5": {
         "anchor": "x5",
         "domain": [
          0,
          1
         ]
        }
       }
      }
     },
     "metadata": {},
     "output_type": "display_data"
    }
   ],
   "source": [
    "import plotly.graph_objects as go\n",
    "from plotly.subplots import make_subplots\n",
    "\n",
    "# Filtrar el dataframe por lugar\n",
    "lugares = df['LUGAR'].unique()\n",
    "\n",
    "# Crear figura de subplots con una sola columna\n",
    "fig = make_subplots(rows=1, cols=len(lugares), subplot_titles=lugares)\n",
    "\n",
    "# Iterar sobre cada lugar y crear el gráfico de barras correspondiente\n",
    "for i, lugar in enumerate(lugares):\n",
    "    datos_lugar = df[df['LUGAR'] == lugar]\n",
    "    \n",
    "    fig.add_trace(\n",
    "        go.Bar(x=datos_lugar['tags_lematizados'], y=datos_lugar['frecuencia'], name=lugar,text=datos_lugar['frecuencia']),\n",
    "        row=1, col=i+1\n",
    "    )\n",
    "\n",
    "# Configurar diseño de los subplots\n",
    "fig.update_layout(height=400, width=300*len(lugares), showlegend=False, title=\"Administración Pública y Tags Asociados\")\n",
    "fig.update_xaxes(title_text=\"Tags\", tickangle=45, nticks=len(df['tags_lematizados'].unique()))\n",
    "\n",
    "# Mostrar el gráfico\n",
    "fig.show()\n",
    "\n"
   ]
  },
  {
   "cell_type": "code",
   "execution_count": 336,
   "metadata": {},
   "outputs": [
    {
     "data": {
      "text/plain": [
       "grupo\n",
       "medio-ambiente                127\n",
       "administracion-publica        116\n",
       "salud                         101\n",
       "movilidad                      56\n",
       "decretos                       45\n",
       "c                              45\n",
       "educacion                      44\n",
       "m                              44\n",
       "gobierno                       42\n",
       "urbanismo-y-territorio         41\n",
       "economia-y-finanzas            40\n",
       "datos-demograficos             38\n",
       "sueldos                        36\n",
       "economia                       36\n",
       "seguridad                      34\n",
       "cultura                        34\n",
       "ejido-urbano                   32\n",
       "cultura-y-turismo              30\n",
       "d                              30\n",
       "obras-y-servicios-publicos     29\n",
       "dtype: int64"
      ]
     },
     "execution_count": 336,
     "metadata": {},
     "output_type": "execute_result"
    }
   ],
   "source": [
    "matriz_tags_lematizados_agrupados.groupby(by='grupo').size().sort_values(ascending=False)[:20]"
   ]
  },
  {
   "cell_type": "code",
   "execution_count": 337,
   "metadata": {},
   "outputs": [
    {
     "data": {
      "application/vnd.plotly.v1+json": {
       "config": {
        "plotlyServerURL": "https://plot.ly"
       },
       "data": [
        {
         "name": "CABA",
         "text": [
          3,
          3,
          3,
          3,
          3,
          3,
          3
         ],
         "type": "bar",
         "x": [
          "educación",
          "mapa",
          "estudio",
          "curso",
          "servicio",
          "universidad",
          "academia"
         ],
         "xaxis": "x",
         "y": [
          3,
          3,
          3,
          3,
          3,
          3,
          3
         ],
         "yaxis": "y"
        },
        {
         "name": "CORRIENTES",
         "text": [
          10,
          8,
          8,
          8,
          8,
          2,
          1,
          1,
          1
         ],
         "type": "bar",
         "x": [
          "curso",
          "innovacion",
          "capacitación",
          "digital",
          "educación",
          "educacion",
          "tecnologia",
          "democratizacion",
          "acceso"
         ],
         "xaxis": "x2",
         "y": [
          10,
          8,
          8,
          8,
          8,
          2,
          1,
          1,
          1
         ],
         "yaxis": "y2"
        },
        {
         "name": "LINCOLN",
         "text": [
          69,
          46,
          46,
          32,
          23,
          9,
          9,
          9,
          8,
          5
         ],
         "type": "bar",
         "x": [
          "beca",
          "terciario",
          "2019",
          "educacion",
          "2018",
          "universitario",
          "inquilino",
          "transporte",
          "trasnporte especial",
          "secundario"
         ],
         "xaxis": "x3",
         "y": [
          69,
          46,
          46,
          32,
          23,
          9,
          9,
          9,
          8,
          5
         ],
         "yaxis": "y3"
        },
        {
         "name": "MERCEDES",
         "text": [
          3,
          1,
          1,
          1
         ],
         "type": "bar",
         "x": [
          "Educación",
          "secundario",
          "nivel inicial",
          "dgcye"
         ],
         "xaxis": "x4",
         "y": [
          3,
          1,
          1,
          1
         ],
         "yaxis": "y4"
        },
        {
         "name": "PERGAMINO",
         "text": [
          10,
          10,
          10,
          6,
          4,
          2
         ],
         "type": "bar",
         "x": [
          "Punto Digital Pergamino",
          "CDC",
          "CAPI",
          "Educación no Formal",
          "educación no Formal",
          "Gasto Público"
         ],
         "xaxis": "x5",
         "y": [
          10,
          10,
          10,
          6,
          4,
          2
         ],
         "yaxis": "y5"
        },
        {
         "name": "TIGRE",
         "text": [
          1,
          1,
          1,
          1,
          1
         ],
         "type": "bar",
         "x": [
          "Jardín",
          "centro de educación",
          "jardín de infante",
          "Escuelas",
          "Colegio"
         ],
         "xaxis": "x6",
         "y": [
          1,
          1,
          1,
          1,
          1
         ],
         "yaxis": "y6"
        }
       ],
       "layout": {
        "annotations": [
         {
          "font": {
           "size": 16
          },
          "showarrow": false,
          "text": "CABA",
          "x": 0.06944444444444445,
          "xanchor": "center",
          "xref": "paper",
          "y": 1,
          "yanchor": "bottom",
          "yref": "paper"
         },
         {
          "font": {
           "size": 16
          },
          "showarrow": false,
          "text": "CORRIENTES",
          "x": 0.24166666666666667,
          "xanchor": "center",
          "xref": "paper",
          "y": 1,
          "yanchor": "bottom",
          "yref": "paper"
         },
         {
          "font": {
           "size": 16
          },
          "showarrow": false,
          "text": "LINCOLN",
          "x": 0.41388888888888886,
          "xanchor": "center",
          "xref": "paper",
          "y": 1,
          "yanchor": "bottom",
          "yref": "paper"
         },
         {
          "font": {
           "size": 16
          },
          "showarrow": false,
          "text": "MERCEDES",
          "x": 0.5861111111111112,
          "xanchor": "center",
          "xref": "paper",
          "y": 1,
          "yanchor": "bottom",
          "yref": "paper"
         },
         {
          "font": {
           "size": 16
          },
          "showarrow": false,
          "text": "PERGAMINO",
          "x": 0.7583333333333333,
          "xanchor": "center",
          "xref": "paper",
          "y": 1,
          "yanchor": "bottom",
          "yref": "paper"
         },
         {
          "font": {
           "size": 16
          },
          "showarrow": false,
          "text": "TIGRE",
          "x": 0.9305555555555556,
          "xanchor": "center",
          "xref": "paper",
          "y": 1,
          "yanchor": "bottom",
          "yref": "paper"
         }
        ],
        "height": 400,
        "showlegend": false,
        "template": {
         "data": {
          "bar": [
           {
            "error_x": {
             "color": "#2a3f5f"
            },
            "error_y": {
             "color": "#2a3f5f"
            },
            "marker": {
             "line": {
              "color": "#E5ECF6",
              "width": 0.5
             },
             "pattern": {
              "fillmode": "overlay",
              "size": 10,
              "solidity": 0.2
             }
            },
            "type": "bar"
           }
          ],
          "barpolar": [
           {
            "marker": {
             "line": {
              "color": "#E5ECF6",
              "width": 0.5
             },
             "pattern": {
              "fillmode": "overlay",
              "size": 10,
              "solidity": 0.2
             }
            },
            "type": "barpolar"
           }
          ],
          "carpet": [
           {
            "aaxis": {
             "endlinecolor": "#2a3f5f",
             "gridcolor": "white",
             "linecolor": "white",
             "minorgridcolor": "white",
             "startlinecolor": "#2a3f5f"
            },
            "baxis": {
             "endlinecolor": "#2a3f5f",
             "gridcolor": "white",
             "linecolor": "white",
             "minorgridcolor": "white",
             "startlinecolor": "#2a3f5f"
            },
            "type": "carpet"
           }
          ],
          "choropleth": [
           {
            "colorbar": {
             "outlinewidth": 0,
             "ticks": ""
            },
            "type": "choropleth"
           }
          ],
          "contour": [
           {
            "colorbar": {
             "outlinewidth": 0,
             "ticks": ""
            },
            "colorscale": [
             [
              0,
              "#0d0887"
             ],
             [
              0.1111111111111111,
              "#46039f"
             ],
             [
              0.2222222222222222,
              "#7201a8"
             ],
             [
              0.3333333333333333,
              "#9c179e"
             ],
             [
              0.4444444444444444,
              "#bd3786"
             ],
             [
              0.5555555555555556,
              "#d8576b"
             ],
             [
              0.6666666666666666,
              "#ed7953"
             ],
             [
              0.7777777777777778,
              "#fb9f3a"
             ],
             [
              0.8888888888888888,
              "#fdca26"
             ],
             [
              1,
              "#f0f921"
             ]
            ],
            "type": "contour"
           }
          ],
          "contourcarpet": [
           {
            "colorbar": {
             "outlinewidth": 0,
             "ticks": ""
            },
            "type": "contourcarpet"
           }
          ],
          "heatmap": [
           {
            "colorbar": {
             "outlinewidth": 0,
             "ticks": ""
            },
            "colorscale": [
             [
              0,
              "#0d0887"
             ],
             [
              0.1111111111111111,
              "#46039f"
             ],
             [
              0.2222222222222222,
              "#7201a8"
             ],
             [
              0.3333333333333333,
              "#9c179e"
             ],
             [
              0.4444444444444444,
              "#bd3786"
             ],
             [
              0.5555555555555556,
              "#d8576b"
             ],
             [
              0.6666666666666666,
              "#ed7953"
             ],
             [
              0.7777777777777778,
              "#fb9f3a"
             ],
             [
              0.8888888888888888,
              "#fdca26"
             ],
             [
              1,
              "#f0f921"
             ]
            ],
            "type": "heatmap"
           }
          ],
          "heatmapgl": [
           {
            "colorbar": {
             "outlinewidth": 0,
             "ticks": ""
            },
            "colorscale": [
             [
              0,
              "#0d0887"
             ],
             [
              0.1111111111111111,
              "#46039f"
             ],
             [
              0.2222222222222222,
              "#7201a8"
             ],
             [
              0.3333333333333333,
              "#9c179e"
             ],
             [
              0.4444444444444444,
              "#bd3786"
             ],
             [
              0.5555555555555556,
              "#d8576b"
             ],
             [
              0.6666666666666666,
              "#ed7953"
             ],
             [
              0.7777777777777778,
              "#fb9f3a"
             ],
             [
              0.8888888888888888,
              "#fdca26"
             ],
             [
              1,
              "#f0f921"
             ]
            ],
            "type": "heatmapgl"
           }
          ],
          "histogram": [
           {
            "marker": {
             "pattern": {
              "fillmode": "overlay",
              "size": 10,
              "solidity": 0.2
             }
            },
            "type": "histogram"
           }
          ],
          "histogram2d": [
           {
            "colorbar": {
             "outlinewidth": 0,
             "ticks": ""
            },
            "colorscale": [
             [
              0,
              "#0d0887"
             ],
             [
              0.1111111111111111,
              "#46039f"
             ],
             [
              0.2222222222222222,
              "#7201a8"
             ],
             [
              0.3333333333333333,
              "#9c179e"
             ],
             [
              0.4444444444444444,
              "#bd3786"
             ],
             [
              0.5555555555555556,
              "#d8576b"
             ],
             [
              0.6666666666666666,
              "#ed7953"
             ],
             [
              0.7777777777777778,
              "#fb9f3a"
             ],
             [
              0.8888888888888888,
              "#fdca26"
             ],
             [
              1,
              "#f0f921"
             ]
            ],
            "type": "histogram2d"
           }
          ],
          "histogram2dcontour": [
           {
            "colorbar": {
             "outlinewidth": 0,
             "ticks": ""
            },
            "colorscale": [
             [
              0,
              "#0d0887"
             ],
             [
              0.1111111111111111,
              "#46039f"
             ],
             [
              0.2222222222222222,
              "#7201a8"
             ],
             [
              0.3333333333333333,
              "#9c179e"
             ],
             [
              0.4444444444444444,
              "#bd3786"
             ],
             [
              0.5555555555555556,
              "#d8576b"
             ],
             [
              0.6666666666666666,
              "#ed7953"
             ],
             [
              0.7777777777777778,
              "#fb9f3a"
             ],
             [
              0.8888888888888888,
              "#fdca26"
             ],
             [
              1,
              "#f0f921"
             ]
            ],
            "type": "histogram2dcontour"
           }
          ],
          "mesh3d": [
           {
            "colorbar": {
             "outlinewidth": 0,
             "ticks": ""
            },
            "type": "mesh3d"
           }
          ],
          "parcoords": [
           {
            "line": {
             "colorbar": {
              "outlinewidth": 0,
              "ticks": ""
             }
            },
            "type": "parcoords"
           }
          ],
          "pie": [
           {
            "automargin": true,
            "type": "pie"
           }
          ],
          "scatter": [
           {
            "fillpattern": {
             "fillmode": "overlay",
             "size": 10,
             "solidity": 0.2
            },
            "type": "scatter"
           }
          ],
          "scatter3d": [
           {
            "line": {
             "colorbar": {
              "outlinewidth": 0,
              "ticks": ""
             }
            },
            "marker": {
             "colorbar": {
              "outlinewidth": 0,
              "ticks": ""
             }
            },
            "type": "scatter3d"
           }
          ],
          "scattercarpet": [
           {
            "marker": {
             "colorbar": {
              "outlinewidth": 0,
              "ticks": ""
             }
            },
            "type": "scattercarpet"
           }
          ],
          "scattergeo": [
           {
            "marker": {
             "colorbar": {
              "outlinewidth": 0,
              "ticks": ""
             }
            },
            "type": "scattergeo"
           }
          ],
          "scattergl": [
           {
            "marker": {
             "colorbar": {
              "outlinewidth": 0,
              "ticks": ""
             }
            },
            "type": "scattergl"
           }
          ],
          "scattermapbox": [
           {
            "marker": {
             "colorbar": {
              "outlinewidth": 0,
              "ticks": ""
             }
            },
            "type": "scattermapbox"
           }
          ],
          "scatterpolar": [
           {
            "marker": {
             "colorbar": {
              "outlinewidth": 0,
              "ticks": ""
             }
            },
            "type": "scatterpolar"
           }
          ],
          "scatterpolargl": [
           {
            "marker": {
             "colorbar": {
              "outlinewidth": 0,
              "ticks": ""
             }
            },
            "type": "scatterpolargl"
           }
          ],
          "scatterternary": [
           {
            "marker": {
             "colorbar": {
              "outlinewidth": 0,
              "ticks": ""
             }
            },
            "type": "scatterternary"
           }
          ],
          "surface": [
           {
            "colorbar": {
             "outlinewidth": 0,
             "ticks": ""
            },
            "colorscale": [
             [
              0,
              "#0d0887"
             ],
             [
              0.1111111111111111,
              "#46039f"
             ],
             [
              0.2222222222222222,
              "#7201a8"
             ],
             [
              0.3333333333333333,
              "#9c179e"
             ],
             [
              0.4444444444444444,
              "#bd3786"
             ],
             [
              0.5555555555555556,
              "#d8576b"
             ],
             [
              0.6666666666666666,
              "#ed7953"
             ],
             [
              0.7777777777777778,
              "#fb9f3a"
             ],
             [
              0.8888888888888888,
              "#fdca26"
             ],
             [
              1,
              "#f0f921"
             ]
            ],
            "type": "surface"
           }
          ],
          "table": [
           {
            "cells": {
             "fill": {
              "color": "#EBF0F8"
             },
             "line": {
              "color": "white"
             }
            },
            "header": {
             "fill": {
              "color": "#C8D4E3"
             },
             "line": {
              "color": "white"
             }
            },
            "type": "table"
           }
          ]
         },
         "layout": {
          "annotationdefaults": {
           "arrowcolor": "#2a3f5f",
           "arrowhead": 0,
           "arrowwidth": 1
          },
          "autotypenumbers": "strict",
          "coloraxis": {
           "colorbar": {
            "outlinewidth": 0,
            "ticks": ""
           }
          },
          "colorscale": {
           "diverging": [
            [
             0,
             "#8e0152"
            ],
            [
             0.1,
             "#c51b7d"
            ],
            [
             0.2,
             "#de77ae"
            ],
            [
             0.3,
             "#f1b6da"
            ],
            [
             0.4,
             "#fde0ef"
            ],
            [
             0.5,
             "#f7f7f7"
            ],
            [
             0.6,
             "#e6f5d0"
            ],
            [
             0.7,
             "#b8e186"
            ],
            [
             0.8,
             "#7fbc41"
            ],
            [
             0.9,
             "#4d9221"
            ],
            [
             1,
             "#276419"
            ]
           ],
           "sequential": [
            [
             0,
             "#0d0887"
            ],
            [
             0.1111111111111111,
             "#46039f"
            ],
            [
             0.2222222222222222,
             "#7201a8"
            ],
            [
             0.3333333333333333,
             "#9c179e"
            ],
            [
             0.4444444444444444,
             "#bd3786"
            ],
            [
             0.5555555555555556,
             "#d8576b"
            ],
            [
             0.6666666666666666,
             "#ed7953"
            ],
            [
             0.7777777777777778,
             "#fb9f3a"
            ],
            [
             0.8888888888888888,
             "#fdca26"
            ],
            [
             1,
             "#f0f921"
            ]
           ],
           "sequentialminus": [
            [
             0,
             "#0d0887"
            ],
            [
             0.1111111111111111,
             "#46039f"
            ],
            [
             0.2222222222222222,
             "#7201a8"
            ],
            [
             0.3333333333333333,
             "#9c179e"
            ],
            [
             0.4444444444444444,
             "#bd3786"
            ],
            [
             0.5555555555555556,
             "#d8576b"
            ],
            [
             0.6666666666666666,
             "#ed7953"
            ],
            [
             0.7777777777777778,
             "#fb9f3a"
            ],
            [
             0.8888888888888888,
             "#fdca26"
            ],
            [
             1,
             "#f0f921"
            ]
           ]
          },
          "colorway": [
           "#636efa",
           "#EF553B",
           "#00cc96",
           "#ab63fa",
           "#FFA15A",
           "#19d3f3",
           "#FF6692",
           "#B6E880",
           "#FF97FF",
           "#FECB52"
          ],
          "font": {
           "color": "#2a3f5f"
          },
          "geo": {
           "bgcolor": "white",
           "lakecolor": "white",
           "landcolor": "#E5ECF6",
           "showlakes": true,
           "showland": true,
           "subunitcolor": "white"
          },
          "hoverlabel": {
           "align": "left"
          },
          "hovermode": "closest",
          "mapbox": {
           "style": "light"
          },
          "paper_bgcolor": "white",
          "plot_bgcolor": "#E5ECF6",
          "polar": {
           "angularaxis": {
            "gridcolor": "white",
            "linecolor": "white",
            "ticks": ""
           },
           "bgcolor": "#E5ECF6",
           "radialaxis": {
            "gridcolor": "white",
            "linecolor": "white",
            "ticks": ""
           }
          },
          "scene": {
           "xaxis": {
            "backgroundcolor": "#E5ECF6",
            "gridcolor": "white",
            "gridwidth": 2,
            "linecolor": "white",
            "showbackground": true,
            "ticks": "",
            "zerolinecolor": "white"
           },
           "yaxis": {
            "backgroundcolor": "#E5ECF6",
            "gridcolor": "white",
            "gridwidth": 2,
            "linecolor": "white",
            "showbackground": true,
            "ticks": "",
            "zerolinecolor": "white"
           },
           "zaxis": {
            "backgroundcolor": "#E5ECF6",
            "gridcolor": "white",
            "gridwidth": 2,
            "linecolor": "white",
            "showbackground": true,
            "ticks": "",
            "zerolinecolor": "white"
           }
          },
          "shapedefaults": {
           "line": {
            "color": "#2a3f5f"
           }
          },
          "ternary": {
           "aaxis": {
            "gridcolor": "white",
            "linecolor": "white",
            "ticks": ""
           },
           "baxis": {
            "gridcolor": "white",
            "linecolor": "white",
            "ticks": ""
           },
           "bgcolor": "#E5ECF6",
           "caxis": {
            "gridcolor": "white",
            "linecolor": "white",
            "ticks": ""
           }
          },
          "title": {
           "x": 0.05
          },
          "xaxis": {
           "automargin": true,
           "gridcolor": "white",
           "linecolor": "white",
           "ticks": "",
           "title": {
            "standoff": 15
           },
           "zerolinecolor": "white",
           "zerolinewidth": 2
          },
          "yaxis": {
           "automargin": true,
           "gridcolor": "white",
           "linecolor": "white",
           "ticks": "",
           "title": {
            "standoff": 15
           },
           "zerolinecolor": "white",
           "zerolinewidth": 2
          }
         }
        },
        "title": {
         "text": "Administración Pública y Tags Asociados"
        },
        "width": 1800,
        "xaxis": {
         "anchor": "y",
         "domain": [
          0,
          0.1388888888888889
         ],
         "nticks": 37,
         "tickangle": 45,
         "title": {
          "text": "Tags"
         }
        },
        "xaxis2": {
         "anchor": "y2",
         "domain": [
          0.17222222222222222,
          0.3111111111111111
         ],
         "nticks": 37,
         "tickangle": 45,
         "title": {
          "text": "Tags"
         }
        },
        "xaxis3": {
         "anchor": "y3",
         "domain": [
          0.34444444444444444,
          0.48333333333333334
         ],
         "nticks": 37,
         "tickangle": 45,
         "title": {
          "text": "Tags"
         }
        },
        "xaxis4": {
         "anchor": "y4",
         "domain": [
          0.5166666666666667,
          0.6555555555555557
         ],
         "nticks": 37,
         "tickangle": 45,
         "title": {
          "text": "Tags"
         }
        },
        "xaxis5": {
         "anchor": "y5",
         "domain": [
          0.6888888888888889,
          0.8277777777777777
         ],
         "nticks": 37,
         "tickangle": 45,
         "title": {
          "text": "Tags"
         }
        },
        "xaxis6": {
         "anchor": "y6",
         "domain": [
          0.861111111111111,
          1
         ],
         "nticks": 37,
         "tickangle": 45,
         "title": {
          "text": "Tags"
         }
        },
        "yaxis": {
         "anchor": "x",
         "domain": [
          0,
          1
         ]
        },
        "yaxis2": {
         "anchor": "x2",
         "domain": [
          0,
          1
         ]
        },
        "yaxis3": {
         "anchor": "x3",
         "domain": [
          0,
          1
         ]
        },
        "yaxis4": {
         "anchor": "x4",
         "domain": [
          0,
          1
         ]
        },
        "yaxis5": {
         "anchor": "x5",
         "domain": [
          0,
          1
         ]
        },
        "yaxis6": {
         "anchor": "x6",
         "domain": [
          0,
          1
         ]
        }
       }
      }
     },
     "metadata": {},
     "output_type": "display_data"
    }
   ],
   "source": [
    "import plotly.graph_objects as go\n",
    "from plotly.subplots import make_subplots\n",
    "\n",
    "administracion_publica = matriz_tags_lematizados_agrupados[matriz_tags_lematizados_agrupados['grupo']=='educacion']\n",
    "administracion_publica['ciudad'].unique()\n",
    "\n",
    "\n",
    "df = administracion_publica\n",
    "top_10_tags_por_lugar = df.groupby(\"ciudad\").apply(lambda x: x.nlargest(10, \"frecuencia\")).reset_index(drop=True)\n",
    "df = top_10_tags_por_lugar\n",
    "df.columns = ['tags_lematizados','grupo','LUGAR','frecuencia']\n",
    "\n",
    "\n",
    "# Filtrar el dataframe por lugar\n",
    "lugares = df['LUGAR'].unique()\n",
    "\n",
    "# Crear figura de subplots con una sola columna\n",
    "fig = make_subplots(rows=1, cols=len(lugares), subplot_titles=lugares)\n",
    "\n",
    "# Iterar sobre cada lugar y crear el gráfico de barras correspondiente\n",
    "for i, lugar in enumerate(lugares):\n",
    "    datos_lugar = df[df['LUGAR'] == lugar]\n",
    "    \n",
    "    fig.add_trace(\n",
    "        go.Bar(x=datos_lugar['tags_lematizados'], y=datos_lugar['frecuencia'], name=lugar,text=datos_lugar['frecuencia']),\n",
    "        row=1, col=i+1\n",
    "    )\n",
    "\n",
    "# Configurar diseño de los subplots\n",
    "fig.update_layout(height=400, width=300*len(lugares), showlegend=False, title=\"Administración Pública y Tags Asociados\")\n",
    "fig.update_xaxes(title_text=\"Tags\", tickangle=45, nticks=len(df['tags_lematizados'].unique()))\n",
    "\n",
    "# Mostrar el gráfico\n",
    "fig.show()\n",
    "\n"
   ]
  },
  {
   "cell_type": "code",
   "execution_count": 1,
   "metadata": {},
   "outputs": [
    {
     "data": {
      "text/plain": [
       "0.7142857142857143"
      ]
     },
     "execution_count": 1,
     "metadata": {},
     "output_type": "execute_result"
    }
   ],
   "source": [
    "10/14"
   ]
  },
  {
   "cell_type": "code",
   "execution_count": 3,
   "metadata": {},
   "outputs": [
    {
     "data": {
      "text/plain": [
       "0.6944444444444444"
      ]
     },
     "execution_count": 3,
     "metadata": {},
     "output_type": "execute_result"
    }
   ],
   "source": [
    "25/36"
   ]
  },
  {
   "cell_type": "code",
   "execution_count": null,
   "metadata": {},
   "outputs": [],
   "source": []
  }
 ],
 "metadata": {
  "kernelspec": {
   "display_name": "CKAN-NLP-Gjl3eVq_",
   "language": "python",
   "name": "python3"
  },
  "language_info": {
   "codemirror_mode": {
    "name": "ipython",
    "version": 3
   },
   "file_extension": ".py",
   "mimetype": "text/x-python",
   "name": "python",
   "nbconvert_exporter": "python",
   "pygments_lexer": "ipython3",
   "version": "3.10.6 (main, Jan 30 2023, 16:54:24) [Clang 14.0.0 (clang-1400.0.29.202)]"
  },
  "orig_nbformat": 4,
  "vscode": {
   "interpreter": {
    "hash": "050cb2762d592af5152edf7f7617ed0e802a4652c9fe7f8ef9a9c6e3a6e421f1"
   }
  }
 },
 "nbformat": 4,
 "nbformat_minor": 2
}
